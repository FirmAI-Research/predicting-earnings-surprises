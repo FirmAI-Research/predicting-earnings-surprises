{
 "cells": [
  {
   "cell_type": "code",
   "execution_count": 38,
   "metadata": {},
   "outputs": [
    {
     "data": {
      "text/plain": [
       "True"
      ]
     },
     "execution_count": 38,
     "metadata": {},
     "output_type": "execute_result"
    }
   ],
   "source": [
    "import time\n",
    "import pandas as pd\n",
    "import requests\n",
    "import json\n",
    "from decouple import config\n",
    "import os\n",
    "from dotenv import load_dotenv\n",
    "from datetime import date\n",
    "from datetime import timedelta \n",
    "\n",
    "# Disable warnings\n",
    "import urllib3\n",
    "urllib3.disable_warnings(urllib3.exceptions.InsecureRequestWarning)\n",
    "load_dotenv()"
   ]
  },
  {
   "cell_type": "code",
   "execution_count": 25,
   "metadata": {},
   "outputs": [],
   "source": [
    "def get_jsonparsed_data(url):\n",
    "    \"\"\"\n",
    "    Sends a GET request to FMP's Earning Surprise API and returns the resulting data in a dictionary\n",
    "    \"\"\"\n",
    "    # sending get request and saving the response as response object\n",
    "    response = requests.get(url=url)\n",
    "    data = json.loads(response.text)\n",
    "    return data"
   ]
  },
  {
   "cell_type": "code",
   "execution_count": 26,
   "metadata": {
    "scrolled": true
   },
   "outputs": [],
   "source": [
    "# printing environment variables\n",
    "#print(os.getenv('FMP_API_KEY'))"
   ]
  },
  {
   "cell_type": "code",
   "execution_count": 27,
   "metadata": {},
   "outputs": [],
   "source": [
    "# Pull API key from .env file\n",
    "FMP_API_KEY = config(\"FMP_API_KEY\")\n",
    "res = get_jsonparsed_data(\"https://financialmodelingprep.com/api/v3/earning_calendar?apikey={}\".format(FMP_API_KEY))\n",
    "today = date.today()"
   ]
  },
  {
   "cell_type": "code",
   "execution_count": 57,
   "metadata": {
    "scrolled": false
   },
   "outputs": [
    {
     "name": "stdout",
     "output_type": "stream",
     "text": [
      "True\n",
      "          date symbol  eps  epsEstimated time       revenue  revenueEstimated\n",
      "0   2022-01-06    CCF  NaN           NaN  bmo  0.000000e+00               NaN\n",
      "1   2022-01-06     LW  NaN          0.33  bmo  0.000000e+00      9.978100e+08\n",
      "2   2022-01-06   HELE  NaN          2.87  bmo  0.000000e+00      5.663500e+08\n",
      "3   2022-01-06   SAFM  NaN          3.80  bmo  1.403711e+09      1.189290e+09\n",
      "4   2022-01-06    DCT  NaN         -0.02  amc  0.000000e+00      6.901000e+07\n",
      "..         ...    ...  ...           ...  ...           ...               ...\n",
      "74  2022-01-12   FRMO  NaN           NaN  amc  0.000000e+00      0.000000e+00\n",
      "75  2022-01-12   QEPC  NaN           NaN  bmo  0.000000e+00      0.000000e+00\n",
      "76  2022-01-12    HBT  NaN          0.40  bmo  0.000000e+00      3.880000e+07\n",
      "77  2022-01-12  CWLPF  NaN           NaN  amc  0.000000e+00      0.000000e+00\n",
      "78  2022-01-12   INFY  NaN          0.17  bmo  0.000000e+00      4.078430e+09\n",
      "\n",
      "[79 rows x 7 columns]\n"
     ]
    }
   ],
   "source": [
    "# Get calendar days seven days from now\n",
    "sevenday = today + timedelta(days=7)\n",
    "df = pd.DataFrame(res)\n",
    "df_sevenday = df.loc[df.date <= sevenday.strftime(\"%Y-%m-%d\")]\n",
    "print(df_sevenday)"
   ]
  },
  {
   "cell_type": "code",
   "execution_count": 81,
   "metadata": {
    "scrolled": false
   },
   "outputs": [
    {
     "name": "stdout",
     "output_type": "stream",
     "text": [
      "          date symbol  epsEstimated time  revenueEstimated\n",
      "0   2022-01-06    CCF           NaN  bmo               NaN\n",
      "1   2022-01-06     LW          0.33  bmo      9.978100e+08\n",
      "2   2022-01-06   HELE          2.87  bmo      5.663500e+08\n",
      "3   2022-01-06   SAFM          3.80  bmo      1.189290e+09\n",
      "4   2022-01-06    DCT         -0.02  amc      6.901000e+07\n",
      "..         ...    ...           ...  ...               ...\n",
      "74  2022-01-12   FRMO           NaN  amc      0.000000e+00\n",
      "75  2022-01-12   QEPC           NaN  bmo      0.000000e+00\n",
      "76  2022-01-12    HBT          0.40  bmo      3.880000e+07\n",
      "77  2022-01-12  CWLPF           NaN  amc      0.000000e+00\n",
      "78  2022-01-12   INFY          0.17  bmo      4.078430e+09\n",
      "\n",
      "[79 rows x 5 columns]\n"
     ]
    }
   ],
   "source": [
    "# Drop eps and revenue \n",
    "df_2 = df_sevenday.drop(columns=['eps', 'revenue'])\n",
    "print(df_2)"
   ]
  },
  {
   "cell_type": "code",
   "execution_count": 86,
   "metadata": {
    "scrolled": true
   },
   "outputs": [
    {
     "name": "stdout",
     "output_type": "stream",
     "text": [
      "          date symbol  epsEstimated time  revenueEstimated\n",
      "1   2022-01-06     LW          0.33  bmo      9.978100e+08\n",
      "2   2022-01-06   HELE          2.87  bmo      5.663500e+08\n",
      "3   2022-01-06   SAFM          3.80  bmo      1.189290e+09\n",
      "4   2022-01-06    DCT         -0.02  amc      6.901000e+07\n",
      "5   2022-01-06   WDFC          1.25  amc      1.292300e+08\n",
      "7   2022-01-06    LNN          0.79  bmo      1.404100e+08\n",
      "8   2022-01-06   BBBY          0.00  bmo      1.996760e+09\n",
      "9   2022-01-06   SCHN          1.63  bmo      8.570600e+08\n",
      "10  2022-01-06   ANGO          0.00  bmo      7.788000e+07\n",
      "11  2022-01-06    SLP          0.11  amc      1.126000e+07\n",
      "12  2022-01-06   KRUS         -0.16  amc      2.996000e+07\n",
      "13  2022-01-06     FC          0.03  amc      5.537000e+07\n",
      "15  2022-01-06    KOR         -0.02  bmo               NaN\n",
      "17  2022-01-06   NTIC          0.18  bmo      1.690000e+07\n",
      "18  2022-01-06   ANIX         -0.09  bmo               NaN\n",
      "20  2022-01-06   KZIA          0.00  bmo      0.000000e+00\n",
      "23  2022-01-06    STZ          2.70  bmo      2.284980e+09\n",
      "24  2022-01-06    WBA          1.35  bmo      3.274100e+10\n",
      "25  2022-01-06    CAG          0.68  bmo      3.015000e+09\n",
      "26  2022-01-07    AYI          2.21  bmo      8.807000e+08\n",
      "30  2022-01-07    GBX          0.14  bmo      5.325500e+08\n",
      "31  2022-01-07    NEA          0.00  bmo      0.000000e+00\n",
      "32  2022-01-07    NVG          0.00  bmo      0.000000e+00\n",
      "34  2022-01-10   REXR          0.15  bmo      1.273600e+08\n",
      "37  2022-01-10   TLRY         -0.09  bmo      2.411000e+08\n",
      "38  2022-01-10    CMC          1.30  bmo      2.059930e+09\n",
      "39  2022-01-10   ACCD         -0.68  amc      7.589000e+07\n",
      "40  2022-01-10    AZZ          0.82  bmo      2.453000e+08\n",
      "42  2022-01-10   LMNR         -0.26  amc      2.655000e+07\n",
      "45  2022-01-11   PCYO          0.00  amc      0.000000e+00\n",
      "49  2022-01-11    ACI          0.55  bmo      1.602700e+10\n",
      "50  2022-01-11    SNX          2.60  bmo      1.424850e+10\n",
      "51  2022-01-11    OGI         -0.03  bmo      2.376000e+07\n",
      "57  2022-01-12    WIT          0.08  bmo      2.636990e+09\n",
      "58  2022-01-12   INFO          0.71  bmo      1.141320e+09\n",
      "59  2022-01-12    SJR          0.32  amc      1.090750e+09\n",
      "60  2022-01-12    JEF          1.40  bmo      1.880280e+09\n",
      "61  2022-01-12    KBH          1.77  amc      1.708070e+09\n",
      "62  2022-01-12   ETWO          0.03  amc      1.390000e+08\n",
      "63  2022-01-12   BBCP          0.09  amc      8.289000e+07\n",
      "65  2022-01-12   VOLT          0.07  amc      2.235000e+08\n",
      "67  2022-01-12   HGSH          0.00  bmo      0.000000e+00\n",
      "76  2022-01-12    HBT          0.40  bmo      3.880000e+07\n",
      "78  2022-01-12   INFY          0.17  bmo      4.078430e+09\n"
     ]
    }
   ],
   "source": [
    "# Drop row if time or eps estimated is null\n",
    "df_final = df_2.drop(df_2[pd.isnull(df_2.time) | pd.isnull(df_2.epsEstimated)].index)\n",
    "print(df_final)"
   ]
  }
 ],
 "metadata": {
  "interpreter": {
   "hash": "b3ba2566441a7c06988d0923437866b63cedc61552a5af99d1f4fb67d367b25f"
  },
  "kernelspec": {
   "display_name": "Python 3 (ipykernel)",
   "language": "python",
   "name": "python3"
  },
  "language_info": {
   "codemirror_mode": {
    "name": "ipython",
    "version": 3
   },
   "file_extension": ".py",
   "mimetype": "text/x-python",
   "name": "python",
   "nbconvert_exporter": "python",
   "pygments_lexer": "ipython3",
   "version": "3.9.7"
  }
 },
 "nbformat": 4,
 "nbformat_minor": 2
}
