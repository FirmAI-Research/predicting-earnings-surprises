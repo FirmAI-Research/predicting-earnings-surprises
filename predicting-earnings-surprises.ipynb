{
 "cells": [
  {
   "cell_type": "markdown",
   "metadata": {},
   "source": [
    "# Predicting Earnings Surprises"
   ]
  },
  {
   "cell_type": "markdown",
   "metadata": {},
   "source": [
    "## Task"
   ]
  },
  {
   "cell_type": "markdown",
   "metadata": {},
   "source": [
    "We want to predict the magnitude of company's upcoming earnings announcement using a machine learning classification model. The model is trained on three types of data: earnings, pricing, and technical price action data. The optimized model outputs a result into one of three classes: positive, neutral, or negative. A 'positive' classification indicates a predicted surprise >15% of the estimated eps, a 'negative' classification indicates a predicted surprise <-15% of the estimated eps, and a 'neutral' classification indicates no predicted surprise (15% < x < -15%). "
   ]
  },
  {
   "cell_type": "markdown",
   "metadata": {},
   "source": [
    "## Data"
   ]
  },
  {
   "cell_type": "markdown",
   "metadata": {},
   "source": [
    "The data for training and testing the model came from several external data providers. Earning and pricing data was collected from Financial Modeling Prep's historical earnings calendar and daily indicator endpoints. Technical data is collected from FMP Cloud's daily technical indicator endpoint."
   ]
  },
  {
   "cell_type": "markdown",
   "metadata": {},
   "source": [
    "The schema below outlines the database architecture into an AWS RDS MySQL database:"
   ]
  },
  {
   "cell_type": "markdown",
   "metadata": {},
   "source": [
    "![Untitled Workspace (1)](https://user-images.githubusercontent.com/45079557/150410944-eb8c8e30-ac2d-4f23-bb03-cb5c3f489cfb.png)"
   ]
  },
  {
   "cell_type": "markdown",
   "metadata": {},
   "source": [
    "## Code"
   ]
  },
  {
   "cell_type": "code",
   "execution_count": 1,
   "metadata": {},
   "outputs": [],
   "source": [
    "import pandas as pd\n",
    "import numpy as np\n",
    "import matplotlib.pyplot as plt\n",
    "import pymysql\n",
    "import seaborn as sns\n",
    "from decouple import config\n",
    "from sqlalchemy import create_engine\n",
    "from sqlalchemy.orm import sessionmaker\n",
    "from scipy import stats"
   ]
  },
  {
   "cell_type": "code",
   "execution_count": 2,
   "metadata": {},
   "outputs": [],
   "source": [
    "# Set parameters for AWS database\n",
    "aws_hostname = config(\"AWS_HOST\")\n",
    "aws_database = config(\"AWS_DB\")\n",
    "aws_username = config(\"AWS_USER\")\n",
    "aws_password = config(\"AWS_PASS\")\n",
    "aws_port = config(\"AWS_PORT\")\n",
    "\n",
    "# Pull API keys from .env file\n",
    "FMP_API_KEY = config(\"FMP_API_KEY\")\n",
    "FMP_CLOUD_API_KEY = config(\"FMP_CLOUD_API_KEY\")"
   ]
  },
  {
   "cell_type": "code",
   "execution_count": 3,
   "metadata": {},
   "outputs": [],
   "source": [
    "db = pymysql.connect(host=aws_hostname,user=aws_username, password=aws_password, database='rds-python', charset='utf8mb4', cursorclass=pymysql.cursors.DictCursor)\n",
    "cursor = db.cursor()"
   ]
  },
  {
   "cell_type": "markdown",
   "metadata": {},
   "source": [
    "### Retrieve Data from MySQL Database"
   ]
  },
  {
   "cell_type": "code",
   "execution_count": 4,
   "metadata": {},
   "outputs": [],
   "source": [
    "cursor.execute(\"\"\"\n",
    "SELECT *, \n",
    "LAG(perc_change) OVER(PARTITION BY symbol ORDER BY STR_TO_DATE(`date`, '%c/%e/%y')) AS lastSurp, \n",
    "LAG(perc_change, 2) OVER(PARTITION BY symbol ORDER BY STR_TO_DATE(`date`, '%c/%e/%y')) AS last2Surp,\n",
    "\n",
    "LAG(eps) OVER(PARTITION BY symbol ORDER BY STR_TO_DATE(`date`, '%c/%e/%y')) AS lastEps,\n",
    "LAG(eps, 2) OVER(PARTITION BY symbol ORDER BY STR_TO_DATE(`date`, '%c/%e/%y')) AS last2Eps,\n",
    "\n",
    "LAG(epsEstimated) OVER(PARTITION BY symbol ORDER BY STR_TO_DATE(`date`, '%c/%e/%y')) AS lastEst,\n",
    "LAG(epsEstimated, 2) OVER(PARTITION BY symbol ORDER BY STR_TO_DATE(`date`, '%c/%e/%y')) AS last2Est\n",
    "FROM (\n",
    "    SELECT *, COALESCE((eps - epsEstimated) / ABS(epsEstimated) * 100,0) AS perc_change\n",
    "    FROM train_agg\n",
    "    ORDER BY STR_TO_DATE(`date`, '%c/%e/%y')\n",
    ")x\n",
    "\"\"\")\n",
    "train = cursor.fetchall()"
   ]
  },
  {
   "cell_type": "code",
   "execution_count": 5,
   "metadata": {},
   "outputs": [
    {
     "name": "stdout",
     "output_type": "stream",
     "text": [
      "<class 'pandas.core.frame.DataFrame'>\n",
      "RangeIndex: 75578 entries, 0 to 75577\n",
      "Data columns (total 36 columns):\n",
      " #   Column            Non-Null Count  Dtype  \n",
      "---  ------            --------------  -----  \n",
      " 0   id                75578 non-null  object \n",
      " 1   date              75578 non-null  object \n",
      " 2   symbol            75578 non-null  object \n",
      " 3   eps               75578 non-null  float64\n",
      " 4   epsEstimated      75578 non-null  float64\n",
      " 5   time              75578 non-null  object \n",
      " 6   open              75578 non-null  float64\n",
      " 7   high              75578 non-null  float64\n",
      " 8   low               75578 non-null  float64\n",
      " 9   close             75578 non-null  float64\n",
      " 10  adjClose          75578 non-null  float64\n",
      " 11  volume            75578 non-null  int64  \n",
      " 12  unadjustedVolume  75578 non-null  int64  \n",
      " 13  change            75578 non-null  float64\n",
      " 14  changePercent     75578 non-null  float64\n",
      " 15  vwap              75578 non-null  float64\n",
      " 16  changeOverTime    75578 non-null  float64\n",
      " 17  sma_5             75578 non-null  float64\n",
      " 18  sma_10            75578 non-null  float64\n",
      " 19  sma_20            75578 non-null  float64\n",
      " 20  ema_5             75578 non-null  float64\n",
      " 21  ema_10            75578 non-null  float64\n",
      " 22  ema_20            75578 non-null  float64\n",
      " 23  volatility_5      75578 non-null  float64\n",
      " 24  volatility_10     75578 non-null  float64\n",
      " 25  rsi_14            75578 non-null  float64\n",
      " 26  wma_5             75578 non-null  float64\n",
      " 27  wma_10            75578 non-null  float64\n",
      " 28  wma_20            75578 non-null  float64\n",
      " 29  perc_change       75578 non-null  float64\n",
      " 30  lastSurp          72956 non-null  float64\n",
      " 31  last2Surp         70438 non-null  float64\n",
      " 32  lastEps           72956 non-null  float64\n",
      " 33  last2Eps          70438 non-null  float64\n",
      " 34  lastEst           72956 non-null  float64\n",
      " 35  last2Est          70438 non-null  float64\n",
      "dtypes: float64(30), int64(2), object(4)\n",
      "memory usage: 20.8+ MB\n"
     ]
    }
   ],
   "source": [
    "train_df = pd.DataFrame(train)\n",
    "train_df.info()"
   ]
  },
  {
   "cell_type": "code",
   "execution_count": 6,
   "metadata": {},
   "outputs": [],
   "source": [
    "cursor.close()\n",
    "db.close()"
   ]
  },
  {
   "cell_type": "markdown",
   "metadata": {},
   "source": [
    "### Cleaning Data"
   ]
  },
  {
   "cell_type": "code",
   "execution_count": 7,
   "metadata": {},
   "outputs": [
    {
     "name": "stdout",
     "output_type": "stream",
     "text": [
      "...Start...\n",
      "                id    date symbol   eps  epsEstimated time       open  \\\n",
      "0  2012-01-09-WDFC  1/9/12   WDFC  0.42          0.54  amc  40.290001   \n",
      "1  2012-01-09-SCHN  1/9/12   SCHN  0.25          0.23  bmo  42.770000   \n",
      "\n",
      "        high    low      close  ...   wma_5  wma_10  wma_20  perc_change  \\\n",
      "0  41.560001  39.84  41.080002  ...  34.249  34.262  34.289   -22.222222   \n",
      "1  44.990002  42.75  44.180000  ...  32.457  32.094  31.963     8.695652   \n",
      "\n",
      "   lastSurp  last2Surp  lastEps  last2Eps  lastEst  last2Est  \n",
      "0       NaN        NaN      NaN       NaN      NaN       NaN  \n",
      "1       NaN        NaN      NaN       NaN      NaN       NaN  \n",
      "\n",
      "[2 rows x 36 columns]\n",
      "...End...\n",
      "                    id      date symbol   eps  epsEstimated time   open  high  \\\n",
      "75576  2021-12-29-FCEL  12/29/21   FCEL -0.07         -0.02  bmo  5.130  5.30   \n",
      "75577  2021-12-30-CRON  12/30/21   CRON -0.04         -0.09  bmo  3.795  4.18   \n",
      "\n",
      "         low  close  ...  wma_5  wma_10  wma_20  perc_change   lastSurp  \\\n",
      "75576  4.830   5.11  ...  5.817   6.040   6.369  -250.000000  20.000000   \n",
      "75577  3.792   4.01  ...  3.997   4.079   4.145    55.555556 -28.571429   \n",
      "\n",
      "        last2Surp  lastEps  last2Eps  lastEst  last2Est  \n",
      "75576  -20.000000    -0.04     -0.06    -0.05     -0.05  \n",
      "75577 -388.888889    -0.09     -0.44    -0.07     -0.09  \n",
      "\n",
      "[2 rows x 36 columns]\n"
     ]
    }
   ],
   "source": [
    "print(\"...Start...\")\n",
    "print(train_df.head(2))\n",
    "print(\"...End...\")\n",
    "print(train_df.tail(2))"
   ]
  },
  {
   "cell_type": "code",
   "execution_count": 8,
   "metadata": {},
   "outputs": [
    {
     "name": "stdout",
     "output_type": "stream",
     "text": [
      "5140\n",
      "                id     date symbol   eps  epsEstimated time       open  \\\n",
      "0  2012-01-09-WDFC   1/9/12   WDFC  0.42          0.54  amc  40.290001   \n",
      "1  2012-01-09-SCHN   1/9/12   SCHN  0.25          0.23  bmo  42.770000   \n",
      "2   2012-01-09-HWM   1/9/12    HWM -0.09         -0.09  bmo  20.824589   \n",
      "3   2012-01-09-AYI   1/9/12    AYI  0.74          0.67  bmo  54.980000   \n",
      "4   2012-01-10-SNX  1/10/12    SNX  1.37          1.14  amc  15.895000   \n",
      "\n",
      "        high        low      close  ...   wma_5  wma_10  wma_20  perc_change  \\\n",
      "0  41.560001  39.840000  41.080002  ...  34.249  34.262  34.289   -22.222222   \n",
      "1  44.990002  42.750000  44.180000  ...  32.457  32.094  31.963     8.695652   \n",
      "2  21.319340  20.734632  21.206898  ...   5.914   5.794   5.707     0.000000   \n",
      "3  57.810001  52.250000  54.939999  ...  50.719  50.557  49.791    10.447761   \n",
      "4  16.055000  15.800000  16.045000  ...  14.757  14.594  14.309    20.175439   \n",
      "\n",
      "   lastSurp  last2Surp  lastEps  last2Eps  lastEst  last2Est  \n",
      "0       NaN        NaN      NaN       NaN      NaN       NaN  \n",
      "1       NaN        NaN      NaN       NaN      NaN       NaN  \n",
      "2       NaN        NaN      NaN       NaN      NaN       NaN  \n",
      "3       NaN        NaN      NaN       NaN      NaN       NaN  \n",
      "4       NaN        NaN      NaN       NaN      NaN       NaN  \n",
      "\n",
      "[5 rows x 36 columns]\n"
     ]
    }
   ],
   "source": [
    "is_NaN = train_df.isnull()\n",
    "row_has_NaN = is_NaN.any(axis=1)\n",
    "forecast_these = train_df[row_has_NaN]\n",
    "print(len(forecast_these))\n",
    "print(forecast_these.head())"
   ]
  },
  {
   "cell_type": "code",
   "execution_count": 9,
   "metadata": {},
   "outputs": [
    {
     "data": {
      "text/html": [
       "<div>\n",
       "<style scoped>\n",
       "    .dataframe tbody tr th:only-of-type {\n",
       "        vertical-align: middle;\n",
       "    }\n",
       "\n",
       "    .dataframe tbody tr th {\n",
       "        vertical-align: top;\n",
       "    }\n",
       "\n",
       "    .dataframe thead th {\n",
       "        text-align: right;\n",
       "    }\n",
       "</style>\n",
       "<table border=\"1\" class=\"dataframe\">\n",
       "  <thead>\n",
       "    <tr style=\"text-align: right;\">\n",
       "      <th></th>\n",
       "      <th>id</th>\n",
       "      <th>date</th>\n",
       "      <th>symbol</th>\n",
       "      <th>eps</th>\n",
       "      <th>epsEstimated</th>\n",
       "      <th>time</th>\n",
       "      <th>open</th>\n",
       "      <th>high</th>\n",
       "      <th>low</th>\n",
       "      <th>close</th>\n",
       "      <th>...</th>\n",
       "      <th>wma_5</th>\n",
       "      <th>wma_10</th>\n",
       "      <th>wma_20</th>\n",
       "      <th>perc_change</th>\n",
       "      <th>lastSurp</th>\n",
       "      <th>last2Surp</th>\n",
       "      <th>lastEps</th>\n",
       "      <th>last2Eps</th>\n",
       "      <th>lastEst</th>\n",
       "      <th>last2Est</th>\n",
       "    </tr>\n",
       "  </thead>\n",
       "  <tbody>\n",
       "    <tr>\n",
       "      <th>0</th>\n",
       "      <td>2012-01-09-WDFC</td>\n",
       "      <td>1/9/12</td>\n",
       "      <td>WDFC</td>\n",
       "      <td>0.42</td>\n",
       "      <td>0.54</td>\n",
       "      <td>amc</td>\n",
       "      <td>40.290001</td>\n",
       "      <td>41.560001</td>\n",
       "      <td>39.840000</td>\n",
       "      <td>41.080002</td>\n",
       "      <td>...</td>\n",
       "      <td>34.249</td>\n",
       "      <td>34.262</td>\n",
       "      <td>34.289</td>\n",
       "      <td>-22.222222</td>\n",
       "      <td>NaN</td>\n",
       "      <td>NaN</td>\n",
       "      <td>NaN</td>\n",
       "      <td>NaN</td>\n",
       "      <td>NaN</td>\n",
       "      <td>NaN</td>\n",
       "    </tr>\n",
       "    <tr>\n",
       "      <th>1</th>\n",
       "      <td>2012-01-09-SCHN</td>\n",
       "      <td>1/9/12</td>\n",
       "      <td>SCHN</td>\n",
       "      <td>0.25</td>\n",
       "      <td>0.23</td>\n",
       "      <td>bmo</td>\n",
       "      <td>42.770000</td>\n",
       "      <td>44.990002</td>\n",
       "      <td>42.750000</td>\n",
       "      <td>44.180000</td>\n",
       "      <td>...</td>\n",
       "      <td>32.457</td>\n",
       "      <td>32.094</td>\n",
       "      <td>31.963</td>\n",
       "      <td>8.695652</td>\n",
       "      <td>NaN</td>\n",
       "      <td>NaN</td>\n",
       "      <td>NaN</td>\n",
       "      <td>NaN</td>\n",
       "      <td>NaN</td>\n",
       "      <td>NaN</td>\n",
       "    </tr>\n",
       "    <tr>\n",
       "      <th>2</th>\n",
       "      <td>2012-01-09-HWM</td>\n",
       "      <td>1/9/12</td>\n",
       "      <td>HWM</td>\n",
       "      <td>-0.09</td>\n",
       "      <td>-0.09</td>\n",
       "      <td>bmo</td>\n",
       "      <td>20.824589</td>\n",
       "      <td>21.319340</td>\n",
       "      <td>20.734632</td>\n",
       "      <td>21.206898</td>\n",
       "      <td>...</td>\n",
       "      <td>5.914</td>\n",
       "      <td>5.794</td>\n",
       "      <td>5.707</td>\n",
       "      <td>0.000000</td>\n",
       "      <td>NaN</td>\n",
       "      <td>NaN</td>\n",
       "      <td>NaN</td>\n",
       "      <td>NaN</td>\n",
       "      <td>NaN</td>\n",
       "      <td>NaN</td>\n",
       "    </tr>\n",
       "    <tr>\n",
       "      <th>3</th>\n",
       "      <td>2012-01-09-AYI</td>\n",
       "      <td>1/9/12</td>\n",
       "      <td>AYI</td>\n",
       "      <td>0.74</td>\n",
       "      <td>0.67</td>\n",
       "      <td>bmo</td>\n",
       "      <td>54.980000</td>\n",
       "      <td>57.810001</td>\n",
       "      <td>52.250000</td>\n",
       "      <td>54.939999</td>\n",
       "      <td>...</td>\n",
       "      <td>50.719</td>\n",
       "      <td>50.557</td>\n",
       "      <td>49.791</td>\n",
       "      <td>10.447761</td>\n",
       "      <td>NaN</td>\n",
       "      <td>NaN</td>\n",
       "      <td>NaN</td>\n",
       "      <td>NaN</td>\n",
       "      <td>NaN</td>\n",
       "      <td>NaN</td>\n",
       "    </tr>\n",
       "    <tr>\n",
       "      <th>4</th>\n",
       "      <td>2012-01-10-SNX</td>\n",
       "      <td>1/10/12</td>\n",
       "      <td>SNX</td>\n",
       "      <td>1.37</td>\n",
       "      <td>1.14</td>\n",
       "      <td>amc</td>\n",
       "      <td>15.895000</td>\n",
       "      <td>16.055000</td>\n",
       "      <td>15.800000</td>\n",
       "      <td>16.045000</td>\n",
       "      <td>...</td>\n",
       "      <td>14.757</td>\n",
       "      <td>14.594</td>\n",
       "      <td>14.309</td>\n",
       "      <td>20.175439</td>\n",
       "      <td>NaN</td>\n",
       "      <td>NaN</td>\n",
       "      <td>NaN</td>\n",
       "      <td>NaN</td>\n",
       "      <td>NaN</td>\n",
       "      <td>NaN</td>\n",
       "    </tr>\n",
       "    <tr>\n",
       "      <th>...</th>\n",
       "      <td>...</td>\n",
       "      <td>...</td>\n",
       "      <td>...</td>\n",
       "      <td>...</td>\n",
       "      <td>...</td>\n",
       "      <td>...</td>\n",
       "      <td>...</td>\n",
       "      <td>...</td>\n",
       "      <td>...</td>\n",
       "      <td>...</td>\n",
       "      <td>...</td>\n",
       "      <td>...</td>\n",
       "      <td>...</td>\n",
       "      <td>...</td>\n",
       "      <td>...</td>\n",
       "      <td>...</td>\n",
       "      <td>...</td>\n",
       "      <td>...</td>\n",
       "      <td>...</td>\n",
       "      <td>...</td>\n",
       "      <td>...</td>\n",
       "    </tr>\n",
       "    <tr>\n",
       "      <th>75533</th>\n",
       "      <td>2021-12-09-FLNC</td>\n",
       "      <td>12/9/21</td>\n",
       "      <td>FLNC</td>\n",
       "      <td>-0.13</td>\n",
       "      <td>-0.23</td>\n",
       "      <td>amc</td>\n",
       "      <td>30.300000</td>\n",
       "      <td>32.240000</td>\n",
       "      <td>29.750000</td>\n",
       "      <td>31.320000</td>\n",
       "      <td>...</td>\n",
       "      <td>31.653</td>\n",
       "      <td>32.106</td>\n",
       "      <td>33.388</td>\n",
       "      <td>43.478261</td>\n",
       "      <td>50.0</td>\n",
       "      <td>NaN</td>\n",
       "      <td>-0.13</td>\n",
       "      <td>NaN</td>\n",
       "      <td>-0.26</td>\n",
       "      <td>NaN</td>\n",
       "    </tr>\n",
       "    <tr>\n",
       "      <th>75538</th>\n",
       "      <td>2021-12-14-SKIL</td>\n",
       "      <td>12/14/21</td>\n",
       "      <td>SKIL</td>\n",
       "      <td>-0.32</td>\n",
       "      <td>-0.11</td>\n",
       "      <td>amc</td>\n",
       "      <td>10.310000</td>\n",
       "      <td>10.430000</td>\n",
       "      <td>9.830000</td>\n",
       "      <td>9.960000</td>\n",
       "      <td>...</td>\n",
       "      <td>10.500</td>\n",
       "      <td>10.677</td>\n",
       "      <td>11.080</td>\n",
       "      <td>-190.909091</td>\n",
       "      <td>NaN</td>\n",
       "      <td>NaN</td>\n",
       "      <td>NaN</td>\n",
       "      <td>NaN</td>\n",
       "      <td>NaN</td>\n",
       "      <td>NaN</td>\n",
       "    </tr>\n",
       "    <tr>\n",
       "      <th>75550</th>\n",
       "      <td>2021-12-16-EXFY</td>\n",
       "      <td>12/16/21</td>\n",
       "      <td>EXFY</td>\n",
       "      <td>0.58</td>\n",
       "      <td>0.30</td>\n",
       "      <td>bmo</td>\n",
       "      <td>37.830000</td>\n",
       "      <td>38.750000</td>\n",
       "      <td>34.000000</td>\n",
       "      <td>34.610000</td>\n",
       "      <td>...</td>\n",
       "      <td>36.168</td>\n",
       "      <td>36.925</td>\n",
       "      <td>39.037</td>\n",
       "      <td>93.333333</td>\n",
       "      <td>NaN</td>\n",
       "      <td>NaN</td>\n",
       "      <td>NaN</td>\n",
       "      <td>NaN</td>\n",
       "      <td>NaN</td>\n",
       "      <td>NaN</td>\n",
       "    </tr>\n",
       "    <tr>\n",
       "      <th>75555</th>\n",
       "      <td>2021-12-16-RIVN</td>\n",
       "      <td>12/16/21</td>\n",
       "      <td>RIVN</td>\n",
       "      <td>-7.68</td>\n",
       "      <td>-11.92</td>\n",
       "      <td>bmo</td>\n",
       "      <td>116.760000</td>\n",
       "      <td>117.000000</td>\n",
       "      <td>107.060000</td>\n",
       "      <td>108.870000</td>\n",
       "      <td>...</td>\n",
       "      <td>113.882</td>\n",
       "      <td>115.151</td>\n",
       "      <td>115.415</td>\n",
       "      <td>35.570470</td>\n",
       "      <td>NaN</td>\n",
       "      <td>NaN</td>\n",
       "      <td>NaN</td>\n",
       "      <td>NaN</td>\n",
       "      <td>NaN</td>\n",
       "      <td>NaN</td>\n",
       "    </tr>\n",
       "    <tr>\n",
       "      <th>75574</th>\n",
       "      <td>2021-12-23-VAXX</td>\n",
       "      <td>12/23/21</td>\n",
       "      <td>VAXX</td>\n",
       "      <td>-0.44</td>\n",
       "      <td>-0.12</td>\n",
       "      <td>bmo</td>\n",
       "      <td>6.580000</td>\n",
       "      <td>6.680000</td>\n",
       "      <td>6.280000</td>\n",
       "      <td>6.430000</td>\n",
       "      <td>...</td>\n",
       "      <td>6.513</td>\n",
       "      <td>6.643</td>\n",
       "      <td>7.422</td>\n",
       "      <td>-266.666667</td>\n",
       "      <td>NaN</td>\n",
       "      <td>NaN</td>\n",
       "      <td>NaN</td>\n",
       "      <td>NaN</td>\n",
       "      <td>NaN</td>\n",
       "      <td>NaN</td>\n",
       "    </tr>\n",
       "  </tbody>\n",
       "</table>\n",
       "<p>5140 rows × 36 columns</p>\n",
       "</div>"
      ],
      "text/plain": [
       "                    id      date symbol   eps  epsEstimated time        open  \\\n",
       "0      2012-01-09-WDFC    1/9/12   WDFC  0.42          0.54  amc   40.290001   \n",
       "1      2012-01-09-SCHN    1/9/12   SCHN  0.25          0.23  bmo   42.770000   \n",
       "2       2012-01-09-HWM    1/9/12    HWM -0.09         -0.09  bmo   20.824589   \n",
       "3       2012-01-09-AYI    1/9/12    AYI  0.74          0.67  bmo   54.980000   \n",
       "4       2012-01-10-SNX   1/10/12    SNX  1.37          1.14  amc   15.895000   \n",
       "...                ...       ...    ...   ...           ...  ...         ...   \n",
       "75533  2021-12-09-FLNC   12/9/21   FLNC -0.13         -0.23  amc   30.300000   \n",
       "75538  2021-12-14-SKIL  12/14/21   SKIL -0.32         -0.11  amc   10.310000   \n",
       "75550  2021-12-16-EXFY  12/16/21   EXFY  0.58          0.30  bmo   37.830000   \n",
       "75555  2021-12-16-RIVN  12/16/21   RIVN -7.68        -11.92  bmo  116.760000   \n",
       "75574  2021-12-23-VAXX  12/23/21   VAXX -0.44         -0.12  bmo    6.580000   \n",
       "\n",
       "             high         low       close  ...    wma_5   wma_10   wma_20  \\\n",
       "0       41.560001   39.840000   41.080002  ...   34.249   34.262   34.289   \n",
       "1       44.990002   42.750000   44.180000  ...   32.457   32.094   31.963   \n",
       "2       21.319340   20.734632   21.206898  ...    5.914    5.794    5.707   \n",
       "3       57.810001   52.250000   54.939999  ...   50.719   50.557   49.791   \n",
       "4       16.055000   15.800000   16.045000  ...   14.757   14.594   14.309   \n",
       "...           ...         ...         ...  ...      ...      ...      ...   \n",
       "75533   32.240000   29.750000   31.320000  ...   31.653   32.106   33.388   \n",
       "75538   10.430000    9.830000    9.960000  ...   10.500   10.677   11.080   \n",
       "75550   38.750000   34.000000   34.610000  ...   36.168   36.925   39.037   \n",
       "75555  117.000000  107.060000  108.870000  ...  113.882  115.151  115.415   \n",
       "75574    6.680000    6.280000    6.430000  ...    6.513    6.643    7.422   \n",
       "\n",
       "       perc_change  lastSurp  last2Surp  lastEps  last2Eps  lastEst  last2Est  \n",
       "0       -22.222222       NaN        NaN      NaN       NaN      NaN       NaN  \n",
       "1         8.695652       NaN        NaN      NaN       NaN      NaN       NaN  \n",
       "2         0.000000       NaN        NaN      NaN       NaN      NaN       NaN  \n",
       "3        10.447761       NaN        NaN      NaN       NaN      NaN       NaN  \n",
       "4        20.175439       NaN        NaN      NaN       NaN      NaN       NaN  \n",
       "...            ...       ...        ...      ...       ...      ...       ...  \n",
       "75533    43.478261      50.0        NaN    -0.13       NaN    -0.26       NaN  \n",
       "75538  -190.909091       NaN        NaN      NaN       NaN      NaN       NaN  \n",
       "75550    93.333333       NaN        NaN      NaN       NaN      NaN       NaN  \n",
       "75555    35.570470       NaN        NaN      NaN       NaN      NaN       NaN  \n",
       "75574  -266.666667       NaN        NaN      NaN       NaN      NaN       NaN  \n",
       "\n",
       "[5140 rows x 36 columns]"
      ]
     },
     "execution_count": 9,
     "metadata": {},
     "output_type": "execute_result"
    }
   ],
   "source": [
    "forecast_these"
   ]
  },
  {
   "cell_type": "code",
   "execution_count": 10,
   "metadata": {},
   "outputs": [
    {
     "name": "stdout",
     "output_type": "stream",
     "text": [
      "<class 'pandas.core.frame.DataFrame'>\n",
      "Int64Index: 75578 entries, 0 to 75577\n",
      "Data columns (total 36 columns):\n",
      " #   Column            Non-Null Count  Dtype  \n",
      "---  ------            --------------  -----  \n",
      " 0   id                75578 non-null  object \n",
      " 1   date              75578 non-null  object \n",
      " 2   symbol            75578 non-null  object \n",
      " 3   eps               75578 non-null  float64\n",
      " 4   epsEstimated      75578 non-null  float64\n",
      " 5   time              75578 non-null  object \n",
      " 6   open              75578 non-null  float64\n",
      " 7   high              75578 non-null  float64\n",
      " 8   low               75578 non-null  float64\n",
      " 9   close             75578 non-null  float64\n",
      " 10  adjClose          75578 non-null  float64\n",
      " 11  volume            75578 non-null  int64  \n",
      " 12  unadjustedVolume  75578 non-null  int64  \n",
      " 13  change            75578 non-null  float64\n",
      " 14  changePercent     75578 non-null  float64\n",
      " 15  vwap              75578 non-null  float64\n",
      " 16  changeOverTime    75578 non-null  float64\n",
      " 17  sma_5             75578 non-null  float64\n",
      " 18  sma_10            75578 non-null  float64\n",
      " 19  sma_20            75578 non-null  float64\n",
      " 20  ema_5             75578 non-null  float64\n",
      " 21  ema_10            75578 non-null  float64\n",
      " 22  ema_20            75578 non-null  float64\n",
      " 23  volatility_5      75578 non-null  float64\n",
      " 24  volatility_10     75578 non-null  float64\n",
      " 25  rsi_14            75578 non-null  float64\n",
      " 26  wma_5             75578 non-null  float64\n",
      " 27  wma_10            75578 non-null  float64\n",
      " 28  wma_20            75578 non-null  float64\n",
      " 29  perc_change       75578 non-null  float64\n",
      " 30  lastSurp          72956 non-null  float64\n",
      " 31  last2Surp         70438 non-null  float64\n",
      " 32  lastEps           72956 non-null  float64\n",
      " 33  last2Eps          70438 non-null  float64\n",
      " 34  lastEst           72956 non-null  float64\n",
      " 35  last2Est          70438 non-null  float64\n",
      "dtypes: float64(30), int64(2), object(4)\n",
      "memory usage: 21.3+ MB\n",
      "None\n"
     ]
    }
   ],
   "source": [
    "train_df = train_df[train_df[\"eps\"].notna()]\n",
    "df = train_df\n",
    "print(df.info())"
   ]
  },
  {
   "cell_type": "markdown",
   "metadata": {},
   "source": [
    "### EDA/Feature Engineering"
   ]
  },
  {
   "cell_type": "code",
   "execution_count": 11,
   "metadata": {},
   "outputs": [
    {
     "data": {
      "image/png": "[encoded data removed]",
      "text/plain": [
       "<Figure size 432x288 with 1 Axes>"
      ]
     },
     "metadata": {
      "needs_background": "light"
     },
     "output_type": "display_data"
    }
   ],
   "source": [
    "plt.scatter(pd.to_datetime(df[\"date\"]), df[\"perc_change\"])\n",
    "plt.show()"
   ]
  },
  {
   "cell_type": "markdown",
   "metadata": {},
   "source": [
    "Few outliers are present in the percentage difference between EPS and EPS estimated. Therefore, we will fitler out rows that are greater than 3 or less than -3 standard deviations away."
   ]
  },
  {
   "cell_type": "code",
   "execution_count": 12,
   "metadata": {},
   "outputs": [
    {
     "name": "stdout",
     "output_type": "stream",
     "text": [
      "Earnings Surprise Average: 8.697451443710912\n"
     ]
    }
   ],
   "source": [
    "df = df[df.perc_change.between(df.perc_change.quantile(.01), df.perc_change.quantile(.99))]\n",
    "print(\"Earnings Surprise Average: {}\".format(df[\"perc_change\"].mean()))"
   ]
  },
  {
   "cell_type": "markdown",
   "metadata": {},
   "source": [
    "#### Distribution of Historical Earnings Surprises"
   ]
  },
  {
   "cell_type": "code",
   "execution_count": 13,
   "metadata": {},
   "outputs": [
    {
     "data": {
      "image/png": "[encoded data removed]",
      "text/plain": [
       "<Figure size 432x288 with 1 Axes>"
      ]
     },
     "metadata": {
      "needs_background": "light"
     },
     "output_type": "display_data"
    }
   ],
   "source": [
    "num_bins = 100\n",
    "plt.hist(df[\"perc_change\"], num_bins, facecolor='blue', alpha=0.5)\n",
    "plt.xlabel('EPS Difference (EPS - EPS Estimated)')\n",
    "plt.ylabel('Number of Earnings')\n",
    "plt.title('Histogram of Earnings Surprises')\n",
    "plt.grid(True)\n",
    "plt.tight_layout()\n",
    "plt.savefig('visuals/histogram_eps_diff.png', facecolor='white', transparent=False)\n",
    "plt.show()"
   ]
  },
  {
   "cell_type": "markdown",
   "metadata": {},
   "source": [
    "After removing outliers, we can see that the majority of historical earnings follow a normal distribution around the mean of 9%."
   ]
  },
  {
   "cell_type": "markdown",
   "metadata": {},
   "source": [
    "#### Significant Earnings Surprise Breakdown"
   ]
  },
  {
   "cell_type": "code",
   "execution_count": 14,
   "metadata": {},
   "outputs": [
    {
     "name": "stdout",
     "output_type": "stream",
     "text": [
      "20858\n",
      "-------------\n",
      "10443\n",
      "-------------\n",
      "42644\n"
     ]
    }
   ],
   "source": [
    "pos_surp_thres = 15\n",
    "neg_surp_thres = -15\n",
    "\n",
    "pos_surp = df[(df.perc_change > pos_surp_thres)]\n",
    "neg_surp = df[(df.perc_change < neg_surp_thres)]\n",
    "neu_surp = df[(df.perc_change < pos_surp_thres) & (df.perc_change > neg_surp_thres)]\n",
    "\n",
    "x = [\"Positive\", \"Neutral\", \"Negative\"]\n",
    "surprises = [len(pos_surp), len(neu_surp), len(neg_surp)]\n",
    "\n",
    "print(len(pos_surp))\n",
    "print(\"-------------\")\n",
    "print(len(neg_surp))\n",
    "print(\"-------------\")\n",
    "print(len(neu_surp))"
   ]
  },
  {
   "cell_type": "code",
   "execution_count": 15,
   "metadata": {},
   "outputs": [
    {
     "data": {
      "image/png": "[encoded data removed]",
      "text/plain": [
       "<Figure size 432x288 with 1 Axes>"
      ]
     },
     "metadata": {
      "needs_background": "light"
     },
     "output_type": "display_data"
    }
   ],
   "source": [
    "# Breakdown of the total number of each type of surprise in the dataset\n",
    "# Positive: >15% surprise\n",
    "# Neutral: <15% surprise and >-15% surprise\n",
    "# Negative: <-15% surprise\n",
    "plt.bar(x, surprises, color=['green', 'yellow', 'red'], alpha=0.5)\n",
    "plt.ylabel('Number of Earnings')\n",
    "plt.title('Earnings Surprise Breakdown')\n",
    "plt.tight_layout()\n",
    "plt.savefig('visuals/earn_bar.png', facecolor='white', transparent=False)\n",
    "plt.show()"
   ]
  },
  {
   "cell_type": "markdown",
   "metadata": {},
   "source": [
    "From the bar chart above, there are significantly more positive earnings surprises than negative earnings surprises. Therefore, it might be more lucrative, you only go long plays on earnings. "
   ]
  },
  {
   "cell_type": "markdown",
   "metadata": {},
   "source": [
    "#### Earnings Surprise Breakdown Based on Earnings Time"
   ]
  },
  {
   "cell_type": "code",
   "execution_count": 16,
   "metadata": {},
   "outputs": [
    {
     "name": "stdout",
     "output_type": "stream",
     "text": [
      "['amc' 'bmo']\n"
     ]
    }
   ],
   "source": [
    "print(df[\"time\"].unique())"
   ]
  },
  {
   "cell_type": "code",
   "execution_count": 17,
   "metadata": {},
   "outputs": [],
   "source": [
    "pos_bmo = df[(df.perc_change > pos_surp_thres) & (df[\"time\"] == 'bmo')]\n",
    "pos_amc = df[(df.perc_change > pos_surp_thres) & (df[\"time\"] == 'amc')]\n",
    "neu_bmo = df[(df.perc_change < pos_surp_thres) & (df.perc_change > neg_surp_thres) & (df[\"time\"] == 'bmo')]\n",
    "neu_amc = df[(df.perc_change < pos_surp_thres) & (df.perc_change > neg_surp_thres) & (df[\"time\"] == 'amc')]\n",
    "neg_bmo = df[(df.perc_change < neg_surp_thres) & (df[\"time\"] == 'bmo')]\n",
    "neg_amc = df[(df.perc_change < neg_surp_thres) & (df[\"time\"] == 'amc')]"
   ]
  },
  {
   "cell_type": "code",
   "execution_count": 18,
   "metadata": {},
   "outputs": [],
   "source": [
    "x = [\"Positive\", \"Neutral\", \"Negative\"]\n",
    "surprises_bmo = [len(pos_bmo), len(neu_bmo), len(neg_bmo)]\n",
    "surprises_amc = [len(pos_amc), len(neu_amc), len(neg_amc)]"
   ]
  },
  {
   "cell_type": "code",
   "execution_count": 19,
   "metadata": {},
   "outputs": [
    {
     "data": {
      "image/png": "[encoded data removed]",
      "text/plain": [
       "<Figure size 432x288 with 1 Axes>"
      ]
     },
     "metadata": {
      "needs_background": "light"
     },
     "output_type": "display_data"
    }
   ],
   "source": [
    "ind = np.arange(3) \n",
    "width = 0.35       \n",
    "plt.bar(ind, surprises_bmo, width, label='Before Market Open', color='blue', alpha=0.5)\n",
    "plt.bar(ind+width, surprises_amc, width,\n",
    "    label='After Market Close', color='red', alpha=0.5)\n",
    "\n",
    "plt.ylabel('Number of Earnings')\n",
    "plt.title('Earnings Surprise Breakdown By Earnings Time')\n",
    "\n",
    "plt.xticks(ind + width / 2, ('Positive', 'Neutral', 'Negative'))\n",
    "plt.legend(loc='best')\n",
    "plt.tight_layout()\n",
    "plt.savefig('visuals/earn_bar_time.png', facecolor='white', transparent=False)\n",
    "plt.show()\n"
   ]
  },
  {
   "cell_type": "markdown",
   "metadata": {},
   "source": [
    "There is no significant difference between earnings surprise and when the earnings is announced (before market open or after market close)."
   ]
  },
  {
   "cell_type": "markdown",
   "metadata": {},
   "source": [
    "#### Earnings Surprise Breakdown by Day of Week"
   ]
  },
  {
   "cell_type": "code",
   "execution_count": 20,
   "metadata": {},
   "outputs": [
    {
     "name": "stdout",
     "output_type": "stream",
     "text": [
      "0        0\n",
      "1        0\n",
      "2        0\n",
      "3        0\n",
      "4        1\n",
      "        ..\n",
      "75573    2\n",
      "75574    3\n",
      "75575    1\n",
      "75576    2\n",
      "75577    3\n",
      "Name: dow, Length: 74067, dtype: int64\n"
     ]
    },
    {
     "name": "stderr",
     "output_type": "stream",
     "text": [
      "<ipython-input-20-b5f534cc8900>:3: SettingWithCopyWarning: \n",
      "A value is trying to be set on a copy of a slice from a DataFrame.\n",
      "Try using .loc[row_indexer,col_indexer] = value instead\n",
      "\n",
      "See the caveats in the documentation: https://pandas.pydata.org/pandas-docs/stable/user_guide/indexing.html#returning-a-view-versus-a-copy\n",
      "  df[\"dow\"] = dates.dt.dayofweek\n"
     ]
    }
   ],
   "source": [
    "# Need to find the date information using earnings date column\n",
    "dates = pd.to_datetime(df[\"date\"])\n",
    "df[\"dow\"] = dates.dt.dayofweek\n",
    "print(df[\"dow\"])\n"
   ]
  },
  {
   "cell_type": "code",
   "execution_count": 21,
   "metadata": {},
   "outputs": [],
   "source": [
    "pos_m = df[(df.perc_change > pos_surp_thres) & (df[\"dow\"] == 0)]\n",
    "pos_tu = df[(df.perc_change > pos_surp_thres) & (df[\"dow\"] == 1)]\n",
    "pos_w = df[(df.perc_change > pos_surp_thres) & (df[\"dow\"] == 2)]\n",
    "pos_th = df[(df.perc_change > pos_surp_thres) & (df[\"dow\"] == 3)]\n",
    "pos_f = df[(df.perc_change > pos_surp_thres) & (df[\"dow\"] == 4)]\n",
    "\n",
    "neu_m = df[(df.perc_change < pos_surp_thres) & (df.perc_change > neg_surp_thres) & (df[\"dow\"] == 0)]\n",
    "neu_tu = df[(df.perc_change < pos_surp_thres) & (df.perc_change > neg_surp_thres) & (df[\"dow\"] == 1)]\n",
    "neu_w = df[(df.perc_change < pos_surp_thres) & (df.perc_change > neg_surp_thres) & (df[\"dow\"] == 2)]\n",
    "neu_th = df[(df.perc_change < pos_surp_thres) & (df.perc_change > neg_surp_thres) & (df[\"dow\"] == 3)]\n",
    "neu_f = df[(df.perc_change < pos_surp_thres) & (df.perc_change > neg_surp_thres) & (df[\"dow\"] == 4)]\n",
    "\n",
    "neg_m = df[(df.perc_change < neg_surp_thres) & (df[\"dow\"] == 0)]\n",
    "neg_tu = df[(df.perc_change < neg_surp_thres) & (df[\"dow\"] == 1)]\n",
    "neg_w = df[(df.perc_change < neg_surp_thres) & (df[\"dow\"] == 2)]\n",
    "neg_th = df[(df.perc_change < neg_surp_thres) & (df[\"dow\"] == 3)]\n",
    "neg_f = df[(df.perc_change < neg_surp_thres) & (df[\"dow\"] == 4)]"
   ]
  },
  {
   "cell_type": "code",
   "execution_count": 22,
   "metadata": {},
   "outputs": [],
   "source": [
    "x = [\"Positive\", \"Neutral\", \"Negative\"]\n",
    "surprises_m = [len(pos_m), len(neu_m), len(neg_m)]\n",
    "surprises_tu = [len(pos_tu), len(neu_tu), len(neg_tu)]\n",
    "surprises_w = [len(pos_w), len(neu_w), len(neg_w)]\n",
    "surprises_th = [len(pos_th), len(neu_th), len(neg_th)]\n",
    "surprises_f = [len(pos_f), len(neu_f), len(neg_f)]"
   ]
  },
  {
   "cell_type": "code",
   "execution_count": 23,
   "metadata": {},
   "outputs": [
    {
     "data": {
      "image/png": "[encoded data removed]",
      "text/plain": [
       "<Figure size 576x288 with 1 Axes>"
      ]
     },
     "metadata": {
      "needs_background": "light"
     },
     "output_type": "display_data"
    }
   ],
   "source": [
    "ind = np.arange(3) \n",
    "width = 0.15\n",
    "plt.figure(figsize=(8, 4))\n",
    "plt.bar(ind, surprises_m, width, label='Monday', alpha=0.5)\n",
    "plt.bar(ind+width, surprises_tu, width, label='Tuesday', alpha=0.5)\n",
    "plt.bar(ind+(2*width), surprises_w, width, label='Wednesday', alpha=0.5)\n",
    "plt.bar(ind+(3*width), surprises_th, width, label='Thursday', alpha=0.5)\n",
    "plt.bar(ind+(4*width), surprises_f, width, label='Friday', alpha=0.5)\n",
    "\n",
    "plt.ylabel('Number of Earnings')\n",
    "plt.title('Earnings Surprise Breakdown By Day of Week')\n",
    "\n",
    "plt.xticks(ind + width*2, ('Positive', 'Neutral', 'Negative'))\n",
    "\n",
    "plt.legend(loc='best')\n",
    "plt.tight_layout()\n",
    "plt.savefig('visuals/earn_bar_dow.png', facecolor='white', transparent=False)\n",
    "plt.show()"
   ]
  },
  {
   "cell_type": "markdown",
   "metadata": {},
   "source": [
    "### Feature Engineering"
   ]
  },
  {
   "cell_type": "markdown",
   "metadata": {},
   "source": [
    "#### Create lagging features"
   ]
  },
  {
   "cell_type": "markdown",
   "metadata": {},
   "source": [
    "Added lagging features derived from earnings data within the SQL statement. We already have lagging features for pricing data with the technical indicators. Now we can hide symbol as feature from the model."
   ]
  },
  {
   "cell_type": "code",
   "execution_count": 24,
   "metadata": {},
   "outputs": [
    {
     "name": "stdout",
     "output_type": "stream",
     "text": [
      "3.363171182847962\n",
      "2491\n",
      "74067\n"
     ]
    }
   ],
   "source": [
    "# Null values within one lag\n",
    "numer = df[\"lastEps\"].isnull().sum()\n",
    "denom = len(df[\"perc_change\"])\n",
    "\n",
    "null_perc = numer/denom * 100\n",
    "print(null_perc)\n",
    "print(numer)\n",
    "print(denom)"
   ]
  },
  {
   "cell_type": "code",
   "execution_count": 25,
   "metadata": {},
   "outputs": [
    {
     "name": "stdout",
     "output_type": "stream",
     "text": [
      "6.680437981827264\n",
      "4948\n",
      "74067\n"
     ]
    }
   ],
   "source": [
    "# Null values within two lags\n",
    "numer = df[\"last2Eps\"].isnull().sum()\n",
    "denom = len(df[\"perc_change\"])\n",
    "\n",
    "null_perc = numer/denom * 100\n",
    "print(null_perc)\n",
    "print(numer)\n",
    "print(denom)"
   ]
  },
  {
   "cell_type": "code",
   "execution_count": 26,
   "metadata": {},
   "outputs": [
    {
     "name": "stdout",
     "output_type": "stream",
     "text": [
      "                    id      date   eps  epsEstimated time        open  \\\n",
      "0      2012-01-09-WDFC    1/9/12  0.42          0.54  amc   40.290001   \n",
      "1      2012-01-09-SCHN    1/9/12  0.25          0.23  bmo   42.770000   \n",
      "2       2012-01-09-HWM    1/9/12 -0.09         -0.09  bmo   20.824589   \n",
      "3       2012-01-09-AYI    1/9/12  0.74          0.67  bmo   54.980000   \n",
      "4       2012-01-10-SNX   1/10/12  1.37          1.14  amc   15.895000   \n",
      "...                ...       ...   ...           ...  ...         ...   \n",
      "75573   2021-12-22-KMX  12/22/21  1.63          1.44  bmo  139.700000   \n",
      "75574  2021-12-23-VAXX  12/23/21 -0.44         -0.12  bmo    6.580000   \n",
      "75575  2021-12-28-CALM  12/28/21  0.02          0.28  bmo   37.000000   \n",
      "75576  2021-12-29-FCEL  12/29/21 -0.07         -0.02  bmo    5.130000   \n",
      "75577  2021-12-30-CRON  12/30/21 -0.04         -0.09  bmo    3.795000   \n",
      "\n",
      "             high         low       close    adjClose  ...   wma_10   wma_20  \\\n",
      "0       41.560001   39.840000   41.080002   35.038280  ...   34.262   34.289   \n",
      "1       44.990002   42.750000   44.180000   32.350063  ...   32.094   31.963   \n",
      "2       21.319340   20.734632   21.206898   20.531033  ...    5.794    5.707   \n",
      "3       57.810001   52.250000   54.939999   52.569290  ...   50.557   49.791   \n",
      "4       16.055000   15.800000   16.045000   15.014843  ...   14.594   14.309   \n",
      "...           ...         ...         ...         ...  ...      ...      ...   \n",
      "75573  139.800000  127.520000  127.870000  127.870000  ...  136.423  140.223   \n",
      "75574    6.680000    6.280000    6.430000    6.430000  ...    6.643    7.422   \n",
      "75575   38.410000   36.790000   38.300000   38.300000  ...   36.714   36.483   \n",
      "75576    5.300000    4.830000    5.110000    5.110000  ...    6.040    6.369   \n",
      "75577    4.180000    3.792000    4.010000    4.010000  ...    4.079    4.145   \n",
      "\n",
      "       perc_change   lastSurp   last2Surp  lastEps  last2Eps  lastEst  \\\n",
      "0       -22.222222        NaN         NaN      NaN       NaN      NaN   \n",
      "1         8.695652        NaN         NaN      NaN       NaN      NaN   \n",
      "2         0.000000        NaN         NaN      NaN       NaN      NaN   \n",
      "3        10.447761        NaN         NaN      NaN       NaN      NaN   \n",
      "4        20.175439        NaN         NaN      NaN       NaN      NaN   \n",
      "...            ...        ...         ...      ...       ...      ...   \n",
      "75573    13.194444 -11.794872   63.354037     1.72      2.63     1.95   \n",
      "75574  -266.666667        NaN         NaN      NaN       NaN      NaN   \n",
      "75575   -92.857143  40.322581 -134.615385    -0.37     -0.09    -0.62   \n",
      "75576  -250.000000  20.000000  -20.000000    -0.04     -0.06    -0.05   \n",
      "75577    55.555556 -28.571429 -388.888889    -0.09     -0.44    -0.07   \n",
      "\n",
      "       last2Est  dow  \n",
      "0           NaN    0  \n",
      "1           NaN    0  \n",
      "2           NaN    0  \n",
      "3           NaN    0  \n",
      "4           NaN    1  \n",
      "...         ...  ...  \n",
      "75573      1.61    2  \n",
      "75574       NaN    3  \n",
      "75575      0.26    1  \n",
      "75576     -0.05    2  \n",
      "75577     -0.09    3  \n",
      "\n",
      "[74067 rows x 36 columns]\n"
     ]
    }
   ],
   "source": [
    "# Drop symbol\n",
    "df = df.drop([\"symbol\"], axis=1)\n",
    "print(df)"
   ]
  },
  {
   "cell_type": "markdown",
   "metadata": {},
   "source": [
    "#### Create date features"
   ]
  },
  {
   "cell_type": "code",
   "execution_count": 27,
   "metadata": {},
   "outputs": [
    {
     "name": "stdout",
     "output_type": "stream",
     "text": [
      "0         1\n",
      "1         1\n",
      "2         1\n",
      "3         1\n",
      "4         1\n",
      "         ..\n",
      "75573    12\n",
      "75574    12\n",
      "75575    12\n",
      "75576    12\n",
      "75577    12\n",
      "Name: month, Length: 74067, dtype: int64\n"
     ]
    }
   ],
   "source": [
    "df[\"month\"] = pd.DatetimeIndex(df[\"date\"]).month\n",
    "print(df[\"month\"])"
   ]
  },
  {
   "cell_type": "code",
   "execution_count": 28,
   "metadata": {},
   "outputs": [
    {
     "name": "stdout",
     "output_type": "stream",
     "text": [
      "0         9\n",
      "1         9\n",
      "2         9\n",
      "3         9\n",
      "4        10\n",
      "         ..\n",
      "75573    22\n",
      "75574    23\n",
      "75575    28\n",
      "75576    29\n",
      "75577    30\n",
      "Name: day, Length: 74067, dtype: int64\n"
     ]
    }
   ],
   "source": [
    "df[\"day\"] = pd.DatetimeIndex(df[\"date\"]).day\n",
    "print(df[\"day\"])"
   ]
  },
  {
   "cell_type": "code",
   "execution_count": 29,
   "metadata": {},
   "outputs": [
    {
     "name": "stdout",
     "output_type": "stream",
     "text": [
      "0        2012\n",
      "1        2012\n",
      "2        2012\n",
      "3        2012\n",
      "4        2012\n",
      "         ... \n",
      "75573    2021\n",
      "75574    2021\n",
      "75575    2021\n",
      "75576    2021\n",
      "75577    2021\n",
      "Name: year, Length: 74067, dtype: int64\n"
     ]
    }
   ],
   "source": [
    "df[\"year\"] = pd.DatetimeIndex(df[\"date\"]).year\n",
    "print(df[\"year\"])"
   ]
  },
  {
   "cell_type": "code",
   "execution_count": 30,
   "metadata": {},
   "outputs": [
    {
     "name": "stdout",
     "output_type": "stream",
     "text": [
      "                    id   eps  epsEstimated time        open        high  \\\n",
      "0      2012-01-09-WDFC  0.42          0.54  amc   40.290001   41.560001   \n",
      "1      2012-01-09-SCHN  0.25          0.23  bmo   42.770000   44.990002   \n",
      "2       2012-01-09-HWM -0.09         -0.09  bmo   20.824589   21.319340   \n",
      "3       2012-01-09-AYI  0.74          0.67  bmo   54.980000   57.810001   \n",
      "4       2012-01-10-SNX  1.37          1.14  amc   15.895000   16.055000   \n",
      "...                ...   ...           ...  ...         ...         ...   \n",
      "75573   2021-12-22-KMX  1.63          1.44  bmo  139.700000  139.800000   \n",
      "75574  2021-12-23-VAXX -0.44         -0.12  bmo    6.580000    6.680000   \n",
      "75575  2021-12-28-CALM  0.02          0.28  bmo   37.000000   38.410000   \n",
      "75576  2021-12-29-FCEL -0.07         -0.02  bmo    5.130000    5.300000   \n",
      "75577  2021-12-30-CRON -0.04         -0.09  bmo    3.795000    4.180000   \n",
      "\n",
      "              low       close    adjClose    volume  ...   lastSurp  \\\n",
      "0       39.840000   41.080002   35.038280    113300  ...        NaN   \n",
      "1       42.750000   44.180000   32.350063    460400  ...        NaN   \n",
      "2       20.734632   21.206898   20.531033    252432  ...        NaN   \n",
      "3       52.250000   54.939999   52.569290   1465500  ...        NaN   \n",
      "4       15.800000   16.045000   15.014843    562200  ...        NaN   \n",
      "...           ...         ...         ...       ...  ...        ...   \n",
      "75573  127.520000  127.870000  127.870000   4580896  ... -11.794872   \n",
      "75574    6.280000    6.430000    6.430000     89420  ...        NaN   \n",
      "75575   36.790000   38.300000   38.300000    637053  ...  40.322581   \n",
      "75576    4.830000    5.110000    5.110000  67611574  ...  20.000000   \n",
      "75577    3.792000    4.010000    4.010000   4330364  ... -28.571429   \n",
      "\n",
      "        last2Surp  lastEps  last2Eps  lastEst  last2Est  dow  month  day  year  \n",
      "0             NaN      NaN       NaN      NaN       NaN    0      1    9  2012  \n",
      "1             NaN      NaN       NaN      NaN       NaN    0      1    9  2012  \n",
      "2             NaN      NaN       NaN      NaN       NaN    0      1    9  2012  \n",
      "3             NaN      NaN       NaN      NaN       NaN    0      1    9  2012  \n",
      "4             NaN      NaN       NaN      NaN       NaN    1      1   10  2012  \n",
      "...           ...      ...       ...      ...       ...  ...    ...  ...   ...  \n",
      "75573   63.354037     1.72      2.63     1.95      1.61    2     12   22  2021  \n",
      "75574         NaN      NaN       NaN      NaN       NaN    3     12   23  2021  \n",
      "75575 -134.615385    -0.37     -0.09    -0.62      0.26    1     12   28  2021  \n",
      "75576  -20.000000    -0.04     -0.06    -0.05     -0.05    2     12   29  2021  \n",
      "75577 -388.888889    -0.09     -0.44    -0.07     -0.09    3     12   30  2021  \n",
      "\n",
      "[74067 rows x 38 columns]\n"
     ]
    }
   ],
   "source": [
    "# Drop date\n",
    "df = df.drop([\"date\"], axis=1)\n",
    "print(df)"
   ]
  },
  {
   "cell_type": "markdown",
   "metadata": {},
   "source": [
    "#### Encode time variable"
   ]
  },
  {
   "cell_type": "code",
   "execution_count": 31,
   "metadata": {},
   "outputs": [
    {
     "name": "stderr",
     "output_type": "stream",
     "text": [
      "/Users/bruehara/opt/anaconda3/lib/python3.8/site-packages/pandas/core/indexing.py:1637: SettingWithCopyWarning: \n",
      "A value is trying to be set on a copy of a slice from a DataFrame\n",
      "\n",
      "See the caveats in the documentation: https://pandas.pydata.org/pandas-docs/stable/user_guide/indexing.html#returning-a-view-versus-a-copy\n",
      "  self._setitem_single_block(indexer, value, name)\n"
     ]
    }
   ],
   "source": [
    "df[\"time\"].loc[(df['time'] == \"bmo\")] = 0\n",
    "df[\"time\"].loc[(df['time'] == \"amc\")] = 1\n",
    "df[\"time\"] = df[\"time\"].astype(int)"
   ]
  },
  {
   "cell_type": "code",
   "execution_count": 32,
   "metadata": {},
   "outputs": [
    {
     "name": "stdout",
     "output_type": "stream",
     "text": [
      "<class 'pandas.core.frame.DataFrame'>\n",
      "Int64Index: 69119 entries, 1522 to 75577\n",
      "Data columns (total 38 columns):\n",
      " #   Column            Non-Null Count  Dtype  \n",
      "---  ------            --------------  -----  \n",
      " 0   id                69119 non-null  object \n",
      " 1   eps               69119 non-null  float64\n",
      " 2   epsEstimated      69119 non-null  float64\n",
      " 3   time              69119 non-null  int64  \n",
      " 4   open              69119 non-null  float64\n",
      " 5   high              69119 non-null  float64\n",
      " 6   low               69119 non-null  float64\n",
      " 7   close             69119 non-null  float64\n",
      " 8   adjClose          69119 non-null  float64\n",
      " 9   volume            69119 non-null  int64  \n",
      " 10  unadjustedVolume  69119 non-null  int64  \n",
      " 11  change            69119 non-null  float64\n",
      " 12  changePercent     69119 non-null  float64\n",
      " 13  vwap              69119 non-null  float64\n",
      " 14  changeOverTime    69119 non-null  float64\n",
      " 15  sma_5             69119 non-null  float64\n",
      " 16  sma_10            69119 non-null  float64\n",
      " 17  sma_20            69119 non-null  float64\n",
      " 18  ema_5             69119 non-null  float64\n",
      " 19  ema_10            69119 non-null  float64\n",
      " 20  ema_20            69119 non-null  float64\n",
      " 21  volatility_5      69119 non-null  float64\n",
      " 22  volatility_10     69119 non-null  float64\n",
      " 23  rsi_14            69119 non-null  float64\n",
      " 24  wma_5             69119 non-null  float64\n",
      " 25  wma_10            69119 non-null  float64\n",
      " 26  wma_20            69119 non-null  float64\n",
      " 27  perc_change       69119 non-null  float64\n",
      " 28  lastSurp          69119 non-null  float64\n",
      " 29  last2Surp         69119 non-null  float64\n",
      " 30  lastEps           69119 non-null  float64\n",
      " 31  last2Eps          69119 non-null  float64\n",
      " 32  lastEst           69119 non-null  float64\n",
      " 33  last2Est          69119 non-null  float64\n",
      " 34  dow               69119 non-null  int64  \n",
      " 35  month             69119 non-null  int64  \n",
      " 36  day               69119 non-null  int64  \n",
      " 37  year              69119 non-null  int64  \n",
      "dtypes: float64(30), int64(7), object(1)\n",
      "memory usage: 20.6+ MB\n",
      "None\n"
     ]
    }
   ],
   "source": [
    "df = df.dropna()\n",
    "print(df.info())"
   ]
  },
  {
   "cell_type": "code",
   "execution_count": 33,
   "metadata": {},
   "outputs": [
    {
     "name": "stdout",
     "output_type": "stream",
     "text": [
      "        eps  epsEstimated  time        open    high      low   close  \\\n",
      "1522   0.38          0.37     0   19.790001   19.83   19.500   19.68   \n",
      "2334   0.07          0.02     1    1.540000    1.73    1.540    1.64   \n",
      "2653  -0.05         -0.07     0    1.460000    1.48    1.410    1.45   \n",
      "2716  -0.02         -0.03     1    1.560000    1.59    1.550    1.58   \n",
      "2977   0.62          0.54     1   28.790001   29.24   28.650   28.73   \n",
      "...     ...           ...   ...         ...     ...      ...     ...   \n",
      "75572  0.91          0.80     0  129.830000  135.46  127.000  133.41   \n",
      "75573  1.63          1.44     0  139.700000  139.80  127.520  127.87   \n",
      "75575  0.02          0.28     0   37.000000   38.41   36.790   38.30   \n",
      "75576 -0.07         -0.02     0    5.130000    5.30    4.830    5.11   \n",
      "75577 -0.04         -0.09     0    3.795000    4.18    3.792    4.01   \n",
      "\n",
      "         adjClose    volume  unadjustedVolume  ...    lastSurp   last2Surp  \\\n",
      "1522    12.347655    299500            299500  ...    0.000000   -2.127660   \n",
      "2334     1.595201    561600            561600  ...  -25.000000 -225.000000   \n",
      "2653     1.410391    209100            209100  ...  250.000000  -25.000000   \n",
      "2716     1.580000    617100            617100  ...  -80.000000 -200.000000   \n",
      "2977    25.644291    484700            484700  ...   18.918919   10.169492   \n",
      "...           ...       ...               ...  ...         ...         ...   \n",
      "75572  133.410000   4598611           4598611  ...    9.876543    7.462687   \n",
      "75573  127.870000   4580896           4580896  ...  -11.794872   63.354037   \n",
      "75575   38.300000    637053            637053  ...   40.322581 -134.615385   \n",
      "75576    5.110000  67611574          67611574  ...   20.000000  -20.000000   \n",
      "75577    4.010000   4330364           4330364  ...  -28.571429 -388.888889   \n",
      "\n",
      "       lastEps  last2Eps  lastEst  last2Est  dow  month  day  year  \n",
      "1522      0.38      0.46     0.38      0.47    0      4   16  2012  \n",
      "2334     -0.10     -0.05    -0.08      0.04    2      5    2  2012  \n",
      "2653      0.07     -0.10     0.02     -0.08    1      5    8  2012  \n",
      "2716     -0.09     -0.09    -0.05     -0.03    2      5    9  2012  \n",
      "2977      0.44      0.65     0.37      0.59    0      6   25  2012  \n",
      "...        ...       ...      ...       ...  ...    ...  ...   ...  \n",
      "75572     0.89      0.72     0.81      0.67    2     12   22  2021  \n",
      "75573     1.72      2.63     1.95      1.61    2     12   22  2021  \n",
      "75575    -0.37     -0.09    -0.62      0.26    1     12   28  2021  \n",
      "75576    -0.04     -0.06    -0.05     -0.05    2     12   29  2021  \n",
      "75577    -0.09     -0.44    -0.07     -0.09    3     12   30  2021  \n",
      "\n",
      "[69119 rows x 36 columns]\n"
     ]
    }
   ],
   "source": [
    "# Drop id and percentage change\n",
    "# Removing percentage change because it wont be known at time of prediction\n",
    "df = df.drop([\"id\", \"perc_change\"], axis=1)\n",
    "print(df)"
   ]
  },
  {
   "cell_type": "markdown",
   "metadata": {},
   "source": [
    "### Split Dataset"
   ]
  },
  {
   "cell_type": "code",
   "execution_count": 34,
   "metadata": {},
   "outputs": [],
   "source": [
    "# Split Dataset\n",
    "X = df.iloc[:, 1:]\n",
    "y = df.iloc[:, :1]"
   ]
  },
  {
   "cell_type": "code",
   "execution_count": 35,
   "metadata": {},
   "outputs": [],
   "source": [
    "from sklearn.model_selection import train_test_split\n",
    "X_train, X_test, y_train, y_test = train_test_split(X, y, test_size = 0.2, random_state = 0)"
   ]
  },
  {
   "cell_type": "code",
   "execution_count": 36,
   "metadata": {},
   "outputs": [
    {
     "name": "stdout",
     "output_type": "stream",
     "text": [
      "       epsEstimated  time        open        high         low       close  \\\n",
      "23522          7.31     1  360.549988  364.089996  359.000000  361.010010   \n",
      "62000          0.19     0   32.549999   33.450001   32.040001   32.119999   \n",
      "40292         -0.69     1    6.000000    7.890000    5.880000    7.230000   \n",
      "55084          0.30     0   19.760000   20.240000   17.500000   18.020000   \n",
      "16382          0.35     1   40.504131   40.561981   39.190083   39.421490   \n",
      "...             ...   ...         ...         ...         ...         ...   \n",
      "74085         -0.89     1   98.040000   98.135000   93.500000   95.630000   \n",
      "30536          0.20     1   24.730000   24.900000   24.309999   24.719999   \n",
      "5067           0.25     0   23.660000   24.130000   23.100000   23.750000   \n",
      "64580          0.12     1    8.650000    8.660000    8.090000    8.120000   \n",
      "25015          0.04     0    9.200000    9.330000    9.070000    9.200000   \n",
      "\n",
      "         adjClose   volume  unadjustedVolume   change  ...   lastSurp  \\\n",
      "23522  347.367126    37900             37900  0.46002  ...  -2.016129   \n",
      "62000   31.293789    63100             63100 -0.43000  ... -26.470588   \n",
      "40292    7.230000  2212544           2212544  1.23000  ... -91.666667   \n",
      "55084   13.210584  1721100           1721100 -1.74000  ... -11.428571   \n",
      "16382   39.421490  3317941           3317941 -1.08264  ...  42.105263   \n",
      "...           ...      ...               ...      ...  ...        ...   \n",
      "74085   95.630000  2084071           2084071 -2.41000  ... -43.055556   \n",
      "30536   24.165850  1658500           1658500 -0.01000  ...  40.000000   \n",
      "5067    23.750000   640600            640600  0.09000  ...  54.545455   \n",
      "64580    7.999711  5978700           5978700 -0.53000  ...   0.000000   \n",
      "25015    8.948688   119700            119700  0.00000  ... -25.000000   \n",
      "\n",
      "        last2Surp  lastEps  last2Eps  lastEst  last2Est  dow  month  day  year  \n",
      "23522   20.141343     2.43      3.40     2.48      2.83    2      8    5  2015  \n",
      "62000   -5.882353     0.25      0.32     0.34      0.34    4      7   24  2020  \n",
      "40292    2.857143    -1.15     -0.68    -0.60     -0.70    3     11    2  2017  \n",
      "55084   -1.176471     0.31      0.84     0.35      0.85    4      8   23  2019  \n",
      "16382  -16.949153     0.27      0.49     0.19      0.59    3      7   31  2014  \n",
      "...           ...      ...       ...      ...       ...  ...    ...  ...   ...  \n",
      "74085   82.524272    -1.03     -0.18    -0.72     -1.03    1     11    2  2021  \n",
      "30536   40.740741     0.21      0.38     0.15      0.27    1      8    2  2016  \n",
      "5067    39.285714     0.17     -0.17     0.11     -0.28    3     10   25  2012  \n",
      "64580   60.000000     0.03      0.08     0.03      0.05    2     10   28  2020  \n",
      "25015  200.000000     0.09      0.03     0.12      0.01    3     10   29  2015  \n",
      "\n",
      "[13824 rows x 35 columns]\n"
     ]
    }
   ],
   "source": [
    "print(X_test)"
   ]
  },
  {
   "cell_type": "markdown",
   "metadata": {},
   "source": [
    "### Fit Data to Random Forest Model"
   ]
  },
  {
   "cell_type": "code",
   "execution_count": 37,
   "metadata": {},
   "outputs": [
    {
     "name": "stderr",
     "output_type": "stream",
     "text": [
      "<ipython-input-37-28f68d7399a7>:3: DataConversionWarning: A column-vector y was passed when a 1d array was expected. Please change the shape of y to (n_samples,), for example using ravel().\n",
      "  regressor.fit(X_train, y_train)\n"
     ]
    },
    {
     "data": {
      "text/plain": [
       "RandomForestRegressor(n_estimators=10, random_state=0)"
      ]
     },
     "execution_count": 37,
     "metadata": {},
     "output_type": "execute_result"
    }
   ],
   "source": [
    "from sklearn.ensemble import RandomForestRegressor\n",
    "regressor = RandomForestRegressor(n_estimators = 10, random_state = 0)\n",
    "regressor.fit(X_train, y_train)"
   ]
  },
  {
   "cell_type": "code",
   "execution_count": 58,
   "metadata": {},
   "outputs": [
    {
     "name": "stdout",
     "output_type": "stream",
     "text": [
      "           Attribute  Importance\n",
      "0       epsEstimated    0.754787\n",
      "27           lastEps    0.082303\n",
      "30          last2Est    0.047485\n",
      "28          last2Eps    0.026678\n",
      "29           lastEst    0.023289\n",
      "25          lastSurp    0.011049\n",
      "9             change    0.007402\n",
      "33               day    0.007253\n",
      "26         last2Surp    0.006460\n",
      "7             volume    0.004772\n",
      "19      volatility_5    0.004095\n",
      "21            rsi_14    0.003302\n",
      "12    changeOverTime    0.003103\n",
      "6           adjClose    0.001771\n",
      "17            ema_10    0.001754\n",
      "20     volatility_10    0.001730\n",
      "3               high    0.001728\n",
      "31               dow    0.001491\n",
      "8   unadjustedVolume    0.001247\n",
      "10     changePercent    0.000937\n",
      "34              year    0.000858\n",
      "32             month    0.000840\n",
      "4                low    0.000740\n",
      "22             wma_5    0.000708\n",
      "2               open    0.000623\n",
      "5              close    0.000567\n",
      "11              vwap    0.000528\n",
      "15            sma_20    0.000415\n",
      "18            ema_20    0.000376\n",
      "1               time    0.000373\n",
      "16             ema_5    0.000350\n",
      "23            wma_10    0.000277\n",
      "24            wma_20    0.000268\n",
      "13             sma_5    0.000234\n",
      "14            sma_10    0.000204\n"
     ]
    }
   ],
   "source": [
    "importances = pd.DataFrame(data={\n",
    "    'Attribute': X_train.columns,\n",
    "    'Importance': regressor.feature_importances_\n",
    "})\n",
    "importances = importances.sort_values(by='Importance', ascending=False)\n",
    "print(importances)"
   ]
  },
  {
   "cell_type": "code",
   "execution_count": 54,
   "metadata": {},
   "outputs": [
    {
     "data": {
      "image/png": "[encoded data removed]",
      "text/plain": [
       "<Figure size 720x432 with 1 Axes>"
      ]
     },
     "metadata": {
      "needs_background": "light"
     },
     "output_type": "display_data"
    }
   ],
   "source": [
    "plt.figure(figsize=(10,6))\n",
    "plt.bar(x=importances['Attribute'], height=importances['Importance'], facecolor='blue', alpha=0.5)\n",
    "plt.title('Feature Importance From feature_importances_ Property', size=15)\n",
    "plt.xticks(rotation='vertical')\n",
    "plt.show()"
   ]
  },
  {
   "cell_type": "code",
   "execution_count": null,
   "metadata": {},
   "outputs": [],
   "source": [
    "# Besides first (epsEstimated)\n",
    "importances = importances.iloc[1: , :]"
   ]
  },
  {
   "cell_type": "markdown",
   "metadata": {},
   "source": [
    "### Predict Labeled Testing Data"
   ]
  },
  {
   "cell_type": "code",
   "execution_count": null,
   "metadata": {},
   "outputs": [],
   "source": [
    "y_pred = regressor.predict(X_test)\n",
    "output = y_test\n",
    "print(len(y_pred))"
   ]
  },
  {
   "cell_type": "code",
   "execution_count": null,
   "metadata": {},
   "outputs": [],
   "source": [
    "output[\"estimate\"] = y_pred\n",
    "output[\"error\"] = abs(output[\"estimate\"] - output[\"eps\"])\n",
    "print(output)"
   ]
  },
  {
   "cell_type": "markdown",
   "metadata": {},
   "source": [
    "### Mean Absolute Error"
   ]
  },
  {
   "cell_type": "code",
   "execution_count": null,
   "metadata": {},
   "outputs": [],
   "source": [
    "# Calculate mean absolute percentage error (MAPE)\n",
    "from sklearn.metrics import mean_absolute_error\n",
    "mae = mean_absolute_error(y_true = output[\"eps\"], y_pred = output[\"estimate\"])\n",
    "print(\"Mean Absolute Error: {}\".format(mae))"
   ]
  },
  {
   "cell_type": "markdown",
   "metadata": {},
   "source": [
    "### Root Mean Squared Error"
   ]
  },
  {
   "cell_type": "code",
   "execution_count": null,
   "metadata": {},
   "outputs": [],
   "source": [
    "from sklearn.metrics import mean_squared_error\n",
    "rms = mean_squared_error(y_true = output[\"eps\"], y_pred = output[\"estimate\"], squared=False)\n",
    "print(\"Root Mean Squared Error: {}\".format(rms))"
   ]
  },
  {
   "cell_type": "markdown",
   "metadata": {},
   "source": [
    "### R2 Score"
   ]
  },
  {
   "cell_type": "code",
   "execution_count": null,
   "metadata": {},
   "outputs": [],
   "source": [
    "from sklearn.metrics import r2_score\n",
    "r2 = r2_score(y_true = output[\"eps\"], y_pred = output[\"estimate\"])\n",
    "print(\"R2 Score: {}\".format(r2))"
   ]
  },
  {
   "cell_type": "markdown",
   "metadata": {},
   "source": [
    "### Export Model as PKL file"
   ]
  },
  {
   "cell_type": "code",
   "execution_count": null,
   "metadata": {},
   "outputs": [],
   "source": [
    "#import joblib\n",
    "#joblib.dump(regressor, 'models/earnings_surprise_random_forest.pkl')"
   ]
  },
  {
   "cell_type": "code",
   "execution_count": null,
   "metadata": {},
   "outputs": [],
   "source": [
    "# Zipping model file for the lambda layers\n",
    "#import zipfile\n",
    "#zipfile.ZipFile('model.zip', mode='w').write(\"models/earnings_surprise_random_forest.pkl\")"
   ]
  }
 ],
 "metadata": {
  "interpreter": {
   "hash": "6d032f0ee728082bb6a4d2cd2973e452a9a829bb860acc9dec402cf46b334b4c"
  },
  "kernelspec": {
   "display_name": "Python 3",
   "language": "python",
   "name": "python3"
  },
  "language_info": {
   "codemirror_mode": {
    "name": "ipython",
    "version": 3
   },
   "file_extension": ".py",
   "mimetype": "text/x-python",
   "name": "python",
   "nbconvert_exporter": "python",
   "pygments_lexer": "ipython3",
   "version": "3.8.8"
  }
 },
 "nbformat": 4,
 "nbformat_minor": 4
}
