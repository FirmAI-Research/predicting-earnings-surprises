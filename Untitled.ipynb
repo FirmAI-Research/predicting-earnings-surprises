{
 "cells": [
  {
   "cell_type": "code",
   "execution_count": 1,
   "id": "f0b5e17d",
   "metadata": {},
   "outputs": [],
   "source": [
    "import joblib\n",
    "import pandas as pd"
   ]
  },
  {
   "cell_type": "code",
   "execution_count": 2,
   "id": "62aa9394",
   "metadata": {},
   "outputs": [],
   "source": [
    "rf_model = joblib.load('models/earnings_surprise_random_forest.pkl')"
   ]
  },
  {
   "cell_type": "code",
   "execution_count": 3,
   "id": "5672510c",
   "metadata": {},
   "outputs": [],
   "source": [
    "df = pd.DataFrame([[3.7, 1, 360, 364.089996, 359.000000, 361.010010, 347.367126, 37900, 37900, 0.46002, 46.002, ]])"
   ]
  },
  {
   "cell_type": "code",
   "execution_count": 4,
   "id": "5ae49461",
   "metadata": {},
   "outputs": [
    {
     "name": "stdout",
     "output_type": "stream",
     "text": [
      "    0   1    2           3      4          5           6      7      8   \\\n",
      "0  3.7   1  360  364.089996  359.0  361.01001  347.367126  37900  37900   \n",
      "\n",
      "        9       10  \n",
      "0  0.46002  46.002  \n"
     ]
    }
   ],
   "source": [
    "print(df)"
   ]
  },
  {
   "cell_type": "code",
   "execution_count": 5,
   "id": "82e68bb8",
   "metadata": {},
   "outputs": [],
   "source": [
    "test_data = pd.read_csv(\"testdata.csv\", index_col=False)"
   ]
  },
  {
   "cell_type": "code",
   "execution_count": 6,
   "id": "09290009",
   "metadata": {},
   "outputs": [
    {
     "name": "stdout",
     "output_type": "stream",
     "text": [
      "       epsEstimated  time        open        high         low       close  \\\n",
      "0              7.31     1  360.549988  364.089996  359.000000  361.010010   \n",
      "1              0.19     0   32.549999   33.450001   32.040001   32.119999   \n",
      "2             -0.69     1    6.000000    7.890000    5.880000    7.230000   \n",
      "3              0.30     0   19.760000   20.240000   17.500000   18.020000   \n",
      "4              0.35     1   40.504131   40.561981   39.190083   39.421490   \n",
      "...             ...   ...         ...         ...         ...         ...   \n",
      "13819         -0.89     1   98.040000   98.135000   93.500000   95.630000   \n",
      "13820          0.20     1   24.730000   24.900000   24.309999   24.719999   \n",
      "13821          0.25     0   23.660000   24.130000   23.100000   23.750000   \n",
      "13822          0.12     1    8.650000    8.660000    8.090000    8.120000   \n",
      "13823          0.04     0    9.200000    9.330000    9.070000    9.200000   \n",
      "\n",
      "         adjClose   volume  unadjustedVolume   change  ...   lastSurp  \\\n",
      "0      347.367126    37900             37900  0.46002  ...  -2.016129   \n",
      "1       31.293789    63100             63100 -0.43000  ... -26.470588   \n",
      "2        7.230000  2212544           2212544  1.23000  ... -91.666667   \n",
      "3       13.210584  1721100           1721100 -1.74000  ... -11.428571   \n",
      "4       39.421490  3317941           3317941 -1.08264  ...  42.105263   \n",
      "...           ...      ...               ...      ...  ...        ...   \n",
      "13819   95.630000  2084071           2084071 -2.41000  ... -43.055556   \n",
      "13820   24.165850  1658500           1658500 -0.01000  ...  40.000000   \n",
      "13821   23.750000   640600            640600  0.09000  ...  54.545455   \n",
      "13822    7.999711  5978700           5978700 -0.53000  ...   0.000000   \n",
      "13823    8.948688   119700            119700  0.00000  ... -25.000000   \n",
      "\n",
      "        last2Surp  lastEps  last2Eps  lastEst  last2Est  dow  month  day  year  \n",
      "0       20.141343     2.43      3.40     2.48      2.83    2      8    5  2015  \n",
      "1       -5.882353     0.25      0.32     0.34      0.34    4      7   24  2020  \n",
      "2        2.857143    -1.15     -0.68    -0.60     -0.70    3     11    2  2017  \n",
      "3       -1.176471     0.31      0.84     0.35      0.85    4      8   23  2019  \n",
      "4      -16.949153     0.27      0.49     0.19      0.59    3      7   31  2014  \n",
      "...           ...      ...       ...      ...       ...  ...    ...  ...   ...  \n",
      "13819   82.524272    -1.03     -0.18    -0.72     -1.03    1     11    2  2021  \n",
      "13820   40.740741     0.21      0.38     0.15      0.27    1      8    2  2016  \n",
      "13821   39.285714     0.17     -0.17     0.11     -0.28    3     10   25  2012  \n",
      "13822   60.000000     0.03      0.08     0.03      0.05    2     10   28  2020  \n",
      "13823  200.000000     0.09      0.03     0.12      0.01    3     10   29  2015  \n",
      "\n",
      "[13824 rows x 35 columns]\n"
     ]
    }
   ],
   "source": [
    "print(test_data)"
   ]
  },
  {
   "cell_type": "code",
   "execution_count": 13,
   "id": "bcf4c440",
   "metadata": {},
   "outputs": [
    {
     "name": "stdout",
     "output_type": "stream",
     "text": [
      "   epsEstimated  time        open        high    low      close    adjClose  \\\n",
      "0          7.31     1  360.549988  364.089996  359.0  361.01001  347.367126   \n",
      "\n",
      "   volume  unadjustedVolume   change  ...  lastSurp  last2Surp  lastEps  \\\n",
      "0   37900             37900  0.46002  ... -2.016129  20.141343     2.43   \n",
      "\n",
      "   last2Eps  lastEst  last2Est  dow  month  day  year  \n",
      "0       3.4     2.48      2.83    2      8    5  2015  \n",
      "\n",
      "[1 rows x 35 columns]\n"
     ]
    }
   ],
   "source": [
    "testing_df = test_data.iloc[:1]\n",
    "print(testing_df)"
   ]
  },
  {
   "cell_type": "code",
   "execution_count": 14,
   "id": "ba83a2f0",
   "metadata": {},
   "outputs": [],
   "source": [
    "try:\n",
    "    result = rf_model.predict(testing_df)[0]\n",
    "except ValueError:\n",
    "    print(\"Bad Request!\")"
   ]
  },
  {
   "cell_type": "code",
   "execution_count": 9,
   "id": "05aa7ad3",
   "metadata": {},
   "outputs": [
    {
     "name": "stdout",
     "output_type": "stream",
     "text": [
      "7.470999999999999\n"
     ]
    }
   ],
   "source": [
    "print(result)"
   ]
  },
  {
   "cell_type": "code",
   "execution_count": null,
   "id": "096ad648",
   "metadata": {},
   "outputs": [],
   "source": []
  }
 ],
 "metadata": {
  "kernelspec": {
   "display_name": "Python 3",
   "language": "python",
   "name": "python3"
  },
  "language_info": {
   "codemirror_mode": {
    "name": "ipython",
    "version": 3
   },
   "file_extension": ".py",
   "mimetype": "text/x-python",
   "name": "python",
   "nbconvert_exporter": "python",
   "pygments_lexer": "ipython3",
   "version": "3.8.8"
  }
 },
 "nbformat": 4,
 "nbformat_minor": 5
}
