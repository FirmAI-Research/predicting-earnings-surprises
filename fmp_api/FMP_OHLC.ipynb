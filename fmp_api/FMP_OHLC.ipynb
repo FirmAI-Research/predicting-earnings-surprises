{
 "cells": [
  {
   "cell_type": "code",
   "execution_count": null,
   "metadata": {},
   "outputs": [],
   "source": [
    "import time\n",
    "import pandas as pd\n",
    "import requests\n",
    "import json\n",
    "import concurrent.futures\n",
    "from decouple import config\n",
    "\n",
    "# Disable warnings\n",
    "import urllib3\n",
    "urllib3.disable_warnings(urllib3.exceptions.InsecureRequestWarning)"
   ]
  },
  {
   "cell_type": "code",
   "execution_count": null,
   "metadata": {},
   "outputs": [],
   "source": [
    "def get_jsonparsed_data(url):\n",
    "    \"\"\"\n",
    "    Sends a GET request to FMP's Earning Surprise API and returns the resulting data in a dictionary\n",
    "    \"\"\"\n",
    "    # sending get request and saving the response as response object\n",
    "    response = requests.get(url=url)\n",
    "    data = json.loads(response.text)\n",
    "    return data"
   ]
  },
  {
   "cell_type": "code",
   "execution_count": null,
   "metadata": {},
   "outputs": [],
   "source": [
    "# Pull API key from .env file\n",
    "FMP_API_KEY = config(\"FMP_API_KEY\")\n",
    "# Read in earnings data\n",
    "earnings_df = pd.read_csv(\"filtered_earnings.csv\") \n",
    "earnings_df.info()"
   ]
  },
  {
   "cell_type": "code",
   "execution_count": null,
   "metadata": {},
   "outputs": [],
   "source": [
    "dates = earnings_df[\"date\"]\n",
    "print(dates)"
   ]
  },
  {
   "cell_type": "code",
   "execution_count": null,
   "metadata": {},
   "outputs": [],
   "source": [
    "url_list = []\n",
    "for idx, val in enumerate(dates):\n",
    "    ticker = earnings_df[\"symbol\"][idx]\n",
    "    url = \"https://financialmodelingprep.com/api/v3/historical-price-full/{}?from={}&to={}&apikey={}\".format(ticker, val, val, FMP_API_KEY)\n",
    "    url_list.append(url)"
   ]
  },
  {
   "cell_type": "code",
   "execution_count": null,
   "metadata": {},
   "outputs": [],
   "source": [
    "# Call FMP API for each URL using Concurrent library\n",
    "with concurrent.futures.ThreadPoolExecutor() as executor:\n",
    "    res = [executor.submit(get_jsonparsed_data, url) for url in url_list]\n",
    "    concurrent.futures.wait(res)"
   ]
  },
  {
   "cell_type": "code",
   "execution_count": null,
   "metadata": {},
   "outputs": [],
   "source": [
    "# Test results\n",
    "res[3].result()"
   ]
  },
  {
   "cell_type": "code",
   "execution_count": null,
   "metadata": {},
   "outputs": [],
   "source": [
    "df = pd.DataFrame()\n",
    "for x in range(len(dates)):\n",
    "    res_df = pd.DataFrame(res[x].result())\n",
    "    df = pd.concat([df, res_df])"
   ]
  },
  {
   "cell_type": "code",
   "execution_count": null,
   "metadata": {},
   "outputs": [],
   "source": [
    "print(df)"
   ]
  },
  {
   "cell_type": "code",
   "execution_count": null,
   "metadata": {},
   "outputs": [],
   "source": [
    "df.info()"
   ]
  }
 ],
 "metadata": {
  "interpreter": {
   "hash": "4728a1e695d94c961678d379cd8302d4e874de393bb0bc74e83299780713b515"
  },
  "kernelspec": {
   "display_name": "Python 3.8.3 64-bit ('venv': venv)",
   "language": "python",
   "name": "python3"
  },
  "language_info": {
   "codemirror_mode": {
    "name": "ipython",
    "version": 3
   },
   "file_extension": ".py",
   "mimetype": "text/x-python",
   "name": "python",
   "nbconvert_exporter": "python",
   "pygments_lexer": "ipython3",
   "version": "3.8.3"
  },
  "orig_nbformat": 4
 },
 "nbformat": 4,
 "nbformat_minor": 2
}
