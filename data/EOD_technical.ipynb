{
 "cells": [
  {
   "cell_type": "code",
   "execution_count": 2,
   "metadata": {},
   "outputs": [],
   "source": [
    "import time\n",
    "import pandas as pd\n",
    "import requests\n",
    "import json\n",
    "import concurrent.futures\n",
    "from decouple import config\n",
    "\n",
    "# Disable warnings\n",
    "import urllib3\n",
    "urllib3.disable_warnings(urllib3.exceptions.InsecureRequestWarning)"
   ]
  },
  {
   "cell_type": "code",
   "execution_count": 3,
   "metadata": {},
   "outputs": [
    {
     "data": {
      "text/html": [
       "<div>\n",
       "<style scoped>\n",
       "    .dataframe tbody tr th:only-of-type {\n",
       "        vertical-align: middle;\n",
       "    }\n",
       "\n",
       "    .dataframe tbody tr th {\n",
       "        vertical-align: top;\n",
       "    }\n",
       "\n",
       "    .dataframe thead th {\n",
       "        text-align: right;\n",
       "    }\n",
       "</style>\n",
       "<table border=\"1\" class=\"dataframe\">\n",
       "  <thead>\n",
       "    <tr style=\"text-align: right;\">\n",
       "      <th></th>\n",
       "      <th>date</th>\n",
       "      <th>symbol</th>\n",
       "      <th>eps</th>\n",
       "      <th>epsEstimated</th>\n",
       "      <th>time</th>\n",
       "      <th>open</th>\n",
       "      <th>high</th>\n",
       "      <th>low</th>\n",
       "      <th>close</th>\n",
       "      <th>adjClose</th>\n",
       "      <th>volume</th>\n",
       "      <th>unadjustedVolume</th>\n",
       "      <th>change</th>\n",
       "      <th>changePercent</th>\n",
       "      <th>vwap</th>\n",
       "      <th>changeOverTime</th>\n",
       "    </tr>\n",
       "  </thead>\n",
       "  <tbody>\n",
       "    <tr>\n",
       "      <th>0</th>\n",
       "      <td>11/22/21</td>\n",
       "      <td>A</td>\n",
       "      <td>1.21</td>\n",
       "      <td>1.17</td>\n",
       "      <td>amc</td>\n",
       "      <td>165.000000</td>\n",
       "      <td>165.679993</td>\n",
       "      <td>162.779999</td>\n",
       "      <td>162.779999</td>\n",
       "      <td>162.565887</td>\n",
       "      <td>2110400</td>\n",
       "      <td>2110400</td>\n",
       "      <td>-2.22000</td>\n",
       "      <td>-1.345</td>\n",
       "      <td>163.74666</td>\n",
       "      <td>-0.01345</td>\n",
       "    </tr>\n",
       "    <tr>\n",
       "      <th>1</th>\n",
       "      <td>8/17/21</td>\n",
       "      <td>A</td>\n",
       "      <td>1.10</td>\n",
       "      <td>0.99</td>\n",
       "      <td>amc</td>\n",
       "      <td>161.729996</td>\n",
       "      <td>161.839996</td>\n",
       "      <td>159.289993</td>\n",
       "      <td>160.910004</td>\n",
       "      <td>160.498489</td>\n",
       "      <td>2614200</td>\n",
       "      <td>2614200</td>\n",
       "      <td>-0.81999</td>\n",
       "      <td>-0.507</td>\n",
       "      <td>160.68000</td>\n",
       "      <td>-0.00507</td>\n",
       "    </tr>\n",
       "    <tr>\n",
       "      <th>2</th>\n",
       "      <td>5/25/21</td>\n",
       "      <td>A</td>\n",
       "      <td>0.71</td>\n",
       "      <td>0.83</td>\n",
       "      <td>amc</td>\n",
       "      <td>133.410004</td>\n",
       "      <td>134.800003</td>\n",
       "      <td>133.009995</td>\n",
       "      <td>133.229996</td>\n",
       "      <td>132.714828</td>\n",
       "      <td>1890600</td>\n",
       "      <td>1890600</td>\n",
       "      <td>-0.18001</td>\n",
       "      <td>-0.135</td>\n",
       "      <td>133.68000</td>\n",
       "      <td>-0.00135</td>\n",
       "    </tr>\n",
       "    <tr>\n",
       "      <th>3</th>\n",
       "      <td>2/16/21</td>\n",
       "      <td>A</td>\n",
       "      <td>0.94</td>\n",
       "      <td>0.89</td>\n",
       "      <td>amc</td>\n",
       "      <td>129.309998</td>\n",
       "      <td>131.080002</td>\n",
       "      <td>127.849998</td>\n",
       "      <td>127.949997</td>\n",
       "      <td>127.261604</td>\n",
       "      <td>2132500</td>\n",
       "      <td>2132500</td>\n",
       "      <td>-1.36000</td>\n",
       "      <td>-1.052</td>\n",
       "      <td>128.96000</td>\n",
       "      <td>-0.01052</td>\n",
       "    </tr>\n",
       "    <tr>\n",
       "      <th>4</th>\n",
       "      <td>11/23/20</td>\n",
       "      <td>A</td>\n",
       "      <td>0.72</td>\n",
       "      <td>0.93</td>\n",
       "      <td>amc</td>\n",
       "      <td>111.400002</td>\n",
       "      <td>112.419998</td>\n",
       "      <td>109.559998</td>\n",
       "      <td>112.209999</td>\n",
       "      <td>111.423569</td>\n",
       "      <td>3258700</td>\n",
       "      <td>3258700</td>\n",
       "      <td>0.81000</td>\n",
       "      <td>0.727</td>\n",
       "      <td>111.39667</td>\n",
       "      <td>0.00727</td>\n",
       "    </tr>\n",
       "  </tbody>\n",
       "</table>\n",
       "</div>"
      ],
      "text/plain": [
       "       date symbol   eps  epsEstimated time        open        high  \\\n",
       "0  11/22/21      A  1.21          1.17  amc  165.000000  165.679993   \n",
       "1   8/17/21      A  1.10          0.99  amc  161.729996  161.839996   \n",
       "2   5/25/21      A  0.71          0.83  amc  133.410004  134.800003   \n",
       "3   2/16/21      A  0.94          0.89  amc  129.309998  131.080002   \n",
       "4  11/23/20      A  0.72          0.93  amc  111.400002  112.419998   \n",
       "\n",
       "          low       close    adjClose   volume  unadjustedVolume   change  \\\n",
       "0  162.779999  162.779999  162.565887  2110400           2110400 -2.22000   \n",
       "1  159.289993  160.910004  160.498489  2614200           2614200 -0.81999   \n",
       "2  133.009995  133.229996  132.714828  1890600           1890600 -0.18001   \n",
       "3  127.849998  127.949997  127.261604  2132500           2132500 -1.36000   \n",
       "4  109.559998  112.209999  111.423569  3258700           3258700  0.81000   \n",
       "\n",
       "   changePercent       vwap  changeOverTime  \n",
       "0         -1.345  163.74666        -0.01345  \n",
       "1         -0.507  160.68000        -0.00507  \n",
       "2         -0.135  133.68000        -0.00135  \n",
       "3         -1.052  128.96000        -0.01052  \n",
       "4          0.727  111.39667         0.00727  "
      ]
     },
     "execution_count": 3,
     "metadata": {},
     "output_type": "execute_result"
    }
   ],
   "source": [
    "# Bring in earnings and pricing data\n",
    "earnings_pricing = pd.read_csv(\"earnings_pricing.csv\")\n",
    "earnings_pricing.head()"
   ]
  },
  {
   "cell_type": "code",
   "execution_count": 5,
   "metadata": {},
   "outputs": [
    {
     "name": "stdout",
     "output_type": "stream",
     "text": [
      "<class 'pandas.core.frame.DataFrame'>\n",
      "RangeIndex: 75955 entries, 0 to 75954\n",
      "Data columns (total 16 columns):\n",
      " #   Column            Non-Null Count  Dtype  \n",
      "---  ------            --------------  -----  \n",
      " 0   date              75955 non-null  object \n",
      " 1   symbol            75955 non-null  object \n",
      " 2   eps               75955 non-null  float64\n",
      " 3   epsEstimated      75955 non-null  float64\n",
      " 4   time              75955 non-null  object \n",
      " 5   open              75955 non-null  float64\n",
      " 6   high              75955 non-null  float64\n",
      " 7   low               75955 non-null  float64\n",
      " 8   close             75955 non-null  float64\n",
      " 9   adjClose          75955 non-null  float64\n",
      " 10  volume            75955 non-null  int64  \n",
      " 11  unadjustedVolume  75955 non-null  int64  \n",
      " 12  change            75955 non-null  float64\n",
      " 13  changePercent     75955 non-null  float64\n",
      " 14  vwap              75955 non-null  float64\n",
      " 15  changeOverTime    75955 non-null  float64\n",
      "dtypes: float64(11), int64(2), object(3)\n",
      "memory usage: 9.3+ MB\n"
     ]
    }
   ],
   "source": [
    "earnings_pricing.info()"
   ]
  },
  {
   "cell_type": "code",
   "execution_count": 7,
   "metadata": {},
   "outputs": [
    {
     "name": "stdout",
     "output_type": "stream",
     "text": [
      "['A' 'AA' 'AAL' ... 'ZUMZ' 'ZUO' 'ZWS']\n"
     ]
    }
   ],
   "source": [
    "stocks = earnings_pricing.symbol.unique()\n",
    "print(stocks)"
   ]
  },
  {
   "cell_type": "code",
   "execution_count": 8,
   "metadata": {},
   "outputs": [],
   "source": [
    "def get_jsonparsed_data(url):\n",
    "    \"\"\"\n",
    "    Sends a GET request to FMP's Earning Surprise API and returns the resulting data in a dictionary\n",
    "    \"\"\"\n",
    "    # sending get request and saving the response as response object\n",
    "    response = requests.get(url=url)\n",
    "    data = json.loads(response.text)\n",
    "    return data"
   ]
  },
  {
   "cell_type": "code",
   "execution_count": 9,
   "metadata": {},
   "outputs": [],
   "source": [
    "# For each stock build its url\n",
    "url_list = []\n",
    "\n",
    "EOD_API_KEY = config(\"EOD_API_KEY\")\n",
    "\n",
    "# Paramters\n",
    "last_date = '2022-01-07'\n",
    "func = 'sma'\n",
    "period = 5\n",
    "\n",
    "for idx, val in enumerate(stocks):\n",
    "    url = \"https://eodhistoricaldata.com/api/technical/{}.US?order=d&fmt=json&to={}&function={}&period={}&api_token={}\".format(val, last_date, func, period, EOD_API_KEY)\n",
    "    url_list.append(url)"
   ]
  },
  {
   "cell_type": "code",
   "execution_count": 11,
   "metadata": {},
   "outputs": [],
   "source": [
    "# Call FMP API for each URL using Concurrent library\n",
    "# Run takes 211 seconds ... be patient\n",
    "with concurrent.futures.ThreadPoolExecutor() as executor:\n",
    "    res = [executor.submit(get_jsonparsed_data, url) for url in url_list]\n",
    "    concurrent.futures.wait(res)"
   ]
  },
  {
   "cell_type": "code",
   "execution_count": 16,
   "metadata": {},
   "outputs": [
    {
     "name": "stdout",
     "output_type": "stream",
     "text": [
      "            date     sma stock\n",
      "0     2022-01-07  34.878  AVNS\n",
      "1     2022-01-06  35.148  AVNS\n",
      "2     2022-01-05  35.138  AVNS\n",
      "3     2022-01-04  35.010  AVNS\n",
      "4     2022-01-03  34.690  AVNS\n",
      "...          ...     ...   ...\n",
      "1809  2014-10-31  38.090  AVNS\n",
      "1810  2014-10-30  38.244  AVNS\n",
      "1811  2014-10-29  38.584  AVNS\n",
      "1812  2014-10-28  38.884  AVNS\n",
      "1813  2014-10-27  39.468  AVNS\n",
      "\n",
      "[1814 rows x 3 columns]\n"
     ]
    }
   ],
   "source": [
    "stock_test = stocks[244]\n",
    "test_df = pd.DataFrame.from_records(res[244].result())\n",
    "test_df[\"stock\"] = stock_test\n",
    "print(test_df)"
   ]
  },
  {
   "cell_type": "code",
   "execution_count": 26,
   "metadata": {},
   "outputs": [],
   "source": [
    "df = pd.DataFrame()\n",
    "ve_num = 0\n",
    "ke_num = 0\n",
    "for idx, val in enumerate(url_list):\n",
    "    try:\n",
    "        res_df = pd.DataFrame.from_records(res[idx].result())\n",
    "        stock = stocks[idx]\n",
    "        res_df[\"stock\"] = stock\n",
    "        df = pd.concat([df, res_df])\n",
    "    # If value error occurs skip the stock\n",
    "    except ValueError as ve:\n",
    "        ve_num += 1\n",
    "        print(ve)\n",
    "        pass\n",
    "    except KeyError as ke:\n",
    "        ke_num += 1\n",
    "        message = \"KeyError at index: {}, url: {}, occurence number: {}\".format(idx, val, ke_num)\n",
    "        with open(\"eod_error_logs.txt\", \"a\") as text_file:\n",
    "            text_file.write(message)\n",
    "            text_file.write('\\n')\n",
    "        print(\"KeyError at index: {}\".format(idx))"
   ]
  },
  {
   "cell_type": "code",
   "execution_count": null,
   "metadata": {},
   "outputs": [],
   "source": [
    "df_copy = df.copy()"
   ]
  },
  {
   "cell_type": "code",
   "execution_count": 24,
   "metadata": {},
   "outputs": [
    {
     "ename": "AttributeError",
     "evalue": "'NoneType' object has no attribute 'info'",
     "output_type": "error",
     "traceback": [
      "\u001b[0;31m---------------------------------------------------------------------------\u001b[0m",
      "\u001b[0;31mAttributeError\u001b[0m                            Traceback (most recent call last)",
      "\u001b[0;32m/var/folders/fp/ky7t_b41243bb9937z642tf00000gn/T/ipykernel_44168/4008947589.py\u001b[0m in \u001b[0;36m<module>\u001b[0;34m\u001b[0m\n\u001b[1;32m      2\u001b[0m \u001b[0mcol\u001b[0m \u001b[0;34m=\u001b[0m \u001b[0mdf\u001b[0m\u001b[0;34m.\u001b[0m\u001b[0mpop\u001b[0m\u001b[0;34m(\u001b[0m\u001b[0;34m\"symbol\"\u001b[0m\u001b[0;34m)\u001b[0m\u001b[0;34m\u001b[0m\u001b[0;34m\u001b[0m\u001b[0m\n\u001b[1;32m      3\u001b[0m \u001b[0mdf\u001b[0m \u001b[0;34m=\u001b[0m \u001b[0mdf\u001b[0m\u001b[0;34m.\u001b[0m\u001b[0minsert\u001b[0m\u001b[0;34m(\u001b[0m\u001b[0;36m1\u001b[0m\u001b[0;34m,\u001b[0m \u001b[0mcol\u001b[0m\u001b[0;34m.\u001b[0m\u001b[0mname\u001b[0m\u001b[0;34m,\u001b[0m \u001b[0mcol\u001b[0m\u001b[0;34m)\u001b[0m\u001b[0;34m\u001b[0m\u001b[0;34m\u001b[0m\u001b[0m\n\u001b[0;32m----> 4\u001b[0;31m \u001b[0mprint\u001b[0m\u001b[0;34m(\u001b[0m\u001b[0mdf\u001b[0m\u001b[0;34m.\u001b[0m\u001b[0minfo\u001b[0m\u001b[0;34m(\u001b[0m\u001b[0;34m)\u001b[0m\u001b[0;34m)\u001b[0m\u001b[0;34m\u001b[0m\u001b[0;34m\u001b[0m\u001b[0m\n\u001b[0m\u001b[1;32m      5\u001b[0m \u001b[0mprint\u001b[0m\u001b[0;34m(\u001b[0m\u001b[0mdf\u001b[0m\u001b[0;34m.\u001b[0m\u001b[0misnull\u001b[0m\u001b[0;34m(\u001b[0m\u001b[0;34m)\u001b[0m\u001b[0;34m.\u001b[0m\u001b[0mvalues\u001b[0m\u001b[0;34m.\u001b[0m\u001b[0many\u001b[0m\u001b[0;34m(\u001b[0m\u001b[0;34m)\u001b[0m\u001b[0;34m)\u001b[0m\u001b[0;34m\u001b[0m\u001b[0;34m\u001b[0m\u001b[0m\n",
      "\u001b[0;31mAttributeError\u001b[0m: 'NoneType' object has no attribute 'info'"
     ]
    }
   ],
   "source": [
    "df = df.rename(columns={\"stock\": \"symbol\"})\n",
    "col = df.pop(\"symbol\")\n",
    "df = df.insert(1, col.name, col)\n",
    "print(df.info())\n",
    "print(df.isnull().values.any())"
   ]
  },
  {
   "cell_type": "code",
   "execution_count": 22,
   "metadata": {},
   "outputs": [
    {
     "name": "stdout",
     "output_type": "stream",
     "text": [
      "<class 'pandas.core.frame.DataFrame'>\n",
      "RangeIndex: 75955 entries, 0 to 75954\n",
      "Data columns (total 16 columns):\n",
      " #   Column            Non-Null Count  Dtype  \n",
      "---  ------            --------------  -----  \n",
      " 0   date              75955 non-null  object \n",
      " 1   symbol            75955 non-null  object \n",
      " 2   eps               75955 non-null  float64\n",
      " 3   epsEstimated      75955 non-null  float64\n",
      " 4   time              75955 non-null  object \n",
      " 5   open              75955 non-null  float64\n",
      " 6   high              75955 non-null  float64\n",
      " 7   low               75955 non-null  float64\n",
      " 8   close             75955 non-null  float64\n",
      " 9   adjClose          75955 non-null  float64\n",
      " 10  volume            75955 non-null  int64  \n",
      " 11  unadjustedVolume  75955 non-null  int64  \n",
      " 12  change            75955 non-null  float64\n",
      " 13  changePercent     75955 non-null  float64\n",
      " 14  vwap              75955 non-null  float64\n",
      " 15  changeOverTime    75955 non-null  float64\n",
      "dtypes: float64(11), int64(2), object(3)\n",
      "memory usage: 9.3+ MB\n",
      "None\n"
     ]
    }
   ],
   "source": [
    "print(earnings_pricing.info())"
   ]
  },
  {
   "cell_type": "code",
   "execution_count": null,
   "metadata": {},
   "outputs": [],
   "source": [
    "total_df = earnings_pricing_df.join(df, on=['date', 'symbol'])"
   ]
  }
 ],
 "metadata": {
  "interpreter": {
   "hash": "4728a1e695d94c961678d379cd8302d4e874de393bb0bc74e83299780713b515"
  },
  "kernelspec": {
   "display_name": "Python 3.8.3 64-bit ('venv': venv)",
   "language": "python",
   "name": "python3"
  },
  "language_info": {
   "codemirror_mode": {
    "name": "ipython",
    "version": 3
   },
   "file_extension": ".py",
   "mimetype": "text/x-python",
   "name": "python",
   "nbconvert_exporter": "python",
   "pygments_lexer": "ipython3",
   "version": "3.8.3"
  },
  "orig_nbformat": 4
 },
 "nbformat": 4,
 "nbformat_minor": 2
}
