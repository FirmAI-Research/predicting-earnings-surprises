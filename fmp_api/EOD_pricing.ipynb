{
 "cells": [
  {
   "cell_type": "code",
   "execution_count": 1,
   "metadata": {},
   "outputs": [],
   "source": [
    "import time\n",
    "import pandas as pd\n",
    "import requests\n",
    "import json\n",
    "import concurrent.futures\n",
    "from decouple import config\n",
    "\n",
    "# Disable warnings\n",
    "import urllib3\n",
    "urllib3.disable_warnings(urllib3.exceptions.InsecureRequestWarning)"
   ]
  },
  {
   "cell_type": "code",
   "execution_count": 2,
   "metadata": {},
   "outputs": [],
   "source": [
    "def get_jsonparsed_data(url):\n",
    "    \"\"\"\n",
    "    Sends a GET request to FMP's Earning Surprise API and returns the resulting data in a dictionary\n",
    "    \"\"\"\n",
    "    # sending get request and saving the response as response object\n",
    "    response = requests.get(url=url)\n",
    "    data = json.loads(response.text)\n",
    "    return data"
   ]
  },
  {
   "cell_type": "code",
   "execution_count": 3,
   "metadata": {},
   "outputs": [
    {
     "name": "stdout",
     "output_type": "stream",
     "text": [
      "<class 'pandas.core.frame.DataFrame'>\n",
      "RangeIndex: 75540 entries, 0 to 75539\n",
      "Data columns (total 7 columns):\n",
      " #   Column        Non-Null Count  Dtype  \n",
      "---  ------        --------------  -----  \n",
      " 0   earnings_id   75540 non-null  int64  \n",
      " 1   date          75540 non-null  object \n",
      " 2   symbol_id     75540 non-null  int64  \n",
      " 3   symbol        75540 non-null  object \n",
      " 4   eps           71820 non-null  float64\n",
      " 5   epsEstimated  71419 non-null  float64\n",
      " 6   time          75539 non-null  object \n",
      "dtypes: float64(2), int64(2), object(3)\n",
      "memory usage: 4.0+ MB\n"
     ]
    }
   ],
   "source": [
    "# Pull API key from .env file\n",
    "FMP_API_KEY = config(\"FMP_API_KEY\")\n",
    "EOD_API_KEY = config(\"EOD_API_KEY\")\n",
    "# Read in earnings data\n",
    "earnings_df = pd.read_csv(\"historical_earnings_new.csv\") \n",
    "earnings_df.info()"
   ]
  },
  {
   "cell_type": "code",
   "execution_count": 4,
   "metadata": {},
   "outputs": [
    {
     "data": {
      "text/html": [
       "<div>\n",
       "<style scoped>\n",
       "    .dataframe tbody tr th:only-of-type {\n",
       "        vertical-align: middle;\n",
       "    }\n",
       "\n",
       "    .dataframe tbody tr th {\n",
       "        vertical-align: top;\n",
       "    }\n",
       "\n",
       "    .dataframe thead th {\n",
       "        text-align: right;\n",
       "    }\n",
       "</style>\n",
       "<table border=\"1\" class=\"dataframe\">\n",
       "  <thead>\n",
       "    <tr style=\"text-align: right;\">\n",
       "      <th></th>\n",
       "      <th>earnings_id</th>\n",
       "      <th>date</th>\n",
       "      <th>symbol_id</th>\n",
       "      <th>symbol</th>\n",
       "      <th>eps</th>\n",
       "      <th>epsEstimated</th>\n",
       "      <th>time</th>\n",
       "    </tr>\n",
       "  </thead>\n",
       "  <tbody>\n",
       "    <tr>\n",
       "      <th>0</th>\n",
       "      <td>1</td>\n",
       "      <td>11/22/21</td>\n",
       "      <td>0</td>\n",
       "      <td>A</td>\n",
       "      <td>1.21</td>\n",
       "      <td>1.17</td>\n",
       "      <td>amc</td>\n",
       "    </tr>\n",
       "    <tr>\n",
       "      <th>1</th>\n",
       "      <td>2</td>\n",
       "      <td>8/17/21</td>\n",
       "      <td>0</td>\n",
       "      <td>A</td>\n",
       "      <td>1.10</td>\n",
       "      <td>0.99</td>\n",
       "      <td>amc</td>\n",
       "    </tr>\n",
       "    <tr>\n",
       "      <th>2</th>\n",
       "      <td>3</td>\n",
       "      <td>5/25/21</td>\n",
       "      <td>0</td>\n",
       "      <td>A</td>\n",
       "      <td>0.71</td>\n",
       "      <td>0.83</td>\n",
       "      <td>amc</td>\n",
       "    </tr>\n",
       "    <tr>\n",
       "      <th>3</th>\n",
       "      <td>4</td>\n",
       "      <td>2/16/21</td>\n",
       "      <td>0</td>\n",
       "      <td>A</td>\n",
       "      <td>0.94</td>\n",
       "      <td>0.89</td>\n",
       "      <td>amc</td>\n",
       "    </tr>\n",
       "    <tr>\n",
       "      <th>4</th>\n",
       "      <td>5</td>\n",
       "      <td>11/23/20</td>\n",
       "      <td>0</td>\n",
       "      <td>A</td>\n",
       "      <td>0.72</td>\n",
       "      <td>0.93</td>\n",
       "      <td>amc</td>\n",
       "    </tr>\n",
       "    <tr>\n",
       "      <th>...</th>\n",
       "      <td>...</td>\n",
       "      <td>...</td>\n",
       "      <td>...</td>\n",
       "      <td>...</td>\n",
       "      <td>...</td>\n",
       "      <td>...</td>\n",
       "      <td>...</td>\n",
       "    </tr>\n",
       "    <tr>\n",
       "      <th>75535</th>\n",
       "      <td>75536</td>\n",
       "      <td>5/12/16</td>\n",
       "      <td>2377</td>\n",
       "      <td>ZYNE</td>\n",
       "      <td>-0.49</td>\n",
       "      <td>-0.56</td>\n",
       "      <td>bmo</td>\n",
       "    </tr>\n",
       "    <tr>\n",
       "      <th>75536</th>\n",
       "      <td>75537</td>\n",
       "      <td>3/14/16</td>\n",
       "      <td>2377</td>\n",
       "      <td>ZYNE</td>\n",
       "      <td>-0.62</td>\n",
       "      <td>-0.29</td>\n",
       "      <td>bmo</td>\n",
       "    </tr>\n",
       "    <tr>\n",
       "      <th>75537</th>\n",
       "      <td>75538</td>\n",
       "      <td>11/11/15</td>\n",
       "      <td>2377</td>\n",
       "      <td>ZYNE</td>\n",
       "      <td>-0.66</td>\n",
       "      <td>-0.38</td>\n",
       "      <td>bmo</td>\n",
       "    </tr>\n",
       "    <tr>\n",
       "      <th>75538</th>\n",
       "      <td>75539</td>\n",
       "      <td>8/27/15</td>\n",
       "      <td>2377</td>\n",
       "      <td>ZYNE</td>\n",
       "      <td>NaN</td>\n",
       "      <td>NaN</td>\n",
       "      <td>bmo</td>\n",
       "    </tr>\n",
       "    <tr>\n",
       "      <th>75539</th>\n",
       "      <td>75540</td>\n",
       "      <td>8/5/15</td>\n",
       "      <td>2377</td>\n",
       "      <td>ZYNE</td>\n",
       "      <td>NaN</td>\n",
       "      <td>NaN</td>\n",
       "      <td>bmo</td>\n",
       "    </tr>\n",
       "  </tbody>\n",
       "</table>\n",
       "<p>75540 rows × 7 columns</p>\n",
       "</div>"
      ],
      "text/plain": [
       "       earnings_id      date  symbol_id symbol   eps  epsEstimated time\n",
       "0                1  11/22/21          0      A  1.21          1.17  amc\n",
       "1                2   8/17/21          0      A  1.10          0.99  amc\n",
       "2                3   5/25/21          0      A  0.71          0.83  amc\n",
       "3                4   2/16/21          0      A  0.94          0.89  amc\n",
       "4                5  11/23/20          0      A  0.72          0.93  amc\n",
       "...            ...       ...        ...    ...   ...           ...  ...\n",
       "75535        75536   5/12/16       2377   ZYNE -0.49         -0.56  bmo\n",
       "75536        75537   3/14/16       2377   ZYNE -0.62         -0.29  bmo\n",
       "75537        75538  11/11/15       2377   ZYNE -0.66         -0.38  bmo\n",
       "75538        75539   8/27/15       2377   ZYNE   NaN           NaN  bmo\n",
       "75539        75540    8/5/15       2377   ZYNE   NaN           NaN  bmo\n",
       "\n",
       "[75540 rows x 7 columns]"
      ]
     },
     "execution_count": 4,
     "metadata": {},
     "output_type": "execute_result"
    }
   ],
   "source": [
    "earnings_df"
   ]
  },
  {
   "cell_type": "code",
   "execution_count": 5,
   "metadata": {},
   "outputs": [
    {
     "name": "stdout",
     "output_type": "stream",
     "text": [
      "0       2021-11-22\n",
      "1       2021-08-17\n",
      "2       2021-05-25\n",
      "3       2021-02-16\n",
      "4       2020-11-23\n",
      "           ...    \n",
      "75535   2016-05-12\n",
      "75536   2016-03-14\n",
      "75537   2015-11-11\n",
      "75538   2015-08-27\n",
      "75539   2015-08-05\n",
      "Name: date, Length: 75540, dtype: datetime64[ns]\n"
     ]
    }
   ],
   "source": [
    "original_dates = pd.to_datetime(earnings_df[\"date\"])\n",
    "print(original_dates)"
   ]
  },
  {
   "cell_type": "code",
   "execution_count": 6,
   "metadata": {},
   "outputs": [
    {
     "name": "stdout",
     "output_type": "stream",
     "text": [
      "0       2021-09-10\n",
      "1       2021-06-07\n",
      "2       2021-03-15\n",
      "3       2020-12-07\n",
      "4       2020-09-11\n",
      "           ...    \n",
      "75535   2016-03-02\n",
      "75536   2016-01-01\n",
      "75537   2015-09-01\n",
      "75538   2015-06-17\n",
      "75539   2015-05-26\n",
      "Name: date, Length: 75540, dtype: datetime64[ns]\n"
     ]
    }
   ],
   "source": [
    "from pandas.tseries.offsets import BDay\n",
    "# Subtract 50 business days to get a series of first dates\n",
    "first_date = original_dates - BDay(51)\n",
    "print(first_date)"
   ]
  },
  {
   "cell_type": "code",
   "execution_count": 7,
   "metadata": {},
   "outputs": [
    {
     "name": "stdout",
     "output_type": "stream",
     "text": [
      "       earnings_id      date  symbol_id symbol   eps  epsEstimated time\n",
      "0                1  11/22/21          0      A  1.21          1.17  amc\n",
      "1                2   8/17/21          0      A  1.10          0.99  amc\n",
      "2                3   5/25/21          0      A  0.71          0.83  amc\n",
      "3                4   2/16/21          0      A  0.94          0.89  amc\n",
      "4                5  11/23/20          0      A  0.72          0.93  amc\n",
      "...            ...       ...        ...    ...   ...           ...  ...\n",
      "75535        75536   5/12/16       2377   ZYNE -0.49         -0.56  bmo\n",
      "75536        75537   3/14/16       2377   ZYNE -0.62         -0.29  bmo\n",
      "75537        75538  11/11/15       2377   ZYNE -0.66         -0.38  bmo\n",
      "75538        75539   8/27/15       2377   ZYNE   NaN           NaN  bmo\n",
      "75539        75540    8/5/15       2377   ZYNE   NaN           NaN  bmo\n",
      "\n",
      "[75540 rows x 7 columns]\n"
     ]
    }
   ],
   "source": [
    "#filtered_df = earnings_df.loc[(pd.to_datetime(earnings_df['date']) > '2012-01-01')]\n",
    "filtered_df = earnings_df\n",
    "print(filtered_df)"
   ]
  },
  {
   "cell_type": "code",
   "execution_count": 8,
   "metadata": {},
   "outputs": [
    {
     "name": "stdout",
     "output_type": "stream",
     "text": [
      "       earnings_id      date  symbol_id symbol   eps  epsEstimated time\n",
      "0                1  11/22/21          0      A  1.21          1.17  amc\n",
      "1                2   8/17/21          0      A  1.10          0.99  amc\n",
      "2                3   5/25/21          0      A  0.71          0.83  amc\n",
      "3                4   2/16/21          0      A  0.94          0.89  amc\n",
      "4                5  11/23/20          0      A  0.72          0.93  amc\n",
      "...            ...       ...        ...    ...   ...           ...  ...\n",
      "75533        75534  11/14/16       2377   ZYNE -0.67         -0.69  bmo\n",
      "75534        75535   8/11/16       2377   ZYNE -0.70         -0.54  bmo\n",
      "75535        75536   5/12/16       2377   ZYNE -0.49         -0.56  bmo\n",
      "75536        75537   3/14/16       2377   ZYNE -0.62         -0.29  bmo\n",
      "75537        75538  11/11/15       2377   ZYNE -0.66         -0.38  bmo\n",
      "\n",
      "[71121 rows x 7 columns]\n"
     ]
    }
   ],
   "source": [
    "filtered_na_df = filtered_df.dropna()\n",
    "print(filtered_na_df)"
   ]
  },
  {
   "cell_type": "code",
   "execution_count": 9,
   "metadata": {},
   "outputs": [],
   "source": [
    "filtered_na_df.to_csv(\"filtered_earnings.csv\")"
   ]
  }
 ],
 "metadata": {
  "interpreter": {
   "hash": "4728a1e695d94c961678d379cd8302d4e874de393bb0bc74e83299780713b515"
  },
  "kernelspec": {
   "display_name": "Python 3.8.3 64-bit ('venv': venv)",
   "language": "python",
   "name": "python3"
  },
  "language_info": {
   "codemirror_mode": {
    "name": "ipython",
    "version": 3
   },
   "file_extension": ".py",
   "mimetype": "text/x-python",
   "name": "python",
   "nbconvert_exporter": "python",
   "pygments_lexer": "ipython3",
   "version": "3.8.3"
  },
  "orig_nbformat": 4
 },
 "nbformat": 4,
 "nbformat_minor": 2
}
