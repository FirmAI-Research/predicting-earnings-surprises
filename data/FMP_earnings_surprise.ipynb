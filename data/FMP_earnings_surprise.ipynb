{
 "cells": [
  {
   "cell_type": "code",
   "execution_count": 1,
   "metadata": {},
   "outputs": [],
   "source": [
    "import time\n",
    "import pandas as pd\n",
    "import requests\n",
    "import json\n",
    "import concurrent.futures\n",
    "from decouple import config\n",
    "\n",
    "# Disable warnings\n",
    "import urllib3\n",
    "urllib3.disable_warnings(urllib3.exceptions.InsecureRequestWarning)"
   ]
  },
  {
   "cell_type": "code",
   "execution_count": 2,
   "metadata": {},
   "outputs": [],
   "source": [
    "def get_jsonparsed_data(url):\n",
    "    \"\"\"\n",
    "    Sends a GET request to FMP's Earning Surprise API and returns the resulting data in a dictionary\n",
    "    \"\"\"\n",
    "    # sending get request and saving the response as response object\n",
    "    response = requests.get(url=url)\n",
    "    data = json.loads(response.text)\n",
    "    return data"
   ]
  },
  {
   "cell_type": "code",
   "execution_count": 3,
   "metadata": {},
   "outputs": [
    {
     "name": "stdout",
     "output_type": "stream",
     "text": [
      "<class 'pandas.core.frame.DataFrame'>\n",
      "RangeIndex: 8202 entries, 0 to 8201\n",
      "Data columns (total 7 columns):\n",
      " #   Column      Non-Null Count  Dtype  \n",
      "---  ------      --------------  -----  \n",
      " 0   Symbol      8202 non-null   object \n",
      " 1   Name        8202 non-null   object \n",
      " 2   Market Cap  7729 non-null   float64\n",
      " 3   Country     7458 non-null   object \n",
      " 4   IPO Year    4820 non-null   float64\n",
      " 5   Sector      6178 non-null   object \n",
      " 6   Industry    6195 non-null   object \n",
      "dtypes: float64(2), object(5)\n",
      "memory usage: 448.7+ KB\n",
      "None\n"
     ]
    }
   ],
   "source": [
    "# Read in nasdaq data and extract symbols column\n",
    "nasdaq_list = pd.read_csv(\"nasdaq_list.csv\")\n",
    "# Pull API key from .env file\n",
    "FMP_API_KEY = config(\"FMP_API_KEY\")\n",
    "\n",
    "nasdaq_list.info()"
   ]
  },
  {
   "cell_type": "code",
   "execution_count": 4,
   "metadata": {},
   "outputs": [
    {
     "name": "stdout",
     "output_type": "stream",
     "text": [
      "<class 'pandas.core.frame.DataFrame'>\n",
      "Int64Index: 3156 entries, 0 to 8200\n",
      "Data columns (total 7 columns):\n",
      " #   Column      Non-Null Count  Dtype  \n",
      "---  ------      --------------  -----  \n",
      " 0   Symbol      3156 non-null   object \n",
      " 1   Name        3156 non-null   object \n",
      " 2   Market Cap  3156 non-null   float64\n",
      " 3   Country     3156 non-null   object \n",
      " 4   IPO Year    3156 non-null   float64\n",
      " 5   Sector      3156 non-null   object \n",
      " 6   Industry    3156 non-null   object \n",
      "dtypes: float64(2), object(5)\n",
      "memory usage: 197.2+ KB\n",
      "None\n"
     ]
    }
   ],
   "source": [
    "# Filter missing out rows with missing data\n",
    "# Filter reduces dataset from 8202 entries to 3156 entries\n",
    "nasdaq_list_filtered = nasdaq_list.dropna()\n",
    "nasdaq_list_filtered.info()"
   ]
  },
  {
   "cell_type": "code",
   "execution_count": 5,
   "metadata": {},
   "outputs": [],
   "source": [
    "symbols = nasdaq_list_filtered.Symbol\n",
    "\n",
    "url_list = []\n",
    "for idx, val in enumerate(symbols):\n",
    "    url = \"https://financialmodelingprep.com/api/v3/earnings-surprises/{}?apikey={}\".format(val, FMP_API_KEY)\n",
    "    url_list.append(url)"
   ]
  },
  {
   "cell_type": "code",
   "execution_count": 6,
   "metadata": {},
   "outputs": [],
   "source": [
    "# Call FMP API for each URL using Concurrent library\n",
    "# Run takes 211 seconds ... be patient\n",
    "with concurrent.futures.ThreadPoolExecutor() as executor:\n",
    "    res = [executor.submit(get_jsonparsed_data, url) for url in url_list]\n",
    "    concurrent.futures.wait(res)"
   ]
  },
  {
   "cell_type": "code",
   "execution_count": 12,
   "metadata": {},
   "outputs": [],
   "source": [
    "df = pd.DataFrame()\n",
    "for x in range(len(symbols)):\n",
    "    res_df = pd.DataFrame(res[x].result())\n",
    "    df = pd.concat([df, res_df])"
   ]
  },
  {
   "cell_type": "code",
   "execution_count": 13,
   "metadata": {},
   "outputs": [
    {
     "name": "stdout",
     "output_type": "stream",
     "text": [
      "          date symbol  actualEarningResult  estimatedEarning\n",
      "0   2021-11-22      A                 1.21              1.17\n",
      "1   2021-08-17      A                 1.10              0.99\n",
      "2   2021-05-25      A                 0.97              0.83\n",
      "3   2021-02-16      A                 1.06              0.89\n",
      "4   2020-11-23      A                 0.98              0.93\n",
      "..         ...    ...                  ...               ...\n",
      "8   2019-11-06   ZYNE                -0.08             -0.52\n",
      "9   2019-08-06   ZYNE                -0.50             -0.50\n",
      "10  2019-05-08   ZYNE                -0.47             -0.49\n",
      "11  2019-03-11   ZYNE                -0.44             -0.65\n",
      "12  2018-11-08   ZYNE                -0.47             -0.70\n",
      "\n",
      "[21702 rows x 4 columns]\n"
     ]
    }
   ],
   "source": [
    "print(df)"
   ]
  },
  {
   "cell_type": "code",
   "execution_count": 18,
   "metadata": {},
   "outputs": [
    {
     "name": "stdout",
     "output_type": "stream",
     "text": [
      "<class 'pandas.core.frame.DataFrame'>\n",
      "RangeIndex: 21702 entries, 0 to 21701\n",
      "Data columns (total 4 columns):\n",
      " #   Column               Non-Null Count  Dtype  \n",
      "---  ------               --------------  -----  \n",
      " 0   date                 21702 non-null  object \n",
      " 1   symbol               21702 non-null  object \n",
      " 2   actualEarningResult  21702 non-null  float64\n",
      " 3   estimatedEarning     21701 non-null  float64\n",
      "dtypes: float64(2), object(2)\n",
      "memory usage: 678.3+ KB\n"
     ]
    }
   ],
   "source": [
    "df.info()"
   ]
  },
  {
   "cell_type": "code",
   "execution_count": 20,
   "metadata": {},
   "outputs": [],
   "source": [
    "df.to_csv(\"earnings_surprises.csv\")"
   ]
  }
 ],
 "metadata": {
  "kernelspec": {
   "display_name": "Python 3",
   "language": "python",
   "name": "python3"
  },
  "language_info": {
   "codemirror_mode": {
    "name": "ipython",
    "version": 3
   },
   "file_extension": ".py",
   "mimetype": "text/x-python",
   "name": "python",
   "nbconvert_exporter": "python",
   "pygments_lexer": "ipython3",
   "version": "3.8.3"
  }
 },
 "nbformat": 4,
 "nbformat_minor": 4
}
