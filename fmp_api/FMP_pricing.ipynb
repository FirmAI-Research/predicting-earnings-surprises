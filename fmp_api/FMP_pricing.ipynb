{
 "cells": [
  {
   "cell_type": "code",
   "execution_count": null,
   "metadata": {},
   "outputs": [],
   "source": [
    "import time\n",
    "import pandas as pd\n",
    "import requests\n",
    "import json\n",
    "import concurrent.futures\n",
    "from decouple import config\n",
    "\n",
    "# Disable warnings\n",
    "import urllib3\n",
    "urllib3.disable_warnings(urllib3.exceptions.InsecureRequestWarning)"
   ]
  },
  {
   "cell_type": "code",
   "execution_count": null,
   "metadata": {},
   "outputs": [],
   "source": [
    "def get_jsonparsed_data(url):\n",
    "    \"\"\"\n",
    "    Sends a GET request to FMP's Earning Surprise API and returns the resulting data in a dictionary\n",
    "    \"\"\"\n",
    "    # sending get request and saving the response as response object\n",
    "    response = requests.get(url=url)\n",
    "    data = json.loads(response.text)\n",
    "    return data"
   ]
  }
 ],
 "metadata": {
  "language_info": {
   "name": "python"
  },
  "orig_nbformat": 4
 },
 "nbformat": 4,
 "nbformat_minor": 2
}
