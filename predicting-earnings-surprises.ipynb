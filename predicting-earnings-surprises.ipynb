{
 "cells": [
  {
   "cell_type": "markdown",
   "metadata": {},
   "source": [
    "# Predicting Earnings Surprises"
   ]
  },
  {
   "cell_type": "markdown",
   "metadata": {},
   "source": [
    "## Task"
   ]
  },
  {
   "cell_type": "markdown",
   "metadata": {},
   "source": [
    "We want to predict the magnitude of company's upcoming earnings announcement using a machine learning classification model. The model is trained on three types of data: earnings, pricing, and technical price action data. The optimized model outputs a result into one of three classes: positive, neutral, or negative. A 'positive' classification indicates a predicted surprise >15% of the estimated eps, a 'negative' classification indicates a predicted surprise <-15% of the estimated eps, and a 'neutral' classification indicates no predicted surprise (15% < x < -15%). "
   ]
  },
  {
   "cell_type": "markdown",
   "metadata": {},
   "source": [
    "## Data"
   ]
  },
  {
   "cell_type": "markdown",
   "metadata": {},
   "source": [
    "The data for training and testing the model came from several external data providers. Earning and pricing data was collected from Financial Modeling Prep's historical earnings calendar and daily indicator endpoints. Technical data is collected from FMP Cloud's daily technical indicator endpoint."
   ]
  },
  {
   "cell_type": "markdown",
   "metadata": {},
   "source": [
    "The schema below outlines the database architecture into an AWS RDS MySQL database:"
   ]
  },
  {
   "cell_type": "markdown",
   "metadata": {},
   "source": [
    "![Untitled Workspace (1)](https://user-images.githubusercontent.com/45079557/150410944-eb8c8e30-ac2d-4f23-bb03-cb5c3f489cfb.png)"
   ]
  },
  {
   "cell_type": "code",
   "execution_count": 1,
   "metadata": {},
   "outputs": [],
   "source": [
    "import pandas as pd\n",
    "import numpy as np\n",
    "import matplotlib.pyplot as plt\n",
    "import pymysql\n",
    "import seaborn as sns\n",
    "from decouple import config\n",
    "from sqlalchemy import create_engine\n",
    "from sqlalchemy.orm import sessionmaker\n",
    "from scipy import stats"
   ]
  },
  {
   "cell_type": "code",
   "execution_count": 2,
   "metadata": {},
   "outputs": [],
   "source": [
    "# Set parameters for AWS database\n",
    "aws_hostname = config(\"AWS_HOST\")\n",
    "aws_database = config(\"AWS_DB\")\n",
    "aws_username = config(\"AWS_USER\")\n",
    "aws_password = config(\"AWS_PASS\")\n",
    "aws_port = config(\"AWS_PORT\")\n",
    "\n",
    "# Pull API keys from .env file\n",
    "FMP_API_KEY = config(\"FMP_API_KEY\")\n",
    "FMP_CLOUD_API_KEY = config(\"FMP_CLOUD_API_KEY\")"
   ]
  },
  {
   "cell_type": "code",
   "execution_count": 3,
   "metadata": {},
   "outputs": [],
   "source": [
    "db = pymysql.connect(host=aws_hostname,user=aws_username, password=aws_password, database='rds-python', charset='utf8mb4', cursorclass=pymysql.cursors.DictCursor)\n",
    "cursor = db.cursor()"
   ]
  },
  {
   "cell_type": "markdown",
   "metadata": {},
   "source": [
    "### Retrieve Data from MySQL Database"
   ]
  },
  {
   "cell_type": "code",
   "execution_count": 4,
   "metadata": {},
   "outputs": [],
   "source": [
    "cursor.execute(\"SELECT e.*, p.*, t.* FROM earnings e INNER JOIN pricing p ON e.id = p.id INNER JOIN technicals t ON e.id = t.id\")\n",
    "train = cursor.fetchall()"
   ]
  },
  {
   "cell_type": "code",
   "execution_count": 5,
   "metadata": {},
   "outputs": [
    {
     "name": "stdout",
     "output_type": "stream",
     "text": [
      "<class 'pandas.core.frame.DataFrame'>\n",
      "RangeIndex: 75781 entries, 0 to 75780\n",
      "Data columns (total 33 columns):\n",
      " #   Column             Non-Null Count  Dtype  \n",
      "---  ------             --------------  -----  \n",
      " 0   id                 75781 non-null  object \n",
      " 1   earnings_date      75781 non-null  object \n",
      " 2   symbol             75781 non-null  object \n",
      " 3   eps                75578 non-null  float64\n",
      " 4   eps_estimated      75781 non-null  float64\n",
      " 5   earnings_time      75781 non-null  object \n",
      " 6   p.id               75781 non-null  object \n",
      " 7   p.earnings_date    75781 non-null  object \n",
      " 8   p.symbol           75781 non-null  object \n",
      " 9   open_price         75781 non-null  float64\n",
      " 10  high_price         75781 non-null  float64\n",
      " 11  low_price          75781 non-null  float64\n",
      " 12  close_price        75781 non-null  float64\n",
      " 13  adj_close          75781 non-null  float64\n",
      " 14  daily_volume       75781 non-null  int64  \n",
      " 15  unadjusted_volume  75781 non-null  int64  \n",
      " 16  change_dollars     75781 non-null  float64\n",
      " 17  change_percent     75781 non-null  float64\n",
      " 18  vwap               75781 non-null  float64\n",
      " 19  change_over_time   75781 non-null  float64\n",
      " 20  t.id               75781 non-null  object \n",
      " 21  t.earnings_date    75781 non-null  object \n",
      " 22  t.symbol           75781 non-null  object \n",
      " 23  sma_5              75781 non-null  float64\n",
      " 24  sma_10             75781 non-null  float64\n",
      " 25  sma_20             75781 non-null  float64\n",
      " 26  ema_5              75781 non-null  float64\n",
      " 27  ema_10             75781 non-null  float64\n",
      " 28  ema_20             75781 non-null  float64\n",
      " 29  rsi_14             75781 non-null  float64\n",
      " 30  wma_5              75781 non-null  float64\n",
      " 31  wma_10             75781 non-null  float64\n",
      " 32  wma_20             75781 non-null  float64\n",
      "dtypes: float64(21), int64(2), object(10)\n",
      "memory usage: 19.1+ MB\n"
     ]
    }
   ],
   "source": [
    "train_df = pd.DataFrame(train)\n",
    "train_df.info()"
   ]
  },
  {
   "cell_type": "code",
   "execution_count": 6,
   "metadata": {},
   "outputs": [],
   "source": [
    "cursor.close()\n",
    "db.close()"
   ]
  },
  {
   "cell_type": "markdown",
   "metadata": {},
   "source": [
    "### Cleaning Data"
   ]
  },
  {
   "cell_type": "code",
   "execution_count": 7,
   "metadata": {},
   "outputs": [
    {
     "name": "stdout",
     "output_type": "stream",
     "text": [
      "                id earnings_date symbol   eps  eps_estimated earnings_time  \\\n",
      "0   2012-01-09-AYI        1/9/12    AYI  0.74           0.67           bmo   \n",
      "1   2012-01-09-HWM        1/9/12    HWM -0.09          -0.09           bmo   \n",
      "2  2012-01-09-SCHN        1/9/12   SCHN  0.25           0.23           bmo   \n",
      "3  2012-01-09-WDFC        1/9/12   WDFC  0.42           0.54           amc   \n",
      "4   2012-01-10-SNX       1/10/12    SNX  1.37           1.14           amc   \n",
      "\n",
      "   open_price  high_price  low_price  close_price  ...   sma_5  sma_10  \\\n",
      "0   54.980000   57.810001  52.250000    54.939999  ...  50.715  50.374   \n",
      "1   20.824589   21.319340  20.734632    21.206898  ...   5.909   5.708   \n",
      "2   42.770000   44.990002  42.750000    44.180000  ...  32.557  31.835   \n",
      "3   40.290001   41.560001  39.840000    41.080002  ...  34.203  34.365   \n",
      "4   15.895000   16.055000  15.800000    16.045000  ...  14.678  14.448   \n",
      "\n",
      "   sma_20   ema_5  ema_10  ema_20  rsi_14   wma_5  wma_10  wma_20  \n",
      "0  49.102  50.717  50.222  49.232  62.734  50.719  50.557  49.791  \n",
      "1   5.697   5.861   5.787   5.793  54.373   5.914   5.794   5.707  \n",
      "2  32.202  32.265  32.139  32.265  50.412  32.457  32.094  31.963  \n",
      "3  34.173  34.306  34.277  34.249  54.634  34.249  34.262  34.289  \n",
      "4  14.059  14.709  14.493  14.217  70.951  14.757  14.594  14.309  \n",
      "\n",
      "[5 rows x 27 columns]\n"
     ]
    }
   ],
   "source": [
    "train_df = train_df.drop(['p.id', 'p.earnings_date', 'p.symbol', 't.id', 't.earnings_date', 't.symbol'], axis = 1)\n",
    "print(train_df.head())"
   ]
  },
  {
   "cell_type": "code",
   "execution_count": 8,
   "metadata": {},
   "outputs": [
    {
     "name": "stdout",
     "output_type": "stream",
     "text": [
      "203\n",
      "                    id earnings_date symbol  eps  eps_estimated earnings_time  \\\n",
      "75578   2022-01-18-BFC      01/18/22    BFC  NaN           1.39           bmo   \n",
      "75579    2022-01-18-BK      01/18/22     BK  NaN           1.02           bmo   \n",
      "75580  2022-01-18-CNXC      01/18/22   CNXC  NaN           2.54           amc   \n",
      "75581  2022-01-18-CTXS      01/18/22   CTXS  NaN           0.43           bmo   \n",
      "75582   2022-01-18-FBK      01/18/22    FBK  NaN           0.82           bmo   \n",
      "\n",
      "       open_price  high_price  low_price  close_price  ...    sma_5   sma_10  \\\n",
      "75578       71.45      72.580      70.61        71.64  ...   72.376   72.432   \n",
      "75579       63.20      63.690      62.16        63.60  ...   63.334   61.959   \n",
      "75580      170.21     173.120     163.33       166.64  ...  169.310  172.466   \n",
      "75581       94.53      96.260      94.45        95.80  ...   96.558   96.766   \n",
      "75582       45.63      46.971      45.54        46.92  ...   46.406   45.870   \n",
      "\n",
      "         sma_20       ema_5      ema_10      ema_20     rsi_14       wma_5  \\\n",
      "75578   71.9370   72.176502   72.255827   72.014710  48.797515   72.112667   \n",
      "75579   59.9440   63.130671   62.095506   60.638010  74.175689   63.479333   \n",
      "75580  174.7465  169.880259  171.674658  173.269586  40.388489  169.634667   \n",
      "75581   95.0305   96.092806   95.953474   94.283515  55.520290   96.148000   \n",
      "75582   44.5715   46.341801   45.834506   45.144949  64.496616   46.425333   \n",
      "\n",
      "           wma_10      wma_20  \n",
      "75578   72.419091   72.285571  \n",
      "75579   62.775273   61.165190  \n",
      "75580  170.521818  173.764524  \n",
      "75581   96.375091   96.222048  \n",
      "75582   46.205455   45.377048  \n",
      "\n",
      "[5 rows x 27 columns]\n"
     ]
    }
   ],
   "source": [
    "\n",
    "is_NaN = train_df.isnull()\n",
    "row_has_NaN = is_NaN.any(axis=1)\n",
    "forecast_these = train_df[row_has_NaN]\n",
    "print(len(forecast_these))\n",
    "print(forecast_these.head())"
   ]
  },
  {
   "cell_type": "code",
   "execution_count": 9,
   "metadata": {},
   "outputs": [
    {
     "name": "stdout",
     "output_type": "stream",
     "text": [
      "<class 'pandas.core.frame.DataFrame'>\n",
      "Int64Index: 75578 entries, 0 to 75577\n",
      "Data columns (total 27 columns):\n",
      " #   Column             Non-Null Count  Dtype  \n",
      "---  ------             --------------  -----  \n",
      " 0   id                 75578 non-null  object \n",
      " 1   earnings_date      75578 non-null  object \n",
      " 2   symbol             75578 non-null  object \n",
      " 3   eps                75578 non-null  float64\n",
      " 4   eps_estimated      75578 non-null  float64\n",
      " 5   earnings_time      75578 non-null  object \n",
      " 6   open_price         75578 non-null  float64\n",
      " 7   high_price         75578 non-null  float64\n",
      " 8   low_price          75578 non-null  float64\n",
      " 9   close_price        75578 non-null  float64\n",
      " 10  adj_close          75578 non-null  float64\n",
      " 11  daily_volume       75578 non-null  int64  \n",
      " 12  unadjusted_volume  75578 non-null  int64  \n",
      " 13  change_dollars     75578 non-null  float64\n",
      " 14  change_percent     75578 non-null  float64\n",
      " 15  vwap               75578 non-null  float64\n",
      " 16  change_over_time   75578 non-null  float64\n",
      " 17  sma_5              75578 non-null  float64\n",
      " 18  sma_10             75578 non-null  float64\n",
      " 19  sma_20             75578 non-null  float64\n",
      " 20  ema_5              75578 non-null  float64\n",
      " 21  ema_10             75578 non-null  float64\n",
      " 22  ema_20             75578 non-null  float64\n",
      " 23  rsi_14             75578 non-null  float64\n",
      " 24  wma_5              75578 non-null  float64\n",
      " 25  wma_10             75578 non-null  float64\n",
      " 26  wma_20             75578 non-null  float64\n",
      "dtypes: float64(21), int64(2), object(4)\n",
      "memory usage: 16.1+ MB\n",
      "None\n"
     ]
    }
   ],
   "source": [
    "train_df = train_df[train_df[\"eps\"].notna()]\n",
    "df = train_df\n",
    "print(df.info())"
   ]
  },
  {
   "cell_type": "markdown",
   "metadata": {},
   "source": [
    "### EDA/Feature Engineering"
   ]
  },
  {
   "cell_type": "code",
   "execution_count": 10,
   "metadata": {},
   "outputs": [
    {
     "name": "stdout",
     "output_type": "stream",
     "text": [
      "0         0.094595\n",
      "1        -0.000000\n",
      "2         0.080000\n",
      "3        -0.285714\n",
      "4         0.167883\n",
      "           ...    \n",
      "75573     0.120879\n",
      "75574     0.727273\n",
      "75575   -13.000000\n",
      "75576     0.714286\n",
      "75577    -1.250000\n",
      "Name: perc_diff, Length: 75578, dtype: float64\n"
     ]
    }
   ],
   "source": [
    "df[\"perc_diff\"] = ((df[\"eps\"] - df[\"eps_estimated\"]) / df[\"eps\"])\n",
    "print(df[\"perc_diff\"])"
   ]
  },
  {
   "cell_type": "code",
   "execution_count": 11,
   "metadata": {},
   "outputs": [
    {
     "data": {
      "image/png": "[encoded data removed]",
      "text/plain": [
       "<Figure size 432x288 with 1 Axes>"
      ]
     },
     "metadata": {
      "needs_background": "light"
     },
     "output_type": "display_data"
    }
   ],
   "source": [
    "plt.scatter(pd.to_datetime(df[\"earnings_date\"]), df[\"perc_diff\"])\n",
    "plt.show()"
   ]
  },
  {
   "cell_type": "markdown",
   "metadata": {},
   "source": [
    "Few outliers are present in the percentage difference between EPS and EPS estimated. Therefore, we will fitler out rows that are greater than 3 or less than -3 standard deviations away."
   ]
  },
  {
   "cell_type": "code",
   "execution_count": 24,
   "metadata": {},
   "outputs": [
    {
     "name": "stdout",
     "output_type": "stream",
     "text": [
      "Earnings Surprise Average: 0.09443734467171165\n"
     ]
    }
   ],
   "source": [
    "df = df[df.perc_diff.between(df.perc_diff.quantile(.01), df.perc_diff.quantile(.99))]\n",
    "print(\"Earnings Surprise Average: {}\".format(df[\"perc_diff\"].mean()))"
   ]
  },
  {
   "cell_type": "markdown",
   "metadata": {},
   "source": [
    "#### Distribution of Historical Earnings Surprises"
   ]
  },
  {
   "cell_type": "code",
   "execution_count": 13,
   "metadata": {},
   "outputs": [
    {
     "data": {
      "image/png": "[encoded data removed]",
      "text/plain": [
       "<Figure size 432x288 with 1 Axes>"
      ]
     },
     "metadata": {
      "needs_background": "light"
     },
     "output_type": "display_data"
    }
   ],
   "source": [
    "num_bins = 100\n",
    "plt.hist(df[\"perc_diff\"], num_bins, facecolor='blue', alpha=0.5)\n",
    "plt.xlabel('EPS Difference (EPS - EPS Estimated)')\n",
    "plt.ylabel('Number of Earnings')\n",
    "plt.title('Histogram of Earnings Surprises')\n",
    "plt.grid(True)\n",
    "plt.tight_layout()\n",
    "plt.savefig('visuals/histogram_eps_diff.png', facecolor='white', transparent=False)\n",
    "plt.show()"
   ]
  },
  {
   "cell_type": "markdown",
   "metadata": {},
   "source": [
    "After removing outliers, we can see that the majority of historical earnings follow a normal distribution around the mean of 9%."
   ]
  },
  {
   "cell_type": "markdown",
   "metadata": {},
   "source": [
    "#### Significant Earnings Surprise Breakdown"
   ]
  },
  {
   "cell_type": "code",
   "execution_count": 14,
   "metadata": {},
   "outputs": [
    {
     "name": "stdout",
     "output_type": "stream",
     "text": [
      "21684\n",
      "-------------\n",
      "8759\n",
      "-------------\n",
      "43505\n"
     ]
    }
   ],
   "source": [
    "pos_surp = df[(df.perc_diff > .15)]\n",
    "neg_surp = df[(df.perc_diff < -.15)]\n",
    "neu_surp = df[(df.perc_diff < .15) & (df.perc_diff > -.15)]\n",
    "\n",
    "x = [\"Positive\", \"Neutral\", \"Negative\"]\n",
    "surprises = [len(pos_surp), len(neu_surp), len(neg_surp)]\n",
    "\n",
    "print(len(pos_surp))\n",
    "print(\"-------------\")\n",
    "print(len(neg_surp))\n",
    "print(\"-------------\")\n",
    "print(len(neu_surp))"
   ]
  },
  {
   "cell_type": "code",
   "execution_count": 15,
   "metadata": {},
   "outputs": [
    {
     "data": {
      "image/png": "[encoded data removed]",
      "text/plain": [
       "<Figure size 432x288 with 1 Axes>"
      ]
     },
     "metadata": {
      "needs_background": "light"
     },
     "output_type": "display_data"
    }
   ],
   "source": [
    "# Breakdown of the total number of each type of surprise in the dataset\n",
    "# Positive: >15% surprise\n",
    "# Neutral: <15% surprise and >-15% surprise\n",
    "# Negative: <-15% surprise\n",
    "plt.bar(x, surprises, color=['green', 'yellow', 'red'], alpha=0.5)\n",
    "plt.ylabel('Number of Earnings')\n",
    "plt.title('Earnings Surprise Breakdown')\n",
    "plt.tight_layout()\n",
    "plt.savefig('visuals/earn_bar.png', facecolor='white', transparent=False)\n",
    "plt.show()"
   ]
  },
  {
   "cell_type": "markdown",
   "metadata": {},
   "source": [
    "From the bar chart above, there are significantly more positive earnings surprises than negative earnings surprises. Therefore, it might be more lucrative, you only go long plays on earnings. "
   ]
  },
  {
   "cell_type": "markdown",
   "metadata": {},
   "source": [
    "#### Earnings Surprise Breakdown Based on Earnings Time"
   ]
  },
  {
   "cell_type": "code",
   "execution_count": 16,
   "metadata": {},
   "outputs": [
    {
     "name": "stdout",
     "output_type": "stream",
     "text": [
      "['bmo' 'amc']\n"
     ]
    }
   ],
   "source": [
    "print(df[\"earnings_time\"].unique())"
   ]
  },
  {
   "cell_type": "code",
   "execution_count": 17,
   "metadata": {},
   "outputs": [],
   "source": [
    "pos_bmo = df[(df.perc_diff > .15) & (df[\"earnings_time\"] == 'bmo')]\n",
    "pos_amc = df[(df.perc_diff > .15) & (df[\"earnings_time\"] == 'amc')]\n",
    "neu_bmo = df[(df.perc_diff < .15) & (df.perc_diff > -.15) & (df[\"earnings_time\"] == 'bmo')]\n",
    "neu_amc = df[(df.perc_diff < .15) & (df.perc_diff > -.15) & (df[\"earnings_time\"] == 'amc')]\n",
    "neg_bmo = df[(df.perc_diff < -.15) & (df[\"earnings_time\"] == 'bmo')]\n",
    "neg_amc = df[(df.perc_diff < -.15) & (df[\"earnings_time\"] == 'amc')]"
   ]
  },
  {
   "cell_type": "code",
   "execution_count": 18,
   "metadata": {},
   "outputs": [],
   "source": [
    "x = [\"Positive\", \"Neutral\", \"Negative\"]\n",
    "surprises_bmo = [len(pos_bmo), len(neu_bmo), len(neg_bmo)]\n",
    "surprises_amc = [len(pos_amc), len(neu_amc), len(neg_amc)]"
   ]
  },
  {
   "cell_type": "code",
   "execution_count": 19,
   "metadata": {},
   "outputs": [
    {
     "data": {
      "image/png": "[encoded data removed]",
      "text/plain": [
       "<Figure size 432x288 with 1 Axes>"
      ]
     },
     "metadata": {
      "needs_background": "light"
     },
     "output_type": "display_data"
    }
   ],
   "source": [
    "ind = np.arange(3) \n",
    "width = 0.35       \n",
    "plt.bar(ind, surprises_bmo, width, label='Before Market Open', color='blue', alpha=0.5)\n",
    "plt.bar(ind+width, surprises_amc, width,\n",
    "    label='After Market Close', color='red', alpha=0.5)\n",
    "\n",
    "plt.ylabel('Number of Earnings')\n",
    "plt.title('Earnings Surprise Breakdown By Earnings Time')\n",
    "\n",
    "plt.xticks(ind + width / 2, ('Positive', 'Neutral', 'Negative'))\n",
    "plt.legend(loc='best')\n",
    "plt.tight_layout()\n",
    "plt.savefig('visuals/earn_bar_time.png', facecolor='white', transparent=False)\n",
    "plt.show()\n"
   ]
  },
  {
   "cell_type": "markdown",
   "metadata": {},
   "source": [
    "There is no significant difference between earnings surprise and when the earnings is announced (before market open or after market close)."
   ]
  },
  {
   "cell_type": "markdown",
   "metadata": {},
   "source": [
    "#### Earnings Surprise Breakdown by Day of Week"
   ]
  },
  {
   "cell_type": "code",
   "execution_count": 20,
   "metadata": {},
   "outputs": [
    {
     "name": "stdout",
     "output_type": "stream",
     "text": [
      "0        0\n",
      "1        0\n",
      "2        0\n",
      "3        0\n",
      "4        1\n",
      "        ..\n",
      "75572    2\n",
      "75573    2\n",
      "75574    3\n",
      "75576    2\n",
      "75577    3\n",
      "Name: dow, Length: 74073, dtype: int64\n"
     ]
    },
    {
     "name": "stderr",
     "output_type": "stream",
     "text": [
      "/var/folders/fp/ky7t_b41243bb9937z642tf00000gn/T/ipykernel_14171/2254281529.py:3: SettingWithCopyWarning: \n",
      "A value is trying to be set on a copy of a slice from a DataFrame.\n",
      "Try using .loc[row_indexer,col_indexer] = value instead\n",
      "\n",
      "See the caveats in the documentation: https://pandas.pydata.org/pandas-docs/stable/user_guide/indexing.html#returning-a-view-versus-a-copy\n",
      "  df[\"dow\"] = dates.dt.dayofweek\n"
     ]
    }
   ],
   "source": [
    "# Need to find the date information using earnings date column\n",
    "dates = pd.to_datetime(df[\"earnings_date\"])\n",
    "df[\"dow\"] = dates.dt.dayofweek\n",
    "print(df[\"dow\"])\n"
   ]
  },
  {
   "cell_type": "code",
   "execution_count": 21,
   "metadata": {},
   "outputs": [],
   "source": [
    "pos_m = df[(df.perc_diff > .15) & (df[\"dow\"] == 0)]\n",
    "pos_tu = df[(df.perc_diff > .15) & (df[\"dow\"] == 1)]\n",
    "pos_w = df[(df.perc_diff > .15) & (df[\"dow\"] == 2)]\n",
    "pos_th = df[(df.perc_diff > .15) & (df[\"dow\"] == 3)]\n",
    "pos_f = df[(df.perc_diff > .15) & (df[\"dow\"] == 4)]\n",
    "\n",
    "neu_m = df[(df.perc_diff < .15) & (df.perc_diff > -.15) & (df[\"dow\"] == 0)]\n",
    "neu_tu = df[(df.perc_diff < .15) & (df.perc_diff > -.15) & (df[\"dow\"] == 1)]\n",
    "neu_w = df[(df.perc_diff < .15) & (df.perc_diff > -.15) & (df[\"dow\"] == 2)]\n",
    "neu_th = df[(df.perc_diff < .15) & (df.perc_diff > -.15) & (df[\"dow\"] == 3)]\n",
    "neu_f = df[(df.perc_diff < .15) & (df.perc_diff > -.15) & (df[\"dow\"] == 4)]\n",
    "\n",
    "neg_m = df[(df.perc_diff < -.15) & (df[\"dow\"] == 0)]\n",
    "neg_tu = df[(df.perc_diff < -.15) & (df[\"dow\"] == 1)]\n",
    "neg_w = df[(df.perc_diff < -.15) & (df[\"dow\"] == 2)]\n",
    "neg_th = df[(df.perc_diff < -.15) & (df[\"dow\"] == 3)]\n",
    "neg_f = df[(df.perc_diff < -.15) & (df[\"dow\"] == 4)]"
   ]
  },
  {
   "cell_type": "code",
   "execution_count": 22,
   "metadata": {},
   "outputs": [],
   "source": [
    "x = [\"Positive\", \"Neutral\", \"Negative\"]\n",
    "surprises_m = [len(pos_m), len(neu_m), len(neg_m)]\n",
    "surprises_tu = [len(pos_tu), len(neu_tu), len(neg_tu)]\n",
    "surprises_w = [len(pos_w), len(neu_w), len(neg_w)]\n",
    "surprises_th = [len(pos_th), len(neu_th), len(neg_th)]\n",
    "surprises_f = [len(pos_f), len(neu_f), len(neg_f)]"
   ]
  },
  {
   "cell_type": "code",
   "execution_count": 23,
   "metadata": {},
   "outputs": [
    {
     "data": {
      "image/png": "[encoded data removed]",
      "text/plain": [
       "<Figure size 576x288 with 1 Axes>"
      ]
     },
     "metadata": {
      "needs_background": "light"
     },
     "output_type": "display_data"
    }
   ],
   "source": [
    "ind = np.arange(3) \n",
    "width = 0.15\n",
    "plt.figure(figsize=(8, 4))\n",
    "plt.bar(ind, surprises_m, width, label='Monday', alpha=0.5)\n",
    "plt.bar(ind+width, surprises_tu, width, label='Tuesday', alpha=0.5)\n",
    "plt.bar(ind+(2*width), surprises_w, width, label='Wednesday', alpha=0.5)\n",
    "plt.bar(ind+(3*width), surprises_th, width, label='Thursday', alpha=0.5)\n",
    "plt.bar(ind+(4*width), surprises_f, width, label='Friday', alpha=0.5)\n",
    "\n",
    "plt.ylabel('Number of Earnings')\n",
    "plt.title('Earnings Surprise Breakdown By Day of Week')\n",
    "\n",
    "plt.xticks(ind + width*2, ('Positive', 'Neutral', 'Negative'))\n",
    "\n",
    "plt.legend(loc='best')\n",
    "plt.tight_layout()\n",
    "plt.savefig('visuals/earn_bar_dow.png', facecolor='white', transparent=False)\n",
    "plt.show()"
   ]
  },
  {
   "cell_type": "markdown",
   "metadata": {},
   "source": [
    "### Feature Engineering"
   ]
  }
 ],
 "metadata": {
  "interpreter": {
   "hash": "6d032f0ee728082bb6a4d2cd2973e452a9a829bb860acc9dec402cf46b334b4c"
  },
  "kernelspec": {
   "display_name": "Python 3",
   "language": "python",
   "name": "python3"
  },
  "language_info": {
   "codemirror_mode": {
    "name": "ipython",
    "version": 3
   },
   "file_extension": ".py",
   "mimetype": "text/x-python",
   "name": "python",
   "nbconvert_exporter": "python",
   "pygments_lexer": "ipython3",
   "version": "3.8.3"
  }
 },
 "nbformat": 4,
 "nbformat_minor": 4
}
