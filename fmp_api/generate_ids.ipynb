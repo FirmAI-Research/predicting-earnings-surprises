{
 "cells": [
  {
   "cell_type": "code",
   "execution_count": 1,
   "metadata": {},
   "outputs": [],
   "source": [
    "import pandas as pd\n",
    "import numpy as np"
   ]
  },
  {
   "cell_type": "code",
   "execution_count": 2,
   "metadata": {},
   "outputs": [
    {
     "name": "stdout",
     "output_type": "stream",
     "text": [
      "<class 'pandas.core.frame.DataFrame'>\n",
      "RangeIndex: 75540 entries, 0 to 75539\n",
      "Data columns (total 7 columns):\n",
      " #   Column            Non-Null Count  Dtype  \n",
      "---  ------            --------------  -----  \n",
      " 0   date              75540 non-null  object \n",
      " 1   symbol            75540 non-null  object \n",
      " 2   eps               71820 non-null  float64\n",
      " 3   epsEstimated      71419 non-null  float64\n",
      " 4   time              75539 non-null  object \n",
      " 5   revenue           75540 non-null  float64\n",
      " 6   revenueEstimated  74322 non-null  float64\n",
      "dtypes: float64(4), object(3)\n",
      "memory usage: 4.0+ MB\n"
     ]
    }
   ],
   "source": [
    "csv = pd.read_csv(\"../data/historical_earnings_calendar.csv\")\n",
    "csv.info()"
   ]
  },
  {
   "cell_type": "code",
   "execution_count": 3,
   "metadata": {},
   "outputs": [
    {
     "name": "stdout",
     "output_type": "stream",
     "text": [
      "           date symbol   eps  epsEstimated time       revenue  \\\n",
      "0      11/22/21      A  1.21          1.17  amc  0.000000e+00   \n",
      "1       8/17/21      A  1.10          0.99  amc  1.586000e+09   \n",
      "2       5/25/21      A  0.71          0.83  amc  1.525000e+09   \n",
      "3       2/16/21      A  0.94          0.89  amc  1.548000e+09   \n",
      "4      11/23/20      A  0.72          0.93  amc  1.483000e+09   \n",
      "...         ...    ...   ...           ...  ...           ...   \n",
      "75535   5/12/16   ZYNE -0.49         -0.56  bmo  7.250000e+03   \n",
      "75536   3/14/16   ZYNE -0.62         -0.29  bmo  4.927500e+04   \n",
      "75537  11/11/15   ZYNE -0.66         -0.38  bmo  1.994070e+05   \n",
      "75538   8/27/15   ZYNE   NaN           NaN  bmo  1.539000e+04   \n",
      "75539    8/5/15   ZYNE   NaN           NaN  bmo  1.539000e+04   \n",
      "\n",
      "       revenueEstimated  earnings_id  \n",
      "0          1.461300e+09            1  \n",
      "1          1.659210e+09            2  \n",
      "2          1.745482e+09            3  \n",
      "3          1.461034e+09            4  \n",
      "4          1.817871e+09            5  \n",
      "...                 ...          ...  \n",
      "75535      8.285714e+03        75536  \n",
      "75536      2.304798e+04        75537  \n",
      "75537      1.948151e+05        75538  \n",
      "75538      0.000000e+00        75539  \n",
      "75539      0.000000e+00        75540  \n",
      "\n",
      "[75540 rows x 8 columns]\n"
     ]
    }
   ],
   "source": [
    "# earnings_id\n",
    "csv[\"earnings_id\"] = csv.index + 1\n",
    "print(csv)"
   ]
  },
  {
   "cell_type": "code",
   "execution_count": 4,
   "metadata": {},
   "outputs": [
    {
     "name": "stdout",
     "output_type": "stream",
     "text": [
      "       earnings_id      date symbol   eps  epsEstimated time       revenue  \\\n",
      "0                1  11/22/21      A  1.21          1.17  amc  0.000000e+00   \n",
      "1                2   8/17/21      A  1.10          0.99  amc  1.586000e+09   \n",
      "2                3   5/25/21      A  0.71          0.83  amc  1.525000e+09   \n",
      "3                4   2/16/21      A  0.94          0.89  amc  1.548000e+09   \n",
      "4                5  11/23/20      A  0.72          0.93  amc  1.483000e+09   \n",
      "...            ...       ...    ...   ...           ...  ...           ...   \n",
      "75535        75536   5/12/16   ZYNE -0.49         -0.56  bmo  7.250000e+03   \n",
      "75536        75537   3/14/16   ZYNE -0.62         -0.29  bmo  4.927500e+04   \n",
      "75537        75538  11/11/15   ZYNE -0.66         -0.38  bmo  1.994070e+05   \n",
      "75538        75539   8/27/15   ZYNE   NaN           NaN  bmo  1.539000e+04   \n",
      "75539        75540    8/5/15   ZYNE   NaN           NaN  bmo  1.539000e+04   \n",
      "\n",
      "       revenueEstimated  \n",
      "0          1.461300e+09  \n",
      "1          1.659210e+09  \n",
      "2          1.745482e+09  \n",
      "3          1.461034e+09  \n",
      "4          1.817871e+09  \n",
      "...                 ...  \n",
      "75535      8.285714e+03  \n",
      "75536      2.304798e+04  \n",
      "75537      1.948151e+05  \n",
      "75538      0.000000e+00  \n",
      "75539      0.000000e+00  \n",
      "\n",
      "[75540 rows x 8 columns]\n"
     ]
    }
   ],
   "source": [
    "# Move earnings_id column to first position\n",
    "first_col = csv.pop(\"earnings_id\")\n",
    "csv.insert(0, \"earnings_id\", first_col)\n",
    "print(csv)"
   ]
  },
  {
   "cell_type": "code",
   "execution_count": 5,
   "metadata": {},
   "outputs": [
    {
     "name": "stdout",
     "output_type": "stream",
     "text": [
      "<class 'str'>\n"
     ]
    }
   ],
   "source": [
    "# See if date is string data type\n",
    "print(type(csv[\"date\"][0]))"
   ]
  },
  {
   "cell_type": "code",
   "execution_count": 6,
   "metadata": {},
   "outputs": [],
   "source": [
    "df = pd.DataFrame()\n",
    "df[\"symbol\"] = np.unique(csv.symbol)"
   ]
  },
  {
   "cell_type": "code",
   "execution_count": 7,
   "metadata": {},
   "outputs": [],
   "source": [
    "# Move earnings_id column to first position\n",
    "dict_sym = df.to_dict()\n",
    "dict_sym = {v: k for k, v in dict_sym[\"symbol\"].items()}"
   ]
  },
  {
   "cell_type": "code",
   "execution_count": 8,
   "metadata": {},
   "outputs": [
    {
     "name": "stdout",
     "output_type": "stream",
     "text": [
      "0           0\n",
      "1           0\n",
      "2           0\n",
      "3           0\n",
      "4           0\n",
      "         ... \n",
      "75535    2377\n",
      "75536    2377\n",
      "75537    2377\n",
      "75538    2377\n",
      "75539    2377\n",
      "Name: symbol, Length: 75540, dtype: int64\n"
     ]
    }
   ],
   "source": [
    "# Map each symbol value found in earnings dataframe to the dictionary just created\n",
    "symbol_id_col = csv[\"symbol\"].map(dict_sym)\n",
    "print(symbol_id_col)"
   ]
  },
  {
   "cell_type": "code",
   "execution_count": 9,
   "metadata": {},
   "outputs": [
    {
     "name": "stdout",
     "output_type": "stream",
     "text": [
      "       earnings_id      date  symbol_id symbol   eps  epsEstimated time  \\\n",
      "0                1  11/22/21          0      A  1.21          1.17  amc   \n",
      "1                2   8/17/21          0      A  1.10          0.99  amc   \n",
      "2                3   5/25/21          0      A  0.71          0.83  amc   \n",
      "3                4   2/16/21          0      A  0.94          0.89  amc   \n",
      "4                5  11/23/20          0      A  0.72          0.93  amc   \n",
      "...            ...       ...        ...    ...   ...           ...  ...   \n",
      "75535        75536   5/12/16       2377   ZYNE -0.49         -0.56  bmo   \n",
      "75536        75537   3/14/16       2377   ZYNE -0.62         -0.29  bmo   \n",
      "75537        75538  11/11/15       2377   ZYNE -0.66         -0.38  bmo   \n",
      "75538        75539   8/27/15       2377   ZYNE   NaN           NaN  bmo   \n",
      "75539        75540    8/5/15       2377   ZYNE   NaN           NaN  bmo   \n",
      "\n",
      "            revenue  revenueEstimated  \n",
      "0      0.000000e+00      1.461300e+09  \n",
      "1      1.586000e+09      1.659210e+09  \n",
      "2      1.525000e+09      1.745482e+09  \n",
      "3      1.548000e+09      1.461034e+09  \n",
      "4      1.483000e+09      1.817871e+09  \n",
      "...             ...               ...  \n",
      "75535  7.250000e+03      8.285714e+03  \n",
      "75536  4.927500e+04      2.304798e+04  \n",
      "75537  1.994070e+05      1.948151e+05  \n",
      "75538  1.539000e+04      0.000000e+00  \n",
      "75539  1.539000e+04      0.000000e+00  \n",
      "\n",
      "[75540 rows x 9 columns]\n"
     ]
    }
   ],
   "source": [
    "# Insert new symbol_id column into 3rd position in dataframe\n",
    "csv.insert(2, \"symbol_id\", symbol_id_col)\n",
    "print(csv)"
   ]
  },
  {
   "cell_type": "code",
   "execution_count": 10,
   "metadata": {},
   "outputs": [
    {
     "name": "stdout",
     "output_type": "stream",
     "text": [
      "       earnings_id      date  symbol_id symbol   eps  epsEstimated time\n",
      "0                1  11/22/21          0      A  1.21          1.17  amc\n",
      "1                2   8/17/21          0      A  1.10          0.99  amc\n",
      "2                3   5/25/21          0      A  0.71          0.83  amc\n",
      "3                4   2/16/21          0      A  0.94          0.89  amc\n",
      "4                5  11/23/20          0      A  0.72          0.93  amc\n",
      "...            ...       ...        ...    ...   ...           ...  ...\n",
      "75535        75536   5/12/16       2377   ZYNE -0.49         -0.56  bmo\n",
      "75536        75537   3/14/16       2377   ZYNE -0.62         -0.29  bmo\n",
      "75537        75538  11/11/15       2377   ZYNE -0.66         -0.38  bmo\n",
      "75538        75539   8/27/15       2377   ZYNE   NaN           NaN  bmo\n",
      "75539        75540    8/5/15       2377   ZYNE   NaN           NaN  bmo\n",
      "\n",
      "[75540 rows x 7 columns]\n"
     ]
    }
   ],
   "source": [
    "# Drop revenue and revenueEstimated columns\n",
    "csv = csv.drop([\"revenue\", \"revenueEstimated\"], axis = 1)\n",
    "print(csv)"
   ]
  },
  {
   "cell_type": "code",
   "execution_count": 11,
   "metadata": {},
   "outputs": [],
   "source": [
    "# Export dataframe to csv\n",
    "csv.to_csv('historical_earnings_new.csv', index=False)"
   ]
  },
  {
   "cell_type": "code",
   "execution_count": null,
   "metadata": {},
   "outputs": [],
   "source": []
  }
 ],
 "metadata": {
  "interpreter": {
   "hash": "4728a1e695d94c961678d379cd8302d4e874de393bb0bc74e83299780713b515"
  },
  "kernelspec": {
   "display_name": "Python 3.8.3 64-bit ('venv': venv)",
   "language": "python",
   "name": "python3"
  },
  "language_info": {
   "codemirror_mode": {
    "name": "ipython",
    "version": 3
   },
   "file_extension": ".py",
   "mimetype": "text/x-python",
   "name": "python",
   "nbconvert_exporter": "python",
   "pygments_lexer": "ipython3",
   "version": "3.8.3"
  },
  "orig_nbformat": 4
 },
 "nbformat": 4,
 "nbformat_minor": 2
}
