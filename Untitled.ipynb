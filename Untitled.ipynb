{
 "cells": [
  {
   "cell_type": "code",
   "execution_count": 1,
   "id": "1e243a85",
   "metadata": {},
   "outputs": [],
   "source": [
    "import joblib\n",
    "import pandas as pd"
   ]
  },
  {
   "cell_type": "code",
   "execution_count": 2,
   "id": "e9239d70",
   "metadata": {},
   "outputs": [],
   "source": [
    "rf_model = joblib.load('models/earnings_surprise_random_forest.pkl')"
   ]
  },
  {
   "cell_type": "code",
   "execution_count": 3,
   "id": "a5c3ec5d",
   "metadata": {},
   "outputs": [],
   "source": [
    "df = pd.DataFrame([[3.7, 1, 360, 364.089996, 359.000000, 361.010010, 347.367126, 37900, 37900, 0.46002, 46.002, ]])"
   ]
  },
  {
   "cell_type": "code",
   "execution_count": 4,
   "id": "08ad8a6a",
   "metadata": {},
   "outputs": [
    {
     "name": "stdout",
     "output_type": "stream",
     "text": [
      "    0   1    2           3      4          5           6      7      8   \\\n",
      "0  3.7   1  360  364.089996  359.0  361.01001  347.367126  37900  37900   \n",
      "\n",
      "        9       10  \n",
      "0  0.46002  46.002  \n"
     ]
    }
   ],
   "source": [
    "print(df)"
   ]
  },
  {
   "cell_type": "code",
   "execution_count": 5,
   "id": "a6dec0ae",
   "metadata": {},
   "outputs": [],
   "source": [
    "test_data = pd.read_csv(\"testdata.csv\", index_col=False)"
   ]
  },
  {
   "cell_type": "code",
   "execution_count": 6,
   "id": "21788017",
   "metadata": {},
   "outputs": [
    {
     "name": "stdout",
     "output_type": "stream",
     "text": [
      "       epsEstimated  time        open        high         low       close  \\\n",
      "0              7.31     1  360.549988  364.089996  359.000000  361.010010   \n",
      "1              0.19     0   32.549999   33.450001   32.040001   32.119999   \n",
      "2             -0.69     1    6.000000    7.890000    5.880000    7.230000   \n",
      "3              0.30     0   19.760000   20.240000   17.500000   18.020000   \n",
      "4              0.35     1   40.504131   40.561981   39.190083   39.421490   \n",
      "...             ...   ...         ...         ...         ...         ...   \n",
      "13819         -0.89     1   98.040000   98.135000   93.500000   95.630000   \n",
      "13820          0.20     1   24.730000   24.900000   24.309999   24.719999   \n",
      "13821          0.25     0   23.660000   24.130000   23.100000   23.750000   \n",
      "13822          0.12     1    8.650000    8.660000    8.090000    8.120000   \n",
      "13823          0.04     0    9.200000    9.330000    9.070000    9.200000   \n",
      "\n",
      "         adjClose   volume  unadjustedVolume   change  ...   lastSurp  \\\n",
      "0      347.367126    37900             37900  0.46002  ...  -2.016129   \n",
      "1       31.293789    63100             63100 -0.43000  ... -26.470588   \n",
      "2        7.230000  2212544           2212544  1.23000  ... -91.666667   \n",
      "3       13.210584  1721100           1721100 -1.74000  ... -11.428571   \n",
      "4       39.421490  3317941           3317941 -1.08264  ...  42.105263   \n",
      "...           ...      ...               ...      ...  ...        ...   \n",
      "13819   95.630000  2084071           2084071 -2.41000  ... -43.055556   \n",
      "13820   24.165850  1658500           1658500 -0.01000  ...  40.000000   \n",
      "13821   23.750000   640600            640600  0.09000  ...  54.545455   \n",
      "13822    7.999711  5978700           5978700 -0.53000  ...   0.000000   \n",
      "13823    8.948688   119700            119700  0.00000  ... -25.000000   \n",
      "\n",
      "        last2Surp  lastEps  last2Eps  lastEst  last2Est  dow  month  day  year  \n",
      "0       20.141343     2.43      3.40     2.48      2.83    2      8    5  2015  \n",
      "1       -5.882353     0.25      0.32     0.34      0.34    4      7   24  2020  \n",
      "2        2.857143    -1.15     -0.68    -0.60     -0.70    3     11    2  2017  \n",
      "3       -1.176471     0.31      0.84     0.35      0.85    4      8   23  2019  \n",
      "4      -16.949153     0.27      0.49     0.19      0.59    3      7   31  2014  \n",
      "...           ...      ...       ...      ...       ...  ...    ...  ...   ...  \n",
      "13819   82.524272    -1.03     -0.18    -0.72     -1.03    1     11    2  2021  \n",
      "13820   40.740741     0.21      0.38     0.15      0.27    1      8    2  2016  \n",
      "13821   39.285714     0.17     -0.17     0.11     -0.28    3     10   25  2012  \n",
      "13822   60.000000     0.03      0.08     0.03      0.05    2     10   28  2020  \n",
      "13823  200.000000     0.09      0.03     0.12      0.01    3     10   29  2015  \n",
      "\n",
      "[13824 rows x 35 columns]\n"
     ]
    }
   ],
   "source": [
    "print(test_data)"
   ]
  },
  {
   "cell_type": "code",
   "execution_count": 9,
   "id": "e1a9918a",
   "metadata": {},
   "outputs": [
    {
     "name": "stdout",
     "output_type": "stream",
     "text": [
      "[7.31, 1.0, 360.549988, 364.089996, 359.0, 361.01001, 347.367126, 37900.0, 37900.0, 0.46002, 0.128, 361.36667, 0.00128, 345.833, 338.104, 330.254, 344.673, 339.89, 333.162, 7.785, 74.234, 69.866, 346.724, 342.109, 335.98, -2.0161290322580574, 20.14134275618374, 2.43, 3.4, 2.48, 2.83, 2.0, 8.0, 5.0, 2015.0]\n"
     ]
    }
   ],
   "source": [
    "testing_df = test_data.iloc[:1]\n",
    "testing_ser = testing_df.squeeze()\n",
    "testing_list = testing_ser.tolist()\n",
    "print(testing_list)"
   ]
  },
  {
   "cell_type": "code",
   "execution_count": 15,
   "id": "1f7f7015",
   "metadata": {},
   "outputs": [
    {
     "ename": "ValueError",
     "evalue": "Expected 2D array, got 1D array instead:\narray=[ 7.3099999e+00  1.0000000e+00  3.6054999e+02  3.6409000e+02\n  3.5900000e+02  3.6101001e+02  3.4736713e+02  3.7900000e+04\n  3.7900000e+04  4.6002001e-01  1.2800001e-01  3.6136667e+02\n  1.2800000e-03  3.4583301e+02  3.3810400e+02  3.3025400e+02\n  3.4467300e+02  3.3989001e+02  3.3316199e+02  7.7849998e+00\n  7.4234001e+01  6.9865997e+01  3.4672400e+02  3.4210901e+02\n  3.3598001e+02 -2.0161290e+00  2.0141342e+01  2.4300001e+00\n  3.4000001e+00  2.4800000e+00  2.8299999e+00  2.0000000e+00\n  8.0000000e+00  5.0000000e+00  2.0150000e+03].\nReshape your data either using array.reshape(-1, 1) if your data has a single feature or array.reshape(1, -1) if it contains a single sample.",
     "output_type": "error",
     "traceback": [
      "\u001b[0;31m---------------------------------------------------------------------------\u001b[0m",
      "\u001b[0;31mValueError\u001b[0m                                Traceback (most recent call last)",
      "\u001b[0;32m<ipython-input-15-3ca23da09762>\u001b[0m in \u001b[0;36m<module>\u001b[0;34m\u001b[0m\n\u001b[0;32m----> 1\u001b[0;31m \u001b[0mresult\u001b[0m \u001b[0;34m=\u001b[0m \u001b[0mrf_model\u001b[0m\u001b[0;34m.\u001b[0m\u001b[0mpredict\u001b[0m\u001b[0;34m(\u001b[0m\u001b[0mtesting_list\u001b[0m\u001b[0;34m)\u001b[0m\u001b[0;34m\u001b[0m\u001b[0;34m\u001b[0m\u001b[0m\n\u001b[0m",
      "\u001b[0;32m~/opt/anaconda3/lib/python3.8/site-packages/sklearn/ensemble/_forest.py\u001b[0m in \u001b[0;36mpredict\u001b[0;34m(self, X)\u001b[0m\n\u001b[1;32m    782\u001b[0m         \u001b[0mcheck_is_fitted\u001b[0m\u001b[0;34m(\u001b[0m\u001b[0mself\u001b[0m\u001b[0;34m)\u001b[0m\u001b[0;34m\u001b[0m\u001b[0;34m\u001b[0m\u001b[0m\n\u001b[1;32m    783\u001b[0m         \u001b[0;31m# Check data\u001b[0m\u001b[0;34m\u001b[0m\u001b[0;34m\u001b[0m\u001b[0;34m\u001b[0m\u001b[0m\n\u001b[0;32m--> 784\u001b[0;31m         \u001b[0mX\u001b[0m \u001b[0;34m=\u001b[0m \u001b[0mself\u001b[0m\u001b[0;34m.\u001b[0m\u001b[0m_validate_X_predict\u001b[0m\u001b[0;34m(\u001b[0m\u001b[0mX\u001b[0m\u001b[0;34m)\u001b[0m\u001b[0;34m\u001b[0m\u001b[0;34m\u001b[0m\u001b[0m\n\u001b[0m\u001b[1;32m    785\u001b[0m \u001b[0;34m\u001b[0m\u001b[0m\n\u001b[1;32m    786\u001b[0m         \u001b[0;31m# Assign chunk of trees to jobs\u001b[0m\u001b[0;34m\u001b[0m\u001b[0;34m\u001b[0m\u001b[0;34m\u001b[0m\u001b[0m\n",
      "\u001b[0;32m~/opt/anaconda3/lib/python3.8/site-packages/sklearn/ensemble/_forest.py\u001b[0m in \u001b[0;36m_validate_X_predict\u001b[0;34m(self, X)\u001b[0m\n\u001b[1;32m    420\u001b[0m         \u001b[0mcheck_is_fitted\u001b[0m\u001b[0;34m(\u001b[0m\u001b[0mself\u001b[0m\u001b[0;34m)\u001b[0m\u001b[0;34m\u001b[0m\u001b[0;34m\u001b[0m\u001b[0m\n\u001b[1;32m    421\u001b[0m \u001b[0;34m\u001b[0m\u001b[0m\n\u001b[0;32m--> 422\u001b[0;31m         \u001b[0;32mreturn\u001b[0m \u001b[0mself\u001b[0m\u001b[0;34m.\u001b[0m\u001b[0mestimators_\u001b[0m\u001b[0;34m[\u001b[0m\u001b[0;36m0\u001b[0m\u001b[0;34m]\u001b[0m\u001b[0;34m.\u001b[0m\u001b[0m_validate_X_predict\u001b[0m\u001b[0;34m(\u001b[0m\u001b[0mX\u001b[0m\u001b[0;34m,\u001b[0m \u001b[0mcheck_input\u001b[0m\u001b[0;34m=\u001b[0m\u001b[0;32mTrue\u001b[0m\u001b[0;34m)\u001b[0m\u001b[0;34m\u001b[0m\u001b[0;34m\u001b[0m\u001b[0m\n\u001b[0m\u001b[1;32m    423\u001b[0m \u001b[0;34m\u001b[0m\u001b[0m\n\u001b[1;32m    424\u001b[0m     \u001b[0;34m@\u001b[0m\u001b[0mproperty\u001b[0m\u001b[0;34m\u001b[0m\u001b[0;34m\u001b[0m\u001b[0m\n",
      "\u001b[0;32m~/opt/anaconda3/lib/python3.8/site-packages/sklearn/tree/_classes.py\u001b[0m in \u001b[0;36m_validate_X_predict\u001b[0;34m(self, X, check_input)\u001b[0m\n\u001b[1;32m    400\u001b[0m         \u001b[0;34m\"\"\"Validate the training data on predict (probabilities).\"\"\"\u001b[0m\u001b[0;34m\u001b[0m\u001b[0;34m\u001b[0m\u001b[0m\n\u001b[1;32m    401\u001b[0m         \u001b[0;32mif\u001b[0m \u001b[0mcheck_input\u001b[0m\u001b[0;34m:\u001b[0m\u001b[0;34m\u001b[0m\u001b[0;34m\u001b[0m\u001b[0m\n\u001b[0;32m--> 402\u001b[0;31m             X = self._validate_data(X, dtype=DTYPE, accept_sparse=\"csr\",\n\u001b[0m\u001b[1;32m    403\u001b[0m                                     reset=False)\n\u001b[1;32m    404\u001b[0m             if issparse(X) and (X.indices.dtype != np.intc or\n",
      "\u001b[0;32m~/opt/anaconda3/lib/python3.8/site-packages/sklearn/base.py\u001b[0m in \u001b[0;36m_validate_data\u001b[0;34m(self, X, y, reset, validate_separately, **check_params)\u001b[0m\n\u001b[1;32m    419\u001b[0m             \u001b[0mout\u001b[0m \u001b[0;34m=\u001b[0m \u001b[0mX\u001b[0m\u001b[0;34m\u001b[0m\u001b[0;34m\u001b[0m\u001b[0m\n\u001b[1;32m    420\u001b[0m         \u001b[0;32melif\u001b[0m \u001b[0misinstance\u001b[0m\u001b[0;34m(\u001b[0m\u001b[0my\u001b[0m\u001b[0;34m,\u001b[0m \u001b[0mstr\u001b[0m\u001b[0;34m)\u001b[0m \u001b[0;32mand\u001b[0m \u001b[0my\u001b[0m \u001b[0;34m==\u001b[0m \u001b[0;34m'no_validation'\u001b[0m\u001b[0;34m:\u001b[0m\u001b[0;34m\u001b[0m\u001b[0;34m\u001b[0m\u001b[0m\n\u001b[0;32m--> 421\u001b[0;31m             \u001b[0mX\u001b[0m \u001b[0;34m=\u001b[0m \u001b[0mcheck_array\u001b[0m\u001b[0;34m(\u001b[0m\u001b[0mX\u001b[0m\u001b[0;34m,\u001b[0m \u001b[0;34m**\u001b[0m\u001b[0mcheck_params\u001b[0m\u001b[0;34m)\u001b[0m\u001b[0;34m\u001b[0m\u001b[0;34m\u001b[0m\u001b[0m\n\u001b[0m\u001b[1;32m    422\u001b[0m             \u001b[0mout\u001b[0m \u001b[0;34m=\u001b[0m \u001b[0mX\u001b[0m\u001b[0;34m\u001b[0m\u001b[0;34m\u001b[0m\u001b[0m\n\u001b[1;32m    423\u001b[0m         \u001b[0;32melse\u001b[0m\u001b[0;34m:\u001b[0m\u001b[0;34m\u001b[0m\u001b[0;34m\u001b[0m\u001b[0m\n",
      "\u001b[0;32m~/opt/anaconda3/lib/python3.8/site-packages/sklearn/utils/validation.py\u001b[0m in \u001b[0;36minner_f\u001b[0;34m(*args, **kwargs)\u001b[0m\n\u001b[1;32m     61\u001b[0m             \u001b[0mextra_args\u001b[0m \u001b[0;34m=\u001b[0m \u001b[0mlen\u001b[0m\u001b[0;34m(\u001b[0m\u001b[0margs\u001b[0m\u001b[0;34m)\u001b[0m \u001b[0;34m-\u001b[0m \u001b[0mlen\u001b[0m\u001b[0;34m(\u001b[0m\u001b[0mall_args\u001b[0m\u001b[0;34m)\u001b[0m\u001b[0;34m\u001b[0m\u001b[0;34m\u001b[0m\u001b[0m\n\u001b[1;32m     62\u001b[0m             \u001b[0;32mif\u001b[0m \u001b[0mextra_args\u001b[0m \u001b[0;34m<=\u001b[0m \u001b[0;36m0\u001b[0m\u001b[0;34m:\u001b[0m\u001b[0;34m\u001b[0m\u001b[0;34m\u001b[0m\u001b[0m\n\u001b[0;32m---> 63\u001b[0;31m                 \u001b[0;32mreturn\u001b[0m \u001b[0mf\u001b[0m\u001b[0;34m(\u001b[0m\u001b[0;34m*\u001b[0m\u001b[0margs\u001b[0m\u001b[0;34m,\u001b[0m \u001b[0;34m**\u001b[0m\u001b[0mkwargs\u001b[0m\u001b[0;34m)\u001b[0m\u001b[0;34m\u001b[0m\u001b[0;34m\u001b[0m\u001b[0m\n\u001b[0m\u001b[1;32m     64\u001b[0m \u001b[0;34m\u001b[0m\u001b[0m\n\u001b[1;32m     65\u001b[0m             \u001b[0;31m# extra_args > 0\u001b[0m\u001b[0;34m\u001b[0m\u001b[0;34m\u001b[0m\u001b[0;34m\u001b[0m\u001b[0m\n",
      "\u001b[0;32m~/opt/anaconda3/lib/python3.8/site-packages/sklearn/utils/validation.py\u001b[0m in \u001b[0;36mcheck_array\u001b[0;34m(array, accept_sparse, accept_large_sparse, dtype, order, copy, force_all_finite, ensure_2d, allow_nd, ensure_min_samples, ensure_min_features, estimator)\u001b[0m\n\u001b[1;32m    635\u001b[0m             \u001b[0;31m# If input is 1D raise error\u001b[0m\u001b[0;34m\u001b[0m\u001b[0;34m\u001b[0m\u001b[0;34m\u001b[0m\u001b[0m\n\u001b[1;32m    636\u001b[0m             \u001b[0;32mif\u001b[0m \u001b[0marray\u001b[0m\u001b[0;34m.\u001b[0m\u001b[0mndim\u001b[0m \u001b[0;34m==\u001b[0m \u001b[0;36m1\u001b[0m\u001b[0;34m:\u001b[0m\u001b[0;34m\u001b[0m\u001b[0;34m\u001b[0m\u001b[0m\n\u001b[0;32m--> 637\u001b[0;31m                 raise ValueError(\n\u001b[0m\u001b[1;32m    638\u001b[0m                     \u001b[0;34m\"Expected 2D array, got 1D array instead:\\narray={}.\\n\"\u001b[0m\u001b[0;34m\u001b[0m\u001b[0;34m\u001b[0m\u001b[0m\n\u001b[1;32m    639\u001b[0m                     \u001b[0;34m\"Reshape your data either using array.reshape(-1, 1) if \"\u001b[0m\u001b[0;34m\u001b[0m\u001b[0;34m\u001b[0m\u001b[0m\n",
      "\u001b[0;31mValueError\u001b[0m: Expected 2D array, got 1D array instead:\narray=[ 7.3099999e+00  1.0000000e+00  3.6054999e+02  3.6409000e+02\n  3.5900000e+02  3.6101001e+02  3.4736713e+02  3.7900000e+04\n  3.7900000e+04  4.6002001e-01  1.2800001e-01  3.6136667e+02\n  1.2800000e-03  3.4583301e+02  3.3810400e+02  3.3025400e+02\n  3.4467300e+02  3.3989001e+02  3.3316199e+02  7.7849998e+00\n  7.4234001e+01  6.9865997e+01  3.4672400e+02  3.4210901e+02\n  3.3598001e+02 -2.0161290e+00  2.0141342e+01  2.4300001e+00\n  3.4000001e+00  2.4800000e+00  2.8299999e+00  2.0000000e+00\n  8.0000000e+00  5.0000000e+00  2.0150000e+03].\nReshape your data either using array.reshape(-1, 1) if your data has a single feature or array.reshape(1, -1) if it contains a single sample."
     ]
    }
   ],
   "source": [
    "result = rf_model.predict(testing_list)"
   ]
  },
  {
   "cell_type": "code",
   "execution_count": null,
   "id": "f52b49c7",
   "metadata": {},
   "outputs": [],
   "source": [
    "print(result)"
   ]
  },
  {
   "cell_type": "code",
   "execution_count": null,
   "id": "6b92e2a0",
   "metadata": {},
   "outputs": [],
   "source": []
  }
 ],
 "metadata": {
  "kernelspec": {
   "display_name": "Python 3",
   "language": "python",
   "name": "python3"
  },
  "language_info": {
   "codemirror_mode": {
    "name": "ipython",
    "version": 3
   },
   "file_extension": ".py",
   "mimetype": "text/x-python",
   "name": "python",
   "nbconvert_exporter": "python",
   "pygments_lexer": "ipython3",
   "version": "3.8.8"
  }
 },
 "nbformat": 4,
 "nbformat_minor": 5
}
