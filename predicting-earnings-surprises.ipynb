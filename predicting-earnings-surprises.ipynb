{
 "cells": [
  {
   "cell_type": "markdown",
   "metadata": {},
   "source": [
    "# Predicting Earnings Surprises"
   ]
  },
  {
   "cell_type": "markdown",
   "metadata": {},
   "source": [
    "## Task"
   ]
  },
  {
   "cell_type": "markdown",
   "metadata": {},
   "source": [
    "We want to predict the magnitude of company's upcoming earnings announcement using a machine learning classification model. The model is trained on three types of data: earnings, pricing, and technical price action data. The optimized model outputs a result into one of three classes: positive, neutral, or negative. A 'positive' classification indicates a predicted surprise >15% of the estimated eps, a 'negative' classification indicates a predicted surprise <-15% of the estimated eps, and a 'neutral' classification indicates no predicted surprise (15% < x < -15%). "
   ]
  },
  {
   "cell_type": "markdown",
   "metadata": {},
   "source": [
    "## Data"
   ]
  },
  {
   "cell_type": "markdown",
   "metadata": {},
   "source": [
    "The data for training and testing the model came from several external data providers. Earning and pricing data was collected from Financial Modeling Prep's historical earnings calendar and daily indicator endpoints. Technical data is collected from FMP Cloud's daily technical indicator endpoint."
   ]
  },
  {
   "cell_type": "markdown",
   "metadata": {},
   "source": [
    "The schema below outlines the database architecture into an AWS RDS MySQL database:"
   ]
  },
  {
   "cell_type": "markdown",
   "metadata": {},
   "source": [
    "![Untitled Workspace (1)](https://user-images.githubusercontent.com/45079557/150410944-eb8c8e30-ac2d-4f23-bb03-cb5c3f489cfb.png)"
   ]
  },
  {
   "cell_type": "code",
   "execution_count": 1,
   "metadata": {},
   "outputs": [],
   "source": [
    "import pandas as pd\n",
    "import numpy as np\n",
    "import pymysql\n",
    "from decouple import config\n",
    "from sqlalchemy import create_engine\n",
    "from sqlalchemy.orm import sessionmaker"
   ]
  },
  {
   "cell_type": "code",
   "execution_count": 2,
   "metadata": {},
   "outputs": [],
   "source": [
    "# Set parameters for AWS database\n",
    "aws_hostname = config(\"AWS_HOST\")\n",
    "aws_database = config(\"AWS_DB\")\n",
    "aws_username = config(\"AWS_USER\")\n",
    "aws_password = config(\"AWS_PASS\")\n",
    "aws_port = config(\"AWS_PORT\")\n",
    "\n",
    "# Pull API keys from .env file\n",
    "FMP_API_KEY = config(\"FMP_API_KEY\")\n",
    "FMP_CLOUD_API_KEY = config(\"FMP_CLOUD_API_KEY\")"
   ]
  },
  {
   "cell_type": "code",
   "execution_count": 3,
   "metadata": {},
   "outputs": [],
   "source": [
    "db = pymysql.connect(host=aws_hostname,user=aws_username, password=aws_password, database='rds-python', charset='utf8mb4', cursorclass=pymysql.cursors.DictCursor)\n",
    "cursor = db.cursor()"
   ]
  },
  {
   "cell_type": "code",
   "execution_count": 4,
   "metadata": {},
   "outputs": [],
   "source": [
    "cursor.execute(\"SELECT e.*, p.*, t.* FROM earnings e INNER JOIN pricing p ON e.id = p.id INNER JOIN technicals t ON e.id = t.id\")\n",
    "train = cursor.fetchall()"
   ]
  },
  {
   "cell_type": "code",
   "execution_count": 10,
   "metadata": {},
   "outputs": [
    {
     "name": "stdout",
     "output_type": "stream",
     "text": [
      "<class 'pandas.core.frame.DataFrame'>\n",
      "RangeIndex: 75781 entries, 0 to 75780\n",
      "Data columns (total 33 columns):\n",
      " #   Column             Non-Null Count  Dtype  \n",
      "---  ------             --------------  -----  \n",
      " 0   id                 75781 non-null  object \n",
      " 1   earnings_date      75781 non-null  object \n",
      " 2   symbol             75781 non-null  object \n",
      " 3   eps                75578 non-null  float64\n",
      " 4   eps_estimated      75781 non-null  float64\n",
      " 5   earnings_time      75781 non-null  object \n",
      " 6   p.id               75781 non-null  object \n",
      " 7   p.earnings_date    75781 non-null  object \n",
      " 8   p.symbol           75781 non-null  object \n",
      " 9   open_price         75781 non-null  float64\n",
      " 10  high_price         75781 non-null  float64\n",
      " 11  low_price          75781 non-null  float64\n",
      " 12  close_price        75781 non-null  float64\n",
      " 13  adj_close          75781 non-null  float64\n",
      " 14  daily_volume       75781 non-null  int64  \n",
      " 15  unadjusted_volume  75781 non-null  int64  \n",
      " 16  change_dollars     75781 non-null  float64\n",
      " 17  change_percent     75781 non-null  float64\n",
      " 18  vwap               75781 non-null  float64\n",
      " 19  change_over_time   75781 non-null  float64\n",
      " 20  t.id               75781 non-null  object \n",
      " 21  t.earnings_date    75781 non-null  object \n",
      " 22  t.symbol           75781 non-null  object \n",
      " 23  sma_5              75781 non-null  float64\n",
      " 24  sma_10             75781 non-null  float64\n",
      " 25  sma_20             75781 non-null  float64\n",
      " 26  ema_5              75781 non-null  float64\n",
      " 27  ema_10             75781 non-null  float64\n",
      " 28  ema_20             75781 non-null  float64\n",
      " 29  rsi_14             75781 non-null  float64\n",
      " 30  wma_5              75781 non-null  float64\n",
      " 31  wma_10             75781 non-null  float64\n",
      " 32  wma_20             75781 non-null  float64\n",
      "dtypes: float64(21), int64(2), object(10)\n",
      "memory usage: 19.1+ MB\n"
     ]
    }
   ],
   "source": [
    "train_df = pd.DataFrame(train)\n",
    "train_df.info()"
   ]
  },
  {
   "cell_type": "code",
   "execution_count": 11,
   "metadata": {},
   "outputs": [],
   "source": [
    "cursor.close()\n",
    "db.close()"
   ]
  },
  {
   "cell_type": "code",
   "execution_count": null,
   "metadata": {},
   "outputs": [],
   "source": [
    "train_df.drop(['p.id', 'p.earnings_date', 'p.symbol', 't.id', 't.earnings_date', 't.symbol'], axis = 1)"
   ]
  },
  {
   "cell_type": "code",
   "execution_count": null,
   "metadata": {},
   "outputs": [],
   "source": [
    "\n",
    "is_NaN = df.isnull()\n",
    "row_has_NaN = is_NaN.any(axis=1)\n",
    "rows_with_NaN = df[row_has_NaN]"
   ]
  }
 ],
 "metadata": {
  "kernelspec": {
   "display_name": "Python 3",
   "language": "python",
   "name": "python3"
  },
  "language_info": {
   "codemirror_mode": {
    "name": "ipython",
    "version": 3
   },
   "file_extension": ".py",
   "mimetype": "text/x-python",
   "name": "python",
   "nbconvert_exporter": "python",
   "pygments_lexer": "ipython3",
   "version": "3.8.3"
  }
 },
 "nbformat": 4,
 "nbformat_minor": 4
}
