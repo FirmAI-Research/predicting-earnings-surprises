{
 "cells": [
  {
   "cell_type": "code",
   "execution_count": 1,
   "metadata": {},
   "outputs": [],
   "source": [
    "import pandas as pd\n",
    "import numpy as np\n",
    "import pymysql\n",
    "from decouple import config"
   ]
  },
  {
   "cell_type": "code",
   "execution_count": 2,
   "metadata": {},
   "outputs": [],
   "source": [
    "aws_hostname = config(\"AWS_HOST\")\n",
    "aws_username = config(\"AWS_USER\")\n",
    "aws_password = config(\"AWS_PASS\")"
   ]
  },
  {
   "cell_type": "code",
   "execution_count": 3,
   "metadata": {},
   "outputs": [
    {
     "data": {
      "text/plain": [
       "'\\nDatabase Best Practices:\\nThe process is to be simple 7 steps\\n\\nCreate connection\\nCreate cursor\\nCreate Query string\\nExecute the query\\nCommit to the query\\nClose the cursor\\nClose the connection\\n'"
      ]
     },
     "execution_count": 3,
     "metadata": {},
     "output_type": "execute_result"
    }
   ],
   "source": [
    "\"\"\"\n",
    "Database Best Practices:\n",
    "The process is to be simple 7 steps\n",
    "\n",
    "Create connection\n",
    "Create cursor\n",
    "Create Query string\n",
    "Execute the query\n",
    "Commit to the query\n",
    "Close the cursor\n",
    "Close the connection\n",
    "\"\"\""
   ]
  },
  {
   "cell_type": "code",
   "execution_count": 4,
   "metadata": {},
   "outputs": [],
   "source": [
    "# Connect to the database\n",
    "db = pymysql.connect(host=aws_hostname,user=aws_username, password=aws_password, database='rds-python', charset='utf8mb4', cursorclass=pymysql.cursors.DictCursor)"
   ]
  },
  {
   "cell_type": "code",
   "execution_count": 5,
   "metadata": {},
   "outputs": [],
   "source": [
    "cursor = db.cursor()"
   ]
  },
  {
   "cell_type": "code",
   "execution_count": 6,
   "metadata": {},
   "outputs": [
    {
     "data": {
      "text/plain": [
       "<pymysql.cursors.DictCursor at 0x7ffbe3514ac0>"
      ]
     },
     "execution_count": 6,
     "metadata": {},
     "output_type": "execute_result"
    }
   ],
   "source": [
    "cursor"
   ]
  },
  {
   "cell_type": "code",
   "execution_count": 7,
   "metadata": {},
   "outputs": [
    {
     "data": {
      "text/plain": [
       "9"
      ]
     },
     "execution_count": 7,
     "metadata": {},
     "output_type": "execute_result"
    }
   ],
   "source": [
    "cursor.execute(\"SELECT * FROM earnings_test\")"
   ]
  },
  {
   "cell_type": "code",
   "execution_count": 8,
   "metadata": {},
   "outputs": [
    {
     "data": {
      "text/plain": [
       "[{'id': '2022-01-13-TSM',\n",
       "  'date': '2022-01-',\n",
       "  'symbol': 'TSM',\n",
       "  'eps': None,\n",
       "  'eps_estimated': 1.12,\n",
       "  'time': 'bmo'},\n",
       " {'id': '2022-01-13-SAFM',\n",
       "  'date': '2022-01-',\n",
       "  'symbol': 'SAFM',\n",
       "  'eps': None,\n",
       "  'eps_estimated': 3.8,\n",
       "  'time': 'bmo'},\n",
       " {'id': '2022-01-13-KOR',\n",
       "  'date': '2022-01-',\n",
       "  'symbol': 'KOR',\n",
       "  'eps': None,\n",
       "  'eps_estimated': -0.02,\n",
       "  'time': 'bmo'},\n",
       " {'id': '2022-01-13-TRX',\n",
       "  'date': '2022-01-',\n",
       "  'symbol': 'TRX',\n",
       "  'eps': None,\n",
       "  'eps_estimated': -0.01,\n",
       "  'time': 'bmo'},\n",
       " {'id': '2022-01-13-ANIX',\n",
       "  'date': '2022-01-',\n",
       "  'symbol': 'ANIX',\n",
       "  'eps': None,\n",
       "  'eps_estimated': -0.09,\n",
       "  'time': 'bmo'},\n",
       " {'id': '2022-01-13-GAME',\n",
       "  'date': '2022-01-',\n",
       "  'symbol': 'GAME',\n",
       "  'eps': None,\n",
       "  'eps_estimated': -0.23,\n",
       "  'time': 'amc'},\n",
       " {'id': '2022-01-13-DAL',\n",
       "  'date': '2022-01-',\n",
       "  'symbol': 'DAL',\n",
       "  'eps': None,\n",
       "  'eps_estimated': 0.14,\n",
       "  'time': 'bmo'},\n",
       " {'id': '2022-01-13-BMRA',\n",
       "  'date': '2022-01-',\n",
       "  'symbol': 'BMRA',\n",
       "  'eps': -0.09,\n",
       "  'eps_estimated': -0.08,\n",
       "  'time': 'bmo'},\n",
       " {'id': '2022-01-13-LOOP',\n",
       "  'date': '2022-01-',\n",
       "  'symbol': 'LOOP',\n",
       "  'eps': -0.21,\n",
       "  'eps_estimated': -0.17,\n",
       "  'time': 'bmo'}]"
      ]
     },
     "execution_count": 8,
     "metadata": {},
     "output_type": "execute_result"
    }
   ],
   "source": [
    "data = cursor.fetchall()\n",
    "data"
   ]
  },
  {
   "cell_type": "code",
   "execution_count": 9,
   "metadata": {},
   "outputs": [],
   "source": [
    "cursor.close()\n",
    "db.close()"
   ]
  }
 ],
 "metadata": {
  "kernelspec": {
   "display_name": "Python 3",
   "language": "python",
   "name": "python3"
  },
  "language_info": {
   "codemirror_mode": {
    "name": "ipython",
    "version": 3
   },
   "file_extension": ".py",
   "mimetype": "text/x-python",
   "name": "python",
   "nbconvert_exporter": "python",
   "pygments_lexer": "ipython3",
   "version": "3.8.3"
  }
 },
 "nbformat": 4,
 "nbformat_minor": 4
}
